{
 "cells": [
  {
   "cell_type": "code",
   "execution_count": 2,
   "id": "ef13a4bc-f8d8-4946-ba3e-9f6bb697a164",
   "metadata": {},
   "outputs": [
    {
     "name": "stdout",
     "output_type": "stream",
     "text": [
      "Requirement already satisfied: matplotlib in c:\\users\\admin\\appdata\\local\\programs\\python\\python311\\lib\\site-packages (3.8.2)\n",
      "Requirement already satisfied: contourpy>=1.0.1 in c:\\users\\admin\\appdata\\local\\programs\\python\\python311\\lib\\site-packages (from matplotlib) (1.2.0)\n",
      "Requirement already satisfied: cycler>=0.10 in c:\\users\\admin\\appdata\\local\\programs\\python\\python311\\lib\\site-packages (from matplotlib) (0.12.1)\n",
      "Requirement already satisfied: fonttools>=4.22.0 in c:\\users\\admin\\appdata\\local\\programs\\python\\python311\\lib\\site-packages (from matplotlib) (4.46.0)\n",
      "Requirement already satisfied: kiwisolver>=1.3.1 in c:\\users\\admin\\appdata\\local\\programs\\python\\python311\\lib\\site-packages (from matplotlib) (1.4.5)\n",
      "Requirement already satisfied: numpy<2,>=1.21 in c:\\users\\admin\\appdata\\local\\programs\\python\\python311\\lib\\site-packages (from matplotlib) (1.26.2)\n",
      "Requirement already satisfied: packaging>=20.0 in c:\\users\\admin\\appdata\\local\\programs\\python\\python311\\lib\\site-packages (from matplotlib) (23.1)\n",
      "Requirement already satisfied: pillow>=8 in c:\\users\\admin\\appdata\\local\\programs\\python\\python311\\lib\\site-packages (from matplotlib) (10.1.0)\n",
      "Requirement already satisfied: pyparsing>=2.3.1 in c:\\users\\admin\\appdata\\local\\programs\\python\\python311\\lib\\site-packages (from matplotlib) (3.1.1)\n",
      "Requirement already satisfied: python-dateutil>=2.7 in c:\\users\\admin\\appdata\\local\\programs\\python\\python311\\lib\\site-packages (from matplotlib) (2.8.2)\n",
      "Requirement already satisfied: six>=1.5 in c:\\users\\admin\\appdata\\local\\programs\\python\\python311\\lib\\site-packages (from python-dateutil>=2.7->matplotlib) (1.16.0)\n",
      "Note: you may need to restart the kernel to use updated packages.\n"
     ]
    }
   ],
   "source": [
    "pip install matplotlib"
   ]
  },
  {
   "cell_type": "code",
   "execution_count": 1,
   "id": "33355b50-8d53-49a4-956b-ce3efbba18e5",
   "metadata": {},
   "outputs": [],
   "source": [
    "# Nhập thư viện\n",
    "\n",
    "import pandas as pd\n",
    "import matplotlib.pyplot as plt"
   ]
  },
  {
   "cell_type": "code",
   "execution_count": 2,
   "id": "e2a8ecf2-4b91-48a0-9040-bcae5dc5750d",
   "metadata": {},
   "outputs": [
    {
     "data": {
      "text/html": [
       "<div>\n",
       "<style scoped>\n",
       "    .dataframe tbody tr th:only-of-type {\n",
       "        vertical-align: middle;\n",
       "    }\n",
       "\n",
       "    .dataframe tbody tr th {\n",
       "        vertical-align: top;\n",
       "    }\n",
       "\n",
       "    .dataframe thead th {\n",
       "        text-align: right;\n",
       "    }\n",
       "</style>\n",
       "<table border=\"1\" class=\"dataframe\">\n",
       "  <thead>\n",
       "    <tr style=\"text-align: right;\">\n",
       "      <th></th>\n",
       "      <th>Date</th>\n",
       "      <th>Temp</th>\n",
       "    </tr>\n",
       "  </thead>\n",
       "  <tbody>\n",
       "    <tr>\n",
       "      <th>2497</th>\n",
       "      <td>1987-11-04</td>\n",
       "      <td>9.6</td>\n",
       "    </tr>\n",
       "    <tr>\n",
       "      <th>373</th>\n",
       "      <td>1982-01-09</td>\n",
       "      <td>16.2</td>\n",
       "    </tr>\n",
       "    <tr>\n",
       "      <th>424</th>\n",
       "      <td>1982-03-01</td>\n",
       "      <td>11.9</td>\n",
       "    </tr>\n",
       "    <tr>\n",
       "      <th>3502</th>\n",
       "      <td>1990-08-06</td>\n",
       "      <td>7.8</td>\n",
       "    </tr>\n",
       "    <tr>\n",
       "      <th>1179</th>\n",
       "      <td>1984-03-25</td>\n",
       "      <td>9.4</td>\n",
       "    </tr>\n",
       "    <tr>\n",
       "      <th>2117</th>\n",
       "      <td>1986-10-20</td>\n",
       "      <td>7.9</td>\n",
       "    </tr>\n",
       "    <tr>\n",
       "      <th>1927</th>\n",
       "      <td>1986-04-13</td>\n",
       "      <td>9.0</td>\n",
       "    </tr>\n",
       "    <tr>\n",
       "      <th>3474</th>\n",
       "      <td>1990-07-09</td>\n",
       "      <td>10.2</td>\n",
       "    </tr>\n",
       "    <tr>\n",
       "      <th>2422</th>\n",
       "      <td>1987-08-21</td>\n",
       "      <td>5.1</td>\n",
       "    </tr>\n",
       "    <tr>\n",
       "      <th>2308</th>\n",
       "      <td>1987-04-29</td>\n",
       "      <td>13.5</td>\n",
       "    </tr>\n",
       "  </tbody>\n",
       "</table>\n",
       "</div>"
      ],
      "text/plain": [
       "            Date  Temp\n",
       "2497  1987-11-04   9.6\n",
       "373   1982-01-09  16.2\n",
       "424   1982-03-01  11.9\n",
       "3502  1990-08-06   7.8\n",
       "1179  1984-03-25   9.4\n",
       "2117  1986-10-20   7.9\n",
       "1927  1986-04-13   9.0\n",
       "3474  1990-07-09  10.2\n",
       "2422  1987-08-21   5.1\n",
       "2308  1987-04-29  13.5"
      ]
     },
     "execution_count": 2,
     "metadata": {},
     "output_type": "execute_result"
    }
   ],
   "source": [
    "# Nhập dữ liệu\n",
    "df = pd.read_csv('daily-min-temperatures.csv')\n",
    "df.sample(10)"
   ]
  },
  {
   "cell_type": "code",
   "execution_count": 3,
   "id": "651830eb-d9a1-4486-97ab-dd0c420f2c81",
   "metadata": {},
   "outputs": [
    {
     "data": {
      "text/plain": [
       "count    3650.000000\n",
       "mean       11.177753\n",
       "std         4.071837\n",
       "min         0.000000\n",
       "25%         8.300000\n",
       "50%        11.000000\n",
       "75%        14.000000\n",
       "max        26.300000\n",
       "Name: Temp, dtype: float64"
      ]
     },
     "execution_count": 3,
     "metadata": {},
     "output_type": "execute_result"
    }
   ],
   "source": [
    "df['Temp'].describe()"
   ]
  },
  {
   "cell_type": "markdown",
   "id": "b9cba4b0-f6f4-4ada-b469-b057744a13a4",
   "metadata": {},
   "source": [
    "#### Nhận xét: \n",
    "giá trị trung bình và giá trị trung vị gần bằng nhau\n"
   ]
  },
  {
   "cell_type": "markdown",
   "id": "e1ad8a1f-713f-41b0-b3fd-6844226c3f5e",
   "metadata": {},
   "source": [
    "# Trực qua hoá dữ liệu"
   ]
  },
  {
   "cell_type": "markdown",
   "id": "9ab0c5a3-4c3d-468d-86de-6e8c24d11250",
   "metadata": {},
   "source": [
    "#### Vẽ biểu đồ histogram cho cột Temp"
   ]
  },
  {
   "cell_type": "code",
   "execution_count": 5,
   "id": "85c8b383-8137-465d-be7a-62be68125030",
   "metadata": {},
   "outputs": [
    {
     "data": {
      "text/plain": [
       "(array([0., 0., 0., 0., 0., 1., 0., 0., 0., 0.]),\n",
       " array([-0.5, -0.4, -0.3, -0.2, -0.1,  0. ,  0.1,  0.2,  0.3,  0.4,  0.5]),\n",
       " <BarContainer object of 10 artists>)"
      ]
     },
     "execution_count": 5,
     "metadata": {},
     "output_type": "execute_result"
    },
    {
     "data": {
      "image/png": "[encoded data removed]",
      "text/plain": [
       "<Figure size 640x480 with 1 Axes>"
      ]
     },
     "metadata": {},
     "output_type": "display_data"
    }
   ],
   "source": [
    "plt.hist('Temp')"
   ]
  },
  {
   "cell_type": "code",
   "execution_count": 4,
   "id": "f9fe3bce-4cfe-4396-a9de-96c69c866dc8",
   "metadata": {},
   "outputs": [
    {
     "data": {
      "image/png": "[encoded data removed]",
      "text/plain": [
       "<Figure size 640x480 with 1 Axes>"
      ]
     },
     "metadata": {},
     "output_type": "display_data"
    }
   ],
   "source": [
    "plt.hist(df['Temp'], bins = 45)\n",
    "plt.show()"
   ]
  },
  {
   "cell_type": "code",
   "execution_count": 6,
   "id": "eb4b9982-f70d-47df-b678-f332df444f0d",
   "metadata": {},
   "outputs": [
    {
     "data": {
      "image/png": "[encoded data removed]",
      "text/plain": [
       "<Figure size 640x480 with 1 Axes>"
      ]
     },
     "metadata": {},
     "output_type": "display_data"
    }
   ],
   "source": [
    "# làm đẹp \n",
    "\n",
    "plt.hist(df['Temp'], bins = 45, range = (1, 23), histtype = 'step')\n",
    "plt.title('Temperature Histogram', fontsize = 16)\n",
    "plt.show()"
   ]
  },
  {
   "cell_type": "markdown",
   "id": "acef127c-9537-4307-94aa-83d232a00607",
   "metadata": {},
   "source": [
    "##### Nhận xét:\n",
    "\n",
    "Giá trị xuất hiện nhiều nhất là trong khoảng 10-11 độ.\n",
    "Có một số giá trị bất thường ở cả 2 phía. Một số rất ít ngày có nhiệt độ cao bất thường trên 23 độ và thấp bất thường dưới 1 độ.\n",
    "Nhìn chung, nếu loại bỏ các ngày có giá trị bất thường, có thể nói nhiệt độ tuân theo phân phối chuẩn."
   ]
  },
  {
   "cell_type": "markdown",
   "id": "0a681609-9187-447b-9c99-32834b2cabbe",
   "metadata": {},
   "source": [
    "#### Vẽ biểu đồ thể hiện xu hướng của nhiệt độ theo thời gian"
   ]
  },
  {
   "cell_type": "code",
   "execution_count": 7,
   "id": "c69b6165-8a0b-4754-ac0c-349121d412e2",
   "metadata": {},
   "outputs": [
    {
     "data": {
      "text/plain": [
       "[<matplotlib.lines.Line2D at 0x11b104b9410>]"
      ]
     },
     "execution_count": 7,
     "metadata": {},
     "output_type": "execute_result"
    },
    {
     "data": {
      "image/png": "[encoded data removed]",
      "text/plain": [
       "<Figure size 640x480 with 1 Axes>"
      ]
     },
     "metadata": {},
     "output_type": "display_data"
    }
   ],
   "source": [
    "plt.plot(df['Date'], df['Temp'])"
   ]
  },
  {
   "cell_type": "markdown",
   "id": "921c33ca-d76f-44c5-a04f-be3f711ec914",
   "metadata": {},
   "source": [
    "#### Nhận xét:\n",
    "\n",
    "Có thể thay xu hướng thay đổi nhiệt độ có tính chu kỳ.\n",
    "Dựa vào đồ thị, ta phán đoán chu kì thay đổi của nhiệt độ là theo năm.\n",
    "Tuy nhiên, do khoảng thời gian biểu diễn dài nên khó có thể nhìn chi tiết xu hướng biến đổi nhiệt độ trong năm. Do đó ta vẽ bổ sung biểu đồ đường thể hiện xu hướng nhiệt độ theo từng năm quan tâm."
   ]
  },
  {
   "cell_type": "code",
   "execution_count": null,
   "id": "a42ff042-03b5-4696-9283-3aaa9944a99c",
   "metadata": {},
   "outputs": [],
   "source": [
    "# Vẽ sự thay đổi của nhiệt độ theo thời gian\n",
    "# giới hạn thời gian trong khoảng từ 1/1/1990 đến 12/31/1990\n",
    "\n",
    "# chuẩn bị dữ liệu: lọc dữ liệu\n",
    "df_1990 = \n",
    "\n"
   ]
  },
  {
   "cell_type": "code",
   "execution_count": null,
   "id": "74d79f96-7430-4eff-8ad2-07948c12db6d",
   "metadata": {},
   "outputs": [],
   "source": [
    "Chuyển đổi DL về dạng ngày tháng datetime\n",
    "lọc sau khi chuyển đổi\n",
    "đảm bảo an toàn"
   ]
  },
  {
   "cell_type": "markdown",
   "id": "f5053f48-0bdb-4859-bc2e-955c40061c9d",
   "metadata": {},
   "source": [
    "# Dữ liệu Online Retail\n"
   ]
  },
  {
   "cell_type": "code",
   "execution_count": 9,
   "id": "9ec2a6aa-81b1-4fea-826d-64726777572a",
   "metadata": {},
   "outputs": [],
   "source": [
    "# Đọc dữ liệu\n",
    "\n",
    "df_1= pd.read_csv('OnlineRetail.csv', encoding='unicode_escape')"
   ]
  },
  {
   "cell_type": "code",
   "execution_count": 12,
   "id": "8f0184fe-2e91-4487-93ad-793b1f16113d",
   "metadata": {},
   "outputs": [
    {
     "data": {
      "text/html": [
       "<div>\n",
       "<style scoped>\n",
       "    .dataframe tbody tr th:only-of-type {\n",
       "        vertical-align: middle;\n",
       "    }\n",
       "\n",
       "    .dataframe tbody tr th {\n",
       "        vertical-align: top;\n",
       "    }\n",
       "\n",
       "    .dataframe thead th {\n",
       "        text-align: right;\n",
       "    }\n",
       "</style>\n",
       "<table border=\"1\" class=\"dataframe\">\n",
       "  <thead>\n",
       "    <tr style=\"text-align: right;\">\n",
       "      <th></th>\n",
       "      <th>InvoiceNo</th>\n",
       "      <th>StockCode</th>\n",
       "      <th>Description</th>\n",
       "      <th>Quantity</th>\n",
       "      <th>InvoiceDate</th>\n",
       "      <th>UnitPrice</th>\n",
       "      <th>CustomerID</th>\n",
       "      <th>Country</th>\n",
       "    </tr>\n",
       "  </thead>\n",
       "  <tbody>\n",
       "    <tr>\n",
       "      <th>87790</th>\n",
       "      <td>543732</td>\n",
       "      <td>21428</td>\n",
       "      <td>SET3 BOOK BOX GREEN GINGHAM FLOWER</td>\n",
       "      <td>1</td>\n",
       "      <td>2/11/2011 12:02</td>\n",
       "      <td>8.29</td>\n",
       "      <td>NaN</td>\n",
       "      <td>United Kingdom</td>\n",
       "    </tr>\n",
       "    <tr>\n",
       "      <th>61998</th>\n",
       "      <td>541493</td>\n",
       "      <td>21327</td>\n",
       "      <td>SKULLS WRITING SET</td>\n",
       "      <td>3</td>\n",
       "      <td>1/18/2011 14:29</td>\n",
       "      <td>2.46</td>\n",
       "      <td>NaN</td>\n",
       "      <td>United Kingdom</td>\n",
       "    </tr>\n",
       "    <tr>\n",
       "      <th>500705</th>\n",
       "      <td>578805</td>\n",
       "      <td>20725</td>\n",
       "      <td>LUNCH BAG RED RETROSPOT</td>\n",
       "      <td>10</td>\n",
       "      <td>11/25/2011 12:57</td>\n",
       "      <td>1.65</td>\n",
       "      <td>16401.0</td>\n",
       "      <td>United Kingdom</td>\n",
       "    </tr>\n",
       "    <tr>\n",
       "      <th>122282</th>\n",
       "      <td>C546859</td>\n",
       "      <td>M</td>\n",
       "      <td>Manual</td>\n",
       "      <td>-102</td>\n",
       "      <td>3/17/2011 14:39</td>\n",
       "      <td>5.45</td>\n",
       "      <td>17603.0</td>\n",
       "      <td>United Kingdom</td>\n",
       "    </tr>\n",
       "    <tr>\n",
       "      <th>281963</th>\n",
       "      <td>561614</td>\n",
       "      <td>23342</td>\n",
       "      <td>MINT DINER WALL CLOCK</td>\n",
       "      <td>2</td>\n",
       "      <td>7/28/2011 12:50</td>\n",
       "      <td>8.50</td>\n",
       "      <td>13871.0</td>\n",
       "      <td>United Kingdom</td>\n",
       "    </tr>\n",
       "    <tr>\n",
       "      <th>155560</th>\n",
       "      <td>549999</td>\n",
       "      <td>22626</td>\n",
       "      <td>BLACK KITCHEN SCALES</td>\n",
       "      <td>2</td>\n",
       "      <td>4/14/2011 9:09</td>\n",
       "      <td>8.50</td>\n",
       "      <td>15813.0</td>\n",
       "      <td>United Kingdom</td>\n",
       "    </tr>\n",
       "    <tr>\n",
       "      <th>348986</th>\n",
       "      <td>567475</td>\n",
       "      <td>84030E</td>\n",
       "      <td>ENGLISH ROSE HOT WATER BOTTLE</td>\n",
       "      <td>1</td>\n",
       "      <td>9/20/2011 13:11</td>\n",
       "      <td>4.25</td>\n",
       "      <td>16360.0</td>\n",
       "      <td>United Kingdom</td>\n",
       "    </tr>\n",
       "    <tr>\n",
       "      <th>435848</th>\n",
       "      <td>574076</td>\n",
       "      <td>72349B</td>\n",
       "      <td>SET/6 PURPLE BUTTERFLY T-LIGHTS</td>\n",
       "      <td>2</td>\n",
       "      <td>11/2/2011 15:38</td>\n",
       "      <td>4.13</td>\n",
       "      <td>NaN</td>\n",
       "      <td>United Kingdom</td>\n",
       "    </tr>\n",
       "    <tr>\n",
       "      <th>106148</th>\n",
       "      <td>545314</td>\n",
       "      <td>21039</td>\n",
       "      <td>RED RETROSPOT SHOPPING BAG</td>\n",
       "      <td>6</td>\n",
       "      <td>3/1/2011 14:11</td>\n",
       "      <td>2.55</td>\n",
       "      <td>12866.0</td>\n",
       "      <td>Belgium</td>\n",
       "    </tr>\n",
       "    <tr>\n",
       "      <th>51730</th>\n",
       "      <td>540672</td>\n",
       "      <td>22965</td>\n",
       "      <td>3 TRADITIONAl BISCUIT CUTTERS  SET</td>\n",
       "      <td>6</td>\n",
       "      <td>1/10/2011 15:51</td>\n",
       "      <td>2.10</td>\n",
       "      <td>15281.0</td>\n",
       "      <td>United Kingdom</td>\n",
       "    </tr>\n",
       "  </tbody>\n",
       "</table>\n",
       "</div>"
      ],
      "text/plain": [
       "       InvoiceNo StockCode                          Description  Quantity  \\\n",
       "87790     543732     21428  SET3 BOOK BOX GREEN GINGHAM FLOWER          1   \n",
       "61998     541493     21327                  SKULLS WRITING SET          3   \n",
       "500705    578805     20725              LUNCH BAG RED RETROSPOT        10   \n",
       "122282   C546859         M                               Manual      -102   \n",
       "281963    561614     23342                MINT DINER WALL CLOCK         2   \n",
       "155560    549999     22626                 BLACK KITCHEN SCALES         2   \n",
       "348986    567475    84030E        ENGLISH ROSE HOT WATER BOTTLE         1   \n",
       "435848    574076    72349B      SET/6 PURPLE BUTTERFLY T-LIGHTS         2   \n",
       "106148    545314     21039           RED RETROSPOT SHOPPING BAG         6   \n",
       "51730     540672     22965   3 TRADITIONAl BISCUIT CUTTERS  SET         6   \n",
       "\n",
       "             InvoiceDate  UnitPrice  CustomerID         Country  \n",
       "87790    2/11/2011 12:02       8.29         NaN  United Kingdom  \n",
       "61998    1/18/2011 14:29       2.46         NaN  United Kingdom  \n",
       "500705  11/25/2011 12:57       1.65     16401.0  United Kingdom  \n",
       "122282   3/17/2011 14:39       5.45     17603.0  United Kingdom  \n",
       "281963   7/28/2011 12:50       8.50     13871.0  United Kingdom  \n",
       "155560    4/14/2011 9:09       8.50     15813.0  United Kingdom  \n",
       "348986   9/20/2011 13:11       4.25     16360.0  United Kingdom  \n",
       "435848   11/2/2011 15:38       4.13         NaN  United Kingdom  \n",
       "106148    3/1/2011 14:11       2.55     12866.0         Belgium  \n",
       "51730    1/10/2011 15:51       2.10     15281.0  United Kingdom  "
      ]
     },
     "execution_count": 12,
     "metadata": {},
     "output_type": "execute_result"
    }
   ],
   "source": [
    "# Xem 10 dòng ngẫu nhiên\n",
    "df_1.sample(10)"
   ]
  },
  {
   "cell_type": "code",
   "execution_count": 14,
   "id": "d950a64d-cfb3-4893-918f-2b4b1b21d817",
   "metadata": {},
   "outputs": [
    {
     "name": "stdout",
     "output_type": "stream",
     "text": [
      "<class 'pandas.core.frame.DataFrame'>\n",
      "RangeIndex: 541909 entries, 0 to 541908\n",
      "Data columns (total 8 columns):\n",
      " #   Column       Non-Null Count   Dtype  \n",
      "---  ------       --------------   -----  \n",
      " 0   InvoiceNo    541909 non-null  object \n",
      " 1   StockCode    541909 non-null  object \n",
      " 2   Description  540455 non-null  object \n",
      " 3   Quantity     541909 non-null  int64  \n",
      " 4   InvoiceDate  541909 non-null  object \n",
      " 5   UnitPrice    541909 non-null  float64\n",
      " 6   CustomerID   406829 non-null  float64\n",
      " 7   Country      541909 non-null  object \n",
      "dtypes: float64(2), int64(1), object(5)\n",
      "memory usage: 33.1+ MB\n"
     ]
    }
   ],
   "source": [
    "df_1.info()"
   ]
  },
  {
   "cell_type": "markdown",
   "id": "f9317c6b-69f0-4d9f-9cf3-f8516e80b930",
   "metadata": {},
   "source": [
    "### Vẽ biểu đồ đường thể hiện xu hướng thay đổi số lượng đơn hàng theo thời gian trong năm 2011\n",
    "\n",
    "### Vẽ biểu đồ cột so sánh số lượng đơn hàng trong các tháng của năm 2011"
   ]
  },
  {
   "cell_type": "code",
   "execution_count": 13,
   "id": "d96705d0-0ea4-4225-9969-1f2de79a4e8a",
   "metadata": {},
   "outputs": [],
   "source": [
    "# Vẽ biểu đồ đường thể hiện xu hướng thay đổi số lượng đơn hàng theo thời gian trong năm 2011"
   ]
  },
  {
   "cell_type": "code",
   "execution_count": 15,
   "id": "8f94136e-466b-40c3-875d-0302fec24900",
   "metadata": {},
   "outputs": [
    {
     "ename": "SyntaxError",
     "evalue": "invalid syntax (398975680.py, line 6)",
     "output_type": "error",
     "traceback": [
      "\u001b[1;36m  Cell \u001b[1;32mIn[15], line 6\u001b[1;36m\u001b[0m\n\u001b[1;33m    d1 =\u001b[0m\n\u001b[1;37m         ^\u001b[0m\n\u001b[1;31mSyntaxError\u001b[0m\u001b[1;31m:\u001b[0m invalid syntax\n"
     ]
    }
   ],
   "source": [
    "# Chuẩn bị dữ liệu\n",
    "    # Lọc DL: chỉ bao gồm năm 2011 --> tạo ra cột năm 2011 -> chuyển đổi cột date về dạng ngày tháng -> lọc\n",
    "# cần có 2 cột: cột date, cột số lượng đơn hàng theo ngày -> tạo ra cột số lượng theo ngày\n",
    "    \n",
    "\n",
    "d1 = "
   ]
  }
 ],
 "metadata": {
  "kernelspec": {
   "display_name": "Python 3 (ipykernel)",
   "language": "python",
   "name": "python3"
  },
  "language_info": {
   "codemirror_mode": {
    "name": "ipython",
    "version": 3
   },
   "file_extension": ".py",
   "mimetype": "text/x-python",
   "name": "python",
   "nbconvert_exporter": "python",
   "pygments_lexer": "ipython3",
   "version": "3.11.4"
  }
 },
 "nbformat": 4,
 "nbformat_minor": 5
}
