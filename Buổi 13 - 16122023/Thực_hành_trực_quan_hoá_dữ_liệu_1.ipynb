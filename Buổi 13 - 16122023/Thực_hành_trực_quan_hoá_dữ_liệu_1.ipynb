{
 "cells": [
  {
   "cell_type": "markdown",
   "id": "40f9bb52-b657-4ed3-ad1c-e55d6f7b262f",
   "metadata": {},
   "source": [
    "# Set up"
   ]
  },
  {
   "cell_type": "code",
   "execution_count": 2,
   "id": "ef13a4bc-f8d8-4946-ba3e-9f6bb697a164",
   "metadata": {},
   "outputs": [
    {
     "name": "stdout",
     "output_type": "stream",
     "text": [
      "Requirement already satisfied: matplotlib in c:\\users\\admin\\appdata\\local\\programs\\python\\python311\\lib\\site-packages (3.8.2)\n",
      "Requirement already satisfied: contourpy>=1.0.1 in c:\\users\\admin\\appdata\\local\\programs\\python\\python311\\lib\\site-packages (from matplotlib) (1.2.0)\n",
      "Requirement already satisfied: cycler>=0.10 in c:\\users\\admin\\appdata\\local\\programs\\python\\python311\\lib\\site-packages (from matplotlib) (0.12.1)\n",
      "Requirement already satisfied: fonttools>=4.22.0 in c:\\users\\admin\\appdata\\local\\programs\\python\\python311\\lib\\site-packages (from matplotlib) (4.46.0)\n",
      "Requirement already satisfied: kiwisolver>=1.3.1 in c:\\users\\admin\\appdata\\local\\programs\\python\\python311\\lib\\site-packages (from matplotlib) (1.4.5)\n",
      "Requirement already satisfied: numpy<2,>=1.21 in c:\\users\\admin\\appdata\\local\\programs\\python\\python311\\lib\\site-packages (from matplotlib) (1.26.2)\n",
      "Requirement already satisfied: packaging>=20.0 in c:\\users\\admin\\appdata\\local\\programs\\python\\python311\\lib\\site-packages (from matplotlib) (23.1)\n",
      "Requirement already satisfied: pillow>=8 in c:\\users\\admin\\appdata\\local\\programs\\python\\python311\\lib\\site-packages (from matplotlib) (10.1.0)\n",
      "Requirement already satisfied: pyparsing>=2.3.1 in c:\\users\\admin\\appdata\\local\\programs\\python\\python311\\lib\\site-packages (from matplotlib) (3.1.1)\n",
      "Requirement already satisfied: python-dateutil>=2.7 in c:\\users\\admin\\appdata\\local\\programs\\python\\python311\\lib\\site-packages (from matplotlib) (2.8.2)\n",
      "Requirement already satisfied: six>=1.5 in c:\\users\\admin\\appdata\\local\\programs\\python\\python311\\lib\\site-packages (from python-dateutil>=2.7->matplotlib) (1.16.0)\n",
      "Note: you may need to restart the kernel to use updated packages.\n"
     ]
    }
   ],
   "source": [
    "pip install matplotlib"
   ]
  },
  {
   "cell_type": "code",
   "execution_count": 2,
   "id": "33355b50-8d53-49a4-956b-ce3efbba18e5",
   "metadata": {},
   "outputs": [],
   "source": [
    "# Nhập thư viện\n",
    "\n",
    "import pandas as pd\n",
    "import matplotlib.pyplot as plt"
   ]
  },
  {
   "cell_type": "code",
   "execution_count": 3,
   "id": "e2a8ecf2-4b91-48a0-9040-bcae5dc5750d",
   "metadata": {},
   "outputs": [
    {
     "data": {
      "text/html": [
       "<div>\n",
       "<style scoped>\n",
       "    .dataframe tbody tr th:only-of-type {\n",
       "        vertical-align: middle;\n",
       "    }\n",
       "\n",
       "    .dataframe tbody tr th {\n",
       "        vertical-align: top;\n",
       "    }\n",
       "\n",
       "    .dataframe thead th {\n",
       "        text-align: right;\n",
       "    }\n",
       "</style>\n",
       "<table border=\"1\" class=\"dataframe\">\n",
       "  <thead>\n",
       "    <tr style=\"text-align: right;\">\n",
       "      <th></th>\n",
       "      <th>Date</th>\n",
       "      <th>Temp</th>\n",
       "    </tr>\n",
       "  </thead>\n",
       "  <tbody>\n",
       "    <tr>\n",
       "      <th>3518</th>\n",
       "      <td>1990-08-22</td>\n",
       "      <td>6.1</td>\n",
       "    </tr>\n",
       "    <tr>\n",
       "      <th>2341</th>\n",
       "      <td>1987-06-01</td>\n",
       "      <td>8.5</td>\n",
       "    </tr>\n",
       "    <tr>\n",
       "      <th>471</th>\n",
       "      <td>1982-04-17</td>\n",
       "      <td>9.3</td>\n",
       "    </tr>\n",
       "    <tr>\n",
       "      <th>2484</th>\n",
       "      <td>1987-10-22</td>\n",
       "      <td>9.2</td>\n",
       "    </tr>\n",
       "    <tr>\n",
       "      <th>1451</th>\n",
       "      <td>1984-12-22</td>\n",
       "      <td>11.4</td>\n",
       "    </tr>\n",
       "    <tr>\n",
       "      <th>956</th>\n",
       "      <td>1983-08-15</td>\n",
       "      <td>13.8</td>\n",
       "    </tr>\n",
       "    <tr>\n",
       "      <th>1763</th>\n",
       "      <td>1985-10-31</td>\n",
       "      <td>6.8</td>\n",
       "    </tr>\n",
       "    <tr>\n",
       "      <th>3552</th>\n",
       "      <td>1990-09-25</td>\n",
       "      <td>16.3</td>\n",
       "    </tr>\n",
       "    <tr>\n",
       "      <th>3349</th>\n",
       "      <td>1990-03-06</td>\n",
       "      <td>17.2</td>\n",
       "    </tr>\n",
       "    <tr>\n",
       "      <th>1646</th>\n",
       "      <td>1985-07-06</td>\n",
       "      <td>4.7</td>\n",
       "    </tr>\n",
       "  </tbody>\n",
       "</table>\n",
       "</div>"
      ],
      "text/plain": [
       "            Date  Temp\n",
       "3518  1990-08-22   6.1\n",
       "2341  1987-06-01   8.5\n",
       "471   1982-04-17   9.3\n",
       "2484  1987-10-22   9.2\n",
       "1451  1984-12-22  11.4\n",
       "956   1983-08-15  13.8\n",
       "1763  1985-10-31   6.8\n",
       "3552  1990-09-25  16.3\n",
       "3349  1990-03-06  17.2\n",
       "1646  1985-07-06   4.7"
      ]
     },
     "execution_count": 3,
     "metadata": {},
     "output_type": "execute_result"
    }
   ],
   "source": [
    "# Đọc dữ liệu\n",
    "df = pd.read_csv('daily-min-temperatures.csv')\n",
    "df.sample(10)"
   ]
  },
  {
   "cell_type": "code",
   "execution_count": 4,
   "id": "f39a1ebf-6b78-48f6-b6d6-605d6b05a5de",
   "metadata": {},
   "outputs": [
    {
     "name": "stdout",
     "output_type": "stream",
     "text": [
      "<class 'pandas.core.frame.DataFrame'>\n",
      "RangeIndex: 3650 entries, 0 to 3649\n",
      "Data columns (total 2 columns):\n",
      " #   Column  Non-Null Count  Dtype  \n",
      "---  ------  --------------  -----  \n",
      " 0   Date    3650 non-null   object \n",
      " 1   Temp    3650 non-null   float64\n",
      "dtypes: float64(1), object(1)\n",
      "memory usage: 57.2+ KB\n"
     ]
    }
   ],
   "source": [
    "# Kiểm tra dạng dữ liệu\n",
    "\n",
    "df.info()"
   ]
  },
  {
   "cell_type": "code",
   "execution_count": 5,
   "id": "78f63572-5c36-47db-9f59-98cc7ae43247",
   "metadata": {},
   "outputs": [
    {
     "data": {
      "text/html": [
       "<div>\n",
       "<style scoped>\n",
       "    .dataframe tbody tr th:only-of-type {\n",
       "        vertical-align: middle;\n",
       "    }\n",
       "\n",
       "    .dataframe tbody tr th {\n",
       "        vertical-align: top;\n",
       "    }\n",
       "\n",
       "    .dataframe thead th {\n",
       "        text-align: right;\n",
       "    }\n",
       "</style>\n",
       "<table border=\"1\" class=\"dataframe\">\n",
       "  <thead>\n",
       "    <tr style=\"text-align: right;\">\n",
       "      <th></th>\n",
       "      <th>Temp</th>\n",
       "    </tr>\n",
       "  </thead>\n",
       "  <tbody>\n",
       "    <tr>\n",
       "      <th>count</th>\n",
       "      <td>3650.000000</td>\n",
       "    </tr>\n",
       "    <tr>\n",
       "      <th>mean</th>\n",
       "      <td>11.177753</td>\n",
       "    </tr>\n",
       "    <tr>\n",
       "      <th>std</th>\n",
       "      <td>4.071837</td>\n",
       "    </tr>\n",
       "    <tr>\n",
       "      <th>min</th>\n",
       "      <td>0.000000</td>\n",
       "    </tr>\n",
       "    <tr>\n",
       "      <th>25%</th>\n",
       "      <td>8.300000</td>\n",
       "    </tr>\n",
       "    <tr>\n",
       "      <th>50%</th>\n",
       "      <td>11.000000</td>\n",
       "    </tr>\n",
       "    <tr>\n",
       "      <th>75%</th>\n",
       "      <td>14.000000</td>\n",
       "    </tr>\n",
       "    <tr>\n",
       "      <th>max</th>\n",
       "      <td>26.300000</td>\n",
       "    </tr>\n",
       "  </tbody>\n",
       "</table>\n",
       "</div>"
      ],
      "text/plain": [
       "              Temp\n",
       "count  3650.000000\n",
       "mean     11.177753\n",
       "std       4.071837\n",
       "min       0.000000\n",
       "25%       8.300000\n",
       "50%      11.000000\n",
       "75%      14.000000\n",
       "max      26.300000"
      ]
     },
     "execution_count": 5,
     "metadata": {},
     "output_type": "execute_result"
    }
   ],
   "source": [
    "# Xem tổng quát thống kê\n",
    "df.describe()"
   ]
  },
  {
   "cell_type": "markdown",
   "id": "6e8f9dea-b8f1-416a-a0fe-fddd3dc84a28",
   "metadata": {},
   "source": [
    "#### Nhận xét:\n",
    "\n",
    "Nhiệt độ trung bình là 11 độ, độ lệch nhiệt độ là 4, nhiệt độ min là 0, nhiệt độ max là 26.\n",
    "\n",
    "Dữ liệu có vẻ cân (giá trị trung bình và độ lệch chuẩn, nhiệt độ dao động tầm 7 - 15 độ, nó cũng gần với Q1 và Q3 )"
   ]
  },
  {
   "cell_type": "code",
   "execution_count": 3,
   "id": "651830eb-d9a1-4486-97ab-dd0c420f2c81",
   "metadata": {},
   "outputs": [
    {
     "data": {
      "text/plain": [
       "count    3650.000000\n",
       "mean       11.177753\n",
       "std         4.071837\n",
       "min         0.000000\n",
       "25%         8.300000\n",
       "50%        11.000000\n",
       "75%        14.000000\n",
       "max        26.300000\n",
       "Name: Temp, dtype: float64"
      ]
     },
     "execution_count": 3,
     "metadata": {},
     "output_type": "execute_result"
    }
   ],
   "source": [
    "df['Temp'].describe()"
   ]
  },
  {
   "cell_type": "markdown",
   "id": "b9cba4b0-f6f4-4ada-b469-b057744a13a4",
   "metadata": {},
   "source": [
    "#### Nhận xét: \n",
    "giá trị trung bình và giá trị trung vị gần bằng nhau\n"
   ]
  },
  {
   "cell_type": "markdown",
   "id": "e1ad8a1f-713f-41b0-b3fd-6844226c3f5e",
   "metadata": {},
   "source": [
    "# Trực qua hoá dữ liệu"
   ]
  },
  {
   "cell_type": "markdown",
   "id": "9ab0c5a3-4c3d-468d-86de-6e8c24d11250",
   "metadata": {},
   "source": [
    "#### Vẽ biểu đồ histogram cho cột Temp"
   ]
  },
  {
   "cell_type": "code",
   "execution_count": 9,
   "id": "c04eefe6-0640-4da1-8e71-c4a8c4a141b5",
   "metadata": {},
   "outputs": [
    {
     "data": {
      "text/plain": [
       "<Axes: >"
      ]
     },
     "execution_count": 9,
     "metadata": {},
     "output_type": "execute_result"
    },
    {
     "data": {
      "image/png": "[encoded data removed]",
      "text/plain": [
       "<Figure size 640x480 with 1 Axes>"
      ]
     },
     "metadata": {},
     "output_type": "display_data"
    }
   ],
   "source": [
    "df['Temp'].hist()"
   ]
  },
  {
   "cell_type": "code",
   "execution_count": 10,
   "id": "85c8b383-8137-465d-be7a-62be68125030",
   "metadata": {},
   "outputs": [
    {
     "data": {
      "text/plain": [
       "(array([ 53., 181., 564., 862., 830., 670., 347., 102.,  32.,   9.]),\n",
       " array([ 0.  ,  2.63,  5.26,  7.89, 10.52, 13.15, 15.78, 18.41, 21.04,\n",
       "        23.67, 26.3 ]),\n",
       " <BarContainer object of 10 artists>)"
      ]
     },
     "execution_count": 10,
     "metadata": {},
     "output_type": "execute_result"
    },
    {
     "data": {
      "image/png": "[encoded data removed]",
      "text/plain": [
       "<Figure size 640x480 with 1 Axes>"
      ]
     },
     "metadata": {},
     "output_type": "display_data"
    }
   ],
   "source": [
    "# sử dụng thư viện matplotlib\n",
    "\n",
    "plt.hist(df['Temp'])"
   ]
  },
  {
   "cell_type": "code",
   "execution_count": 4,
   "id": "f9fe3bce-4cfe-4396-a9de-96c69c866dc8",
   "metadata": {},
   "outputs": [
    {
     "data": {
      "image/png": "[encoded data removed]",
      "text/plain": [
       "<Figure size 640x480 with 1 Axes>"
      ]
     },
     "metadata": {},
     "output_type": "display_data"
    }
   ],
   "source": [
    "plt.hist(df['Temp'], bins = 45)\n",
    "plt.show()"
   ]
  },
  {
   "cell_type": "code",
   "execution_count": 6,
   "id": "eb4b9982-f70d-47df-b678-f332df444f0d",
   "metadata": {},
   "outputs": [
    {
     "data": {
      "image/png": "[encoded data removed]",
      "text/plain": [
       "<Figure size 640x480 with 1 Axes>"
      ]
     },
     "metadata": {},
     "output_type": "display_data"
    }
   ],
   "source": [
    "# làm đẹp \n",
    "\n",
    "plt.hist(df['Temp'], bins = 45, range = (1, 23), histtype = 'step')\n",
    "plt.title('Temperature Histogram', fontsize = 16)\n",
    "plt.show()"
   ]
  },
  {
   "cell_type": "markdown",
   "id": "acef127c-9537-4307-94aa-83d232a00607",
   "metadata": {},
   "source": [
    "##### Nhận xét:\n",
    "\n",
    "Giá trị xuất hiện nhiều nhất là trong khoảng 10-11 độ.\n",
    "Có một số giá trị bất thường ở cả 2 phía. Một số rất ít ngày có nhiệt độ cao bất thường trên 23 độ và thấp bất thường dưới 1 độ.\n",
    "Nhìn chung, nếu loại bỏ các ngày có giá trị bất thường, có thể nói nhiệt độ tuân theo phân phối chuẩn."
   ]
  },
  {
   "cell_type": "markdown",
   "id": "0a681609-9187-447b-9c99-32834b2cabbe",
   "metadata": {},
   "source": [
    "#### Vẽ biểu đồ thể hiện xu hướng của nhiệt độ theo thời gian"
   ]
  },
  {
   "cell_type": "code",
   "execution_count": null,
   "id": "b8395baf-975e-4c79-a82c-f5004e8c24da",
   "metadata": {},
   "outputs": [],
   "source": [
    "# vẽ biểu thị xu hướng theo thời gian --> line plot\n",
    "\n",
    "#chuẩn bị dữ liệu, cột x cột y\n",
    "#vẽ"
   ]
  },
  {
   "cell_type": "code",
   "execution_count": 7,
   "id": "c69b6165-8a0b-4754-ac0c-349121d412e2",
   "metadata": {},
   "outputs": [
    {
     "data": {
      "text/plain": [
       "[<matplotlib.lines.Line2D at 0x11b104b9410>]"
      ]
     },
     "execution_count": 7,
     "metadata": {},
     "output_type": "execute_result"
    },
    {
     "data": {
      "image/png": "[encoded data removed]",
      "text/plain": [
       "<Figure size 640x480 with 1 Axes>"
      ]
     },
     "metadata": {},
     "output_type": "display_data"
    }
   ],
   "source": [
    "plt.plot(df['Date'], df['Temp'])"
   ]
  },
  {
   "cell_type": "markdown",
   "id": "921c33ca-d76f-44c5-a04f-be3f711ec914",
   "metadata": {},
   "source": [
    "#### Nhận xét:\n",
    "\n",
    "Có thể thay xu hướng thay đổi nhiệt độ có tính chu kỳ.\n",
    "Dựa vào đồ thị, ta phán đoán chu kì thay đổi của nhiệt độ là theo năm.\n",
    "Tuy nhiên, do khoảng thời gian biểu diễn dài nên khó có thể nhìn chi tiết xu hướng biến đổi nhiệt độ trong năm. Do đó ta vẽ bổ sung biểu đồ đường thể hiện xu hướng nhiệt độ theo từng năm quan tâm."
   ]
  },
  {
   "cell_type": "markdown",
   "id": "97eaf112-9fc5-4c5a-8ce6-264fd6aacdfb",
   "metadata": {},
   "source": [
    "#### Vẽ sự thay đổi của nhiệt độ theo thời gian giới hạn thời gian trong khoảng từ 1/1/1990 đến 12/31/1990"
   ]
  },
  {
   "cell_type": "code",
   "execution_count": 12,
   "id": "ada9ec6c-f0e1-434b-ad54-99cb30d51be1",
   "metadata": {},
   "outputs": [
    {
     "data": {
      "text/plain": [
       "0       1981-01-01\n",
       "1       1981-01-02\n",
       "2       1981-01-03\n",
       "3       1981-01-04\n",
       "4       1981-01-05\n",
       "           ...    \n",
       "3645    1990-12-27\n",
       "3646    1990-12-28\n",
       "3647    1990-12-29\n",
       "3648    1990-12-30\n",
       "3649    1990-12-31\n",
       "Name: Date, Length: 3650, dtype: object"
      ]
     },
     "execution_count": 12,
     "metadata": {},
     "output_type": "execute_result"
    }
   ],
   "source": [
    "df['Date']"
   ]
  },
  {
   "cell_type": "code",
   "execution_count": 14,
   "id": "f45042ba-705e-4698-b9b5-6a3db107bf0a",
   "metadata": {},
   "outputs": [
    {
     "data": {
      "text/plain": [
       "count           3650\n",
       "unique          3650\n",
       "top       1981-01-01\n",
       "freq               1\n",
       "Name: Date, dtype: object"
      ]
     },
     "execution_count": 14,
     "metadata": {},
     "output_type": "execute_result"
    }
   ],
   "source": [
    "df['Date'].describe()"
   ]
  },
  {
   "cell_type": "code",
   "execution_count": 15,
   "id": "9de441eb-c6e6-4f68-b835-355527e01361",
   "metadata": {},
   "outputs": [
    {
     "data": {
      "text/plain": [
       "array(['1981-01-01', '1981-01-02', '1981-01-03', ..., '1990-12-29',\n",
       "       '1990-12-30', '1990-12-31'], dtype=object)"
      ]
     },
     "execution_count": 15,
     "metadata": {},
     "output_type": "execute_result"
    }
   ],
   "source": [
    "df['Date'].unique()"
   ]
  },
  {
   "cell_type": "code",
   "execution_count": 18,
   "id": "a42ff042-03b5-4696-9283-3aaa9944a99c",
   "metadata": {},
   "outputs": [
    {
     "data": {
      "image/png": "[encoded data removed]",
      "text/plain": [
       "<Figure size 640x480 with 1 Axes>"
      ]
     },
     "metadata": {},
     "output_type": "display_data"
    }
   ],
   "source": [
    "# Vẽ sự thay đổi của nhiệt độ theo thời gian\n",
    "# giới hạn thời gian trong khoảng từ 1/1/1990 đến 12/31/1990\n",
    "\n",
    "# chuẩn bị dữ liệu: lọc dữ liệu\n",
    "df_1990 = df[(df['Date'] >= '1990-01-01') & (df['Date'] <= '1990-12-31')]\n",
    "\n",
    "# Vẽ\n",
    "plt.plot(df_1990['Date'], df_1990['Temp'])\n",
    "plt.show()\n",
    "\n"
   ]
  },
  {
   "cell_type": "code",
   "execution_count": 20,
   "id": "37c887bc-02a9-404e-8009-9f84367f2d3a",
   "metadata": {},
   "outputs": [
    {
     "data": {
      "image/png": "[encoded data removed]",
      "text/plain": [
       "<Figure size 640x480 with 1 Axes>"
      ]
     },
     "metadata": {},
     "output_type": "display_data"
    }
   ],
   "source": [
    "df['Date'] = pd.to_datetime(df['Date'])\n",
    "bounds = ['1/1/1990', '12/31/1990']\n",
    "bounds = pd.to_datetime(bounds)\n",
    "d1 = df[(df['Date'] >= bounds[0]) & (df['Date'] <= bounds[1])]\n",
    "plt.plot(d1['Date'], d1['Temp'])\n",
    "plt.show()"
   ]
  },
  {
   "cell_type": "code",
   "execution_count": 22,
   "id": "98fb9e58-cb0f-46fa-8f91-404d80da1da8",
   "metadata": {},
   "outputs": [
    {
     "data": {
      "text/plain": [
       "<DatetimeArray>\n",
       "['1981-01-01 00:00:00', '1981-01-02 00:00:00', '1981-01-03 00:00:00',\n",
       " '1981-01-04 00:00:00', '1981-01-05 00:00:00', '1981-01-06 00:00:00',\n",
       " '1981-01-07 00:00:00', '1981-01-08 00:00:00', '1981-01-09 00:00:00',\n",
       " '1981-01-10 00:00:00',\n",
       " ...\n",
       " '1990-12-22 00:00:00', '1990-12-23 00:00:00', '1990-12-24 00:00:00',\n",
       " '1990-12-25 00:00:00', '1990-12-26 00:00:00', '1990-12-27 00:00:00',\n",
       " '1990-12-28 00:00:00', '1990-12-29 00:00:00', '1990-12-30 00:00:00',\n",
       " '1990-12-31 00:00:00']\n",
       "Length: 3650, dtype: datetime64[ns]"
      ]
     },
     "execution_count": 22,
     "metadata": {},
     "output_type": "execute_result"
    }
   ],
   "source": [
    "df['Date'] = pd.to_datetime(df['Date'])\n",
    "df['Date'].unique()\n",
    "# bounds = ['1/1/1990', '12/31/1990']\n",
    "# bounds = pd.to_datetime(bounds)\n",
    "# d1 = df[(df['Date'] >= bounds[0]) & (df['Date'] <= bounds[1])]\n",
    "# plt.plot(d1['Date'], d1['Temp'])\n",
    "# plt.show()"
   ]
  },
  {
   "cell_type": "code",
   "execution_count": 24,
   "id": "3804a517-5940-4198-99da-2f7e5e48c062",
   "metadata": {},
   "outputs": [
    {
     "data": {
      "text/html": [
       "<div>\n",
       "<style scoped>\n",
       "    .dataframe tbody tr th:only-of-type {\n",
       "        vertical-align: middle;\n",
       "    }\n",
       "\n",
       "    .dataframe tbody tr th {\n",
       "        vertical-align: top;\n",
       "    }\n",
       "\n",
       "    .dataframe thead th {\n",
       "        text-align: right;\n",
       "    }\n",
       "</style>\n",
       "<table border=\"1\" class=\"dataframe\">\n",
       "  <thead>\n",
       "    <tr style=\"text-align: right;\">\n",
       "      <th></th>\n",
       "      <th>Date</th>\n",
       "      <th>Temp</th>\n",
       "    </tr>\n",
       "  </thead>\n",
       "  <tbody>\n",
       "    <tr>\n",
       "      <th>3285</th>\n",
       "      <td>1990-01-01</td>\n",
       "      <td>14.8</td>\n",
       "    </tr>\n",
       "    <tr>\n",
       "      <th>3286</th>\n",
       "      <td>1990-01-02</td>\n",
       "      <td>13.3</td>\n",
       "    </tr>\n",
       "    <tr>\n",
       "      <th>3287</th>\n",
       "      <td>1990-01-03</td>\n",
       "      <td>15.6</td>\n",
       "    </tr>\n",
       "    <tr>\n",
       "      <th>3288</th>\n",
       "      <td>1990-01-04</td>\n",
       "      <td>14.5</td>\n",
       "    </tr>\n",
       "    <tr>\n",
       "      <th>3289</th>\n",
       "      <td>1990-01-05</td>\n",
       "      <td>14.3</td>\n",
       "    </tr>\n",
       "    <tr>\n",
       "      <th>...</th>\n",
       "      <td>...</td>\n",
       "      <td>...</td>\n",
       "    </tr>\n",
       "    <tr>\n",
       "      <th>3645</th>\n",
       "      <td>1990-12-27</td>\n",
       "      <td>14.0</td>\n",
       "    </tr>\n",
       "    <tr>\n",
       "      <th>3646</th>\n",
       "      <td>1990-12-28</td>\n",
       "      <td>13.6</td>\n",
       "    </tr>\n",
       "    <tr>\n",
       "      <th>3647</th>\n",
       "      <td>1990-12-29</td>\n",
       "      <td>13.5</td>\n",
       "    </tr>\n",
       "    <tr>\n",
       "      <th>3648</th>\n",
       "      <td>1990-12-30</td>\n",
       "      <td>15.7</td>\n",
       "    </tr>\n",
       "    <tr>\n",
       "      <th>3649</th>\n",
       "      <td>1990-12-31</td>\n",
       "      <td>13.0</td>\n",
       "    </tr>\n",
       "  </tbody>\n",
       "</table>\n",
       "<p>365 rows × 2 columns</p>\n",
       "</div>"
      ],
      "text/plain": [
       "           Date  Temp\n",
       "3285 1990-01-01  14.8\n",
       "3286 1990-01-02  13.3\n",
       "3287 1990-01-03  15.6\n",
       "3288 1990-01-04  14.5\n",
       "3289 1990-01-05  14.3\n",
       "...         ...   ...\n",
       "3645 1990-12-27  14.0\n",
       "3646 1990-12-28  13.6\n",
       "3647 1990-12-29  13.5\n",
       "3648 1990-12-30  15.7\n",
       "3649 1990-12-31  13.0\n",
       "\n",
       "[365 rows x 2 columns]"
      ]
     },
     "execution_count": 24,
     "metadata": {},
     "output_type": "execute_result"
    }
   ],
   "source": [
    "df['Date'] = pd.to_datetime(df['Date'])\n",
    "\n",
    "# bounds = ['1/1/1990', '12/31/1990']\n",
    "# bounds = pd.to_datetime(bounds)\n",
    "\n",
    "d1 = df[(df['Date'] >= '1990-01-01') & (df['Date'] <= '1990-12-31')]\n",
    "d1\n",
    "# plt.plot(d1['Date'], d1['Temp'])\n",
    "# plt.show()"
   ]
  },
  {
   "cell_type": "code",
   "execution_count": 25,
   "id": "070e86cd-4f0e-418a-8868-36ad98bb3391",
   "metadata": {},
   "outputs": [
    {
     "data": {
      "image/png": "[encoded data removed]",
      "text/plain": [
       "<Figure size 640x480 with 1 Axes>"
      ]
     },
     "metadata": {},
     "output_type": "display_data"
    }
   ],
   "source": [
    "df['Date'] = pd.to_datetime(df['Date'])\n",
    "\n",
    "\n",
    "d1 = df[(df['Date'] >= '1990-01-01') & (df['Date'] <= '1990-12-31')]\n",
    "\n",
    "plt.plot(d1['Date'], d1['Temp'])\n",
    "plt.show()"
   ]
  },
  {
   "cell_type": "markdown",
   "id": "9aee96ae-f3d7-4ef8-9492-e03c710dd6cb",
   "metadata": {},
   "source": [
    "#### Nhận xét:\n",
    "\n",
    "Nhiệt độ có xu hướng giảm từ tháng 5 và bắt đầu tăng trở lại vào tháng 9.\n",
    "3 tháng đầu năm có nhiệt độ trung bình cao nhất.\n"
   ]
  },
  {
   "cell_type": "markdown",
   "id": "4876cdf5-ee1d-435c-82cb-cf9dca607a1d",
   "metadata": {},
   "source": [
    "#### Ở đây cột Date đang ở dang string\n",
    "\n",
    "Do vậy nên:\n",
    "\n",
    "Chuyển đổi DL về dạng ngày tháng datetime, sau đó\n",
    "lọc sau khi chuyển đổi\n",
    "\n",
    "\n",
    "Mục đích: đảm bảo an toàn"
   ]
  },
  {
   "cell_type": "markdown",
   "id": "f5053f48-0bdb-4859-bc2e-955c40061c9d",
   "metadata": {},
   "source": [
    "# Dữ liệu Online Retail\n"
   ]
  },
  {
   "cell_type": "code",
   "execution_count": 26,
   "id": "9ec2a6aa-81b1-4fea-826d-64726777572a",
   "metadata": {},
   "outputs": [],
   "source": [
    "# Đọc dữ liệu\n",
    "\n",
    "df_1= pd.read_csv('OnlineRetail.csv', encoding='unicode_escape')"
   ]
  },
  {
   "cell_type": "code",
   "execution_count": 27,
   "id": "8f0184fe-2e91-4487-93ad-793b1f16113d",
   "metadata": {},
   "outputs": [
    {
     "data": {
      "text/html": [
       "<div>\n",
       "<style scoped>\n",
       "    .dataframe tbody tr th:only-of-type {\n",
       "        vertical-align: middle;\n",
       "    }\n",
       "\n",
       "    .dataframe tbody tr th {\n",
       "        vertical-align: top;\n",
       "    }\n",
       "\n",
       "    .dataframe thead th {\n",
       "        text-align: right;\n",
       "    }\n",
       "</style>\n",
       "<table border=\"1\" class=\"dataframe\">\n",
       "  <thead>\n",
       "    <tr style=\"text-align: right;\">\n",
       "      <th></th>\n",
       "      <th>InvoiceNo</th>\n",
       "      <th>StockCode</th>\n",
       "      <th>Description</th>\n",
       "      <th>Quantity</th>\n",
       "      <th>InvoiceDate</th>\n",
       "      <th>UnitPrice</th>\n",
       "      <th>CustomerID</th>\n",
       "      <th>Country</th>\n",
       "    </tr>\n",
       "  </thead>\n",
       "  <tbody>\n",
       "    <tr>\n",
       "      <th>225552</th>\n",
       "      <td>556721</td>\n",
       "      <td>22927</td>\n",
       "      <td>GREEN GIANT GARDEN THERMOMETER</td>\n",
       "      <td>2</td>\n",
       "      <td>6/14/2011 11:23</td>\n",
       "      <td>5.95</td>\n",
       "      <td>15218.0</td>\n",
       "      <td>United Kingdom</td>\n",
       "    </tr>\n",
       "    <tr>\n",
       "      <th>16194</th>\n",
       "      <td>537645</td>\n",
       "      <td>22630</td>\n",
       "      <td>DOLLY GIRL LUNCH BOX</td>\n",
       "      <td>2</td>\n",
       "      <td>12/7/2010 15:34</td>\n",
       "      <td>2.51</td>\n",
       "      <td>NaN</td>\n",
       "      <td>United Kingdom</td>\n",
       "    </tr>\n",
       "    <tr>\n",
       "      <th>461239</th>\n",
       "      <td>575931</td>\n",
       "      <td>23108</td>\n",
       "      <td>SET OF 10 LED DOLLY LIGHTS</td>\n",
       "      <td>2</td>\n",
       "      <td>11/13/2011 10:35</td>\n",
       "      <td>6.25</td>\n",
       "      <td>16560.0</td>\n",
       "      <td>United Kingdom</td>\n",
       "    </tr>\n",
       "    <tr>\n",
       "      <th>379340</th>\n",
       "      <td>569688</td>\n",
       "      <td>23327</td>\n",
       "      <td>HANGING CLEAR MINI BOTTLE</td>\n",
       "      <td>1</td>\n",
       "      <td>10/5/2011 14:55</td>\n",
       "      <td>0.63</td>\n",
       "      <td>15048.0</td>\n",
       "      <td>United Kingdom</td>\n",
       "    </tr>\n",
       "    <tr>\n",
       "      <th>115963</th>\n",
       "      <td>546165</td>\n",
       "      <td>22424</td>\n",
       "      <td>ENAMEL BREAD BIN CREAM</td>\n",
       "      <td>1</td>\n",
       "      <td>3/10/2011 10:08</td>\n",
       "      <td>12.75</td>\n",
       "      <td>18183.0</td>\n",
       "      <td>United Kingdom</td>\n",
       "    </tr>\n",
       "    <tr>\n",
       "      <th>447424</th>\n",
       "      <td>574950</td>\n",
       "      <td>23331</td>\n",
       "      <td>DECORATIVE WICKER HEART SMALL</td>\n",
       "      <td>6</td>\n",
       "      <td>11/8/2011 9:29</td>\n",
       "      <td>1.25</td>\n",
       "      <td>NaN</td>\n",
       "      <td>United Kingdom</td>\n",
       "    </tr>\n",
       "    <tr>\n",
       "      <th>75719</th>\n",
       "      <td>542608</td>\n",
       "      <td>21914</td>\n",
       "      <td>BLUE HARMONICA IN BOX</td>\n",
       "      <td>1</td>\n",
       "      <td>1/30/2011 13:51</td>\n",
       "      <td>1.25</td>\n",
       "      <td>16770.0</td>\n",
       "      <td>United Kingdom</td>\n",
       "    </tr>\n",
       "    <tr>\n",
       "      <th>190400</th>\n",
       "      <td>553191</td>\n",
       "      <td>22925</td>\n",
       "      <td>BLUE GIANT GARDEN THERMOMETER</td>\n",
       "      <td>4</td>\n",
       "      <td>5/15/2011 13:22</td>\n",
       "      <td>5.95</td>\n",
       "      <td>13118.0</td>\n",
       "      <td>United Kingdom</td>\n",
       "    </tr>\n",
       "    <tr>\n",
       "      <th>181453</th>\n",
       "      <td>552469</td>\n",
       "      <td>21220</td>\n",
       "      <td>SET/4 BADGES DOGS</td>\n",
       "      <td>3</td>\n",
       "      <td>5/9/2011 15:34</td>\n",
       "      <td>1.25</td>\n",
       "      <td>12867.0</td>\n",
       "      <td>United Kingdom</td>\n",
       "    </tr>\n",
       "    <tr>\n",
       "      <th>348090</th>\n",
       "      <td>567375</td>\n",
       "      <td>22910</td>\n",
       "      <td>PAPER CHAIN KIT VINTAGE CHRISTMAS</td>\n",
       "      <td>6</td>\n",
       "      <td>9/20/2011 9:45</td>\n",
       "      <td>2.95</td>\n",
       "      <td>14766.0</td>\n",
       "      <td>United Kingdom</td>\n",
       "    </tr>\n",
       "  </tbody>\n",
       "</table>\n",
       "</div>"
      ],
      "text/plain": [
       "       InvoiceNo StockCode                        Description  Quantity  \\\n",
       "225552    556721     22927     GREEN GIANT GARDEN THERMOMETER         2   \n",
       "16194     537645     22630               DOLLY GIRL LUNCH BOX         2   \n",
       "461239    575931     23108         SET OF 10 LED DOLLY LIGHTS         2   \n",
       "379340    569688     23327          HANGING CLEAR MINI BOTTLE         1   \n",
       "115963    546165     22424             ENAMEL BREAD BIN CREAM         1   \n",
       "447424    574950     23331      DECORATIVE WICKER HEART SMALL         6   \n",
       "75719     542608     21914             BLUE HARMONICA IN BOX          1   \n",
       "190400    553191     22925      BLUE GIANT GARDEN THERMOMETER         4   \n",
       "181453    552469     21220                  SET/4 BADGES DOGS         3   \n",
       "348090    567375     22910  PAPER CHAIN KIT VINTAGE CHRISTMAS         6   \n",
       "\n",
       "             InvoiceDate  UnitPrice  CustomerID         Country  \n",
       "225552   6/14/2011 11:23       5.95     15218.0  United Kingdom  \n",
       "16194    12/7/2010 15:34       2.51         NaN  United Kingdom  \n",
       "461239  11/13/2011 10:35       6.25     16560.0  United Kingdom  \n",
       "379340   10/5/2011 14:55       0.63     15048.0  United Kingdom  \n",
       "115963   3/10/2011 10:08      12.75     18183.0  United Kingdom  \n",
       "447424    11/8/2011 9:29       1.25         NaN  United Kingdom  \n",
       "75719    1/30/2011 13:51       1.25     16770.0  United Kingdom  \n",
       "190400   5/15/2011 13:22       5.95     13118.0  United Kingdom  \n",
       "181453    5/9/2011 15:34       1.25     12867.0  United Kingdom  \n",
       "348090    9/20/2011 9:45       2.95     14766.0  United Kingdom  "
      ]
     },
     "execution_count": 27,
     "metadata": {},
     "output_type": "execute_result"
    }
   ],
   "source": [
    "# Xem 10 dòng ngẫu nhiên\n",
    "df_1.sample(10)"
   ]
  },
  {
   "cell_type": "code",
   "execution_count": 28,
   "id": "aa83b58b-a93a-4bc6-9710-a48bbe652501",
   "metadata": {},
   "outputs": [
    {
     "data": {
      "text/html": [
       "<div>\n",
       "<style scoped>\n",
       "    .dataframe tbody tr th:only-of-type {\n",
       "        vertical-align: middle;\n",
       "    }\n",
       "\n",
       "    .dataframe tbody tr th {\n",
       "        vertical-align: top;\n",
       "    }\n",
       "\n",
       "    .dataframe thead th {\n",
       "        text-align: right;\n",
       "    }\n",
       "</style>\n",
       "<table border=\"1\" class=\"dataframe\">\n",
       "  <thead>\n",
       "    <tr style=\"text-align: right;\">\n",
       "      <th></th>\n",
       "      <th>InvoiceNo</th>\n",
       "      <th>StockCode</th>\n",
       "      <th>Description</th>\n",
       "      <th>Quantity</th>\n",
       "      <th>InvoiceDate</th>\n",
       "      <th>UnitPrice</th>\n",
       "      <th>CustomerID</th>\n",
       "      <th>Country</th>\n",
       "    </tr>\n",
       "  </thead>\n",
       "  <tbody>\n",
       "    <tr>\n",
       "      <th>0</th>\n",
       "      <td>536365</td>\n",
       "      <td>85123A</td>\n",
       "      <td>WHITE HANGING HEART T-LIGHT HOLDER</td>\n",
       "      <td>6</td>\n",
       "      <td>12/1/2010 8:26</td>\n",
       "      <td>2.55</td>\n",
       "      <td>17850.0</td>\n",
       "      <td>United Kingdom</td>\n",
       "    </tr>\n",
       "    <tr>\n",
       "      <th>1</th>\n",
       "      <td>536365</td>\n",
       "      <td>71053</td>\n",
       "      <td>WHITE METAL LANTERN</td>\n",
       "      <td>6</td>\n",
       "      <td>12/1/2010 8:26</td>\n",
       "      <td>3.39</td>\n",
       "      <td>17850.0</td>\n",
       "      <td>United Kingdom</td>\n",
       "    </tr>\n",
       "    <tr>\n",
       "      <th>2</th>\n",
       "      <td>536365</td>\n",
       "      <td>84406B</td>\n",
       "      <td>CREAM CUPID HEARTS COAT HANGER</td>\n",
       "      <td>8</td>\n",
       "      <td>12/1/2010 8:26</td>\n",
       "      <td>2.75</td>\n",
       "      <td>17850.0</td>\n",
       "      <td>United Kingdom</td>\n",
       "    </tr>\n",
       "    <tr>\n",
       "      <th>3</th>\n",
       "      <td>536365</td>\n",
       "      <td>84029G</td>\n",
       "      <td>KNITTED UNION FLAG HOT WATER BOTTLE</td>\n",
       "      <td>6</td>\n",
       "      <td>12/1/2010 8:26</td>\n",
       "      <td>3.39</td>\n",
       "      <td>17850.0</td>\n",
       "      <td>United Kingdom</td>\n",
       "    </tr>\n",
       "    <tr>\n",
       "      <th>4</th>\n",
       "      <td>536365</td>\n",
       "      <td>84029E</td>\n",
       "      <td>RED WOOLLY HOTTIE WHITE HEART.</td>\n",
       "      <td>6</td>\n",
       "      <td>12/1/2010 8:26</td>\n",
       "      <td>3.39</td>\n",
       "      <td>17850.0</td>\n",
       "      <td>United Kingdom</td>\n",
       "    </tr>\n",
       "  </tbody>\n",
       "</table>\n",
       "</div>"
      ],
      "text/plain": [
       "  InvoiceNo StockCode                          Description  Quantity  \\\n",
       "0    536365    85123A   WHITE HANGING HEART T-LIGHT HOLDER         6   \n",
       "1    536365     71053                  WHITE METAL LANTERN         6   \n",
       "2    536365    84406B       CREAM CUPID HEARTS COAT HANGER         8   \n",
       "3    536365    84029G  KNITTED UNION FLAG HOT WATER BOTTLE         6   \n",
       "4    536365    84029E       RED WOOLLY HOTTIE WHITE HEART.         6   \n",
       "\n",
       "      InvoiceDate  UnitPrice  CustomerID         Country  \n",
       "0  12/1/2010 8:26       2.55     17850.0  United Kingdom  \n",
       "1  12/1/2010 8:26       3.39     17850.0  United Kingdom  \n",
       "2  12/1/2010 8:26       2.75     17850.0  United Kingdom  \n",
       "3  12/1/2010 8:26       3.39     17850.0  United Kingdom  \n",
       "4  12/1/2010 8:26       3.39     17850.0  United Kingdom  "
      ]
     },
     "execution_count": 28,
     "metadata": {},
     "output_type": "execute_result"
    }
   ],
   "source": [
    "df_1.head()"
   ]
  },
  {
   "cell_type": "code",
   "execution_count": 14,
   "id": "d950a64d-cfb3-4893-918f-2b4b1b21d817",
   "metadata": {},
   "outputs": [
    {
     "name": "stdout",
     "output_type": "stream",
     "text": [
      "<class 'pandas.core.frame.DataFrame'>\n",
      "RangeIndex: 541909 entries, 0 to 541908\n",
      "Data columns (total 8 columns):\n",
      " #   Column       Non-Null Count   Dtype  \n",
      "---  ------       --------------   -----  \n",
      " 0   InvoiceNo    541909 non-null  object \n",
      " 1   StockCode    541909 non-null  object \n",
      " 2   Description  540455 non-null  object \n",
      " 3   Quantity     541909 non-null  int64  \n",
      " 4   InvoiceDate  541909 non-null  object \n",
      " 5   UnitPrice    541909 non-null  float64\n",
      " 6   CustomerID   406829 non-null  float64\n",
      " 7   Country      541909 non-null  object \n",
      "dtypes: float64(2), int64(1), object(5)\n",
      "memory usage: 33.1+ MB\n"
     ]
    }
   ],
   "source": [
    "df_1.info()"
   ]
  },
  {
   "cell_type": "markdown",
   "id": "f9317c6b-69f0-4d9f-9cf3-f8516e80b930",
   "metadata": {},
   "source": [
    "## Yêu cầu:\n",
    "### Vẽ biểu đồ đường thể hiện xu hướng thay đổi số lượng đơn hàng theo thời gian trong năm 2011\n",
    "\n",
    "### Vẽ biểu đồ cột so sánh số lượng đơn hàng trong các tháng của năm 2011"
   ]
  },
  {
   "cell_type": "markdown",
   "id": "25e34549-7375-4b39-a07c-5094da14b1aa",
   "metadata": {},
   "source": [
    "##### Vẽ biểu đồ đường thể hiện xu hướng thay đổi số lượng đơn hàng theo thời gian trong năm 2011"
   ]
  },
  {
   "cell_type": "code",
   "execution_count": 29,
   "id": "8f94136e-466b-40c3-875d-0302fec24900",
   "metadata": {},
   "outputs": [],
   "source": [
    "# Chuẩn bị dữ liệu\n",
    "  # Lọc DL: \n",
    "   # chỉ bao gồm năm 2011 --> chưa có cột 2011 --> tạo ra cột năm 2011 -> \n",
    "   # --> chuyển đổi cột date về dạng ngày tháng -> có đc cột 2011\n",
    "# --> Lọc\n",
    "\n",
    "# cần có 2 cột: cột date, cột số lượng đơn hàng theo ngày \n",
    "  # -> tạo ra cột số lượng theo ngày --> gom dữ liệu (đếm xem 1 ngày có bao nhiêu đơn hàng)\n"
   ]
  },
  {
   "cell_type": "code",
   "execution_count": 30,
   "id": "1a87249b-e3bb-44db-bd86-91012db9e2b8",
   "metadata": {},
   "outputs": [
    {
     "name": "stdout",
     "output_type": "stream",
     "text": [
      "<class 'pandas.core.frame.DataFrame'>\n",
      "RangeIndex: 541909 entries, 0 to 541908\n",
      "Data columns (total 8 columns):\n",
      " #   Column       Non-Null Count   Dtype         \n",
      "---  ------       --------------   -----         \n",
      " 0   InvoiceNo    541909 non-null  object        \n",
      " 1   StockCode    541909 non-null  object        \n",
      " 2   Description  540455 non-null  object        \n",
      " 3   Quantity     541909 non-null  int64         \n",
      " 4   InvoiceDate  541909 non-null  datetime64[ns]\n",
      " 5   UnitPrice    541909 non-null  float64       \n",
      " 6   CustomerID   406829 non-null  float64       \n",
      " 7   Country      541909 non-null  object        \n",
      "dtypes: datetime64[ns](1), float64(2), int64(1), object(4)\n",
      "memory usage: 33.1+ MB\n"
     ]
    }
   ],
   "source": [
    "df_1['InvoiceDate'] = pd.to_datetime(df_1['InvoiceDate'])\n",
    "df_1.info()"
   ]
  },
  {
   "cell_type": "code",
   "execution_count": 31,
   "id": "844d8ff0-162c-4b38-800c-d51c5b8ddceb",
   "metadata": {},
   "outputs": [
    {
     "data": {
      "text/html": [
       "<div>\n",
       "<style scoped>\n",
       "    .dataframe tbody tr th:only-of-type {\n",
       "        vertical-align: middle;\n",
       "    }\n",
       "\n",
       "    .dataframe tbody tr th {\n",
       "        vertical-align: top;\n",
       "    }\n",
       "\n",
       "    .dataframe thead th {\n",
       "        text-align: right;\n",
       "    }\n",
       "</style>\n",
       "<table border=\"1\" class=\"dataframe\">\n",
       "  <thead>\n",
       "    <tr style=\"text-align: right;\">\n",
       "      <th></th>\n",
       "      <th>InvoiceNo</th>\n",
       "      <th>StockCode</th>\n",
       "      <th>Description</th>\n",
       "      <th>Quantity</th>\n",
       "      <th>InvoiceDate</th>\n",
       "      <th>UnitPrice</th>\n",
       "      <th>CustomerID</th>\n",
       "      <th>Country</th>\n",
       "      <th>InvoiceYear</th>\n",
       "    </tr>\n",
       "  </thead>\n",
       "  <tbody>\n",
       "    <tr>\n",
       "      <th>0</th>\n",
       "      <td>536365</td>\n",
       "      <td>85123A</td>\n",
       "      <td>WHITE HANGING HEART T-LIGHT HOLDER</td>\n",
       "      <td>6</td>\n",
       "      <td>2010-12-01 08:26:00</td>\n",
       "      <td>2.55</td>\n",
       "      <td>17850.0</td>\n",
       "      <td>United Kingdom</td>\n",
       "      <td>2010</td>\n",
       "    </tr>\n",
       "    <tr>\n",
       "      <th>1</th>\n",
       "      <td>536365</td>\n",
       "      <td>71053</td>\n",
       "      <td>WHITE METAL LANTERN</td>\n",
       "      <td>6</td>\n",
       "      <td>2010-12-01 08:26:00</td>\n",
       "      <td>3.39</td>\n",
       "      <td>17850.0</td>\n",
       "      <td>United Kingdom</td>\n",
       "      <td>2010</td>\n",
       "    </tr>\n",
       "    <tr>\n",
       "      <th>2</th>\n",
       "      <td>536365</td>\n",
       "      <td>84406B</td>\n",
       "      <td>CREAM CUPID HEARTS COAT HANGER</td>\n",
       "      <td>8</td>\n",
       "      <td>2010-12-01 08:26:00</td>\n",
       "      <td>2.75</td>\n",
       "      <td>17850.0</td>\n",
       "      <td>United Kingdom</td>\n",
       "      <td>2010</td>\n",
       "    </tr>\n",
       "    <tr>\n",
       "      <th>3</th>\n",
       "      <td>536365</td>\n",
       "      <td>84029G</td>\n",
       "      <td>KNITTED UNION FLAG HOT WATER BOTTLE</td>\n",
       "      <td>6</td>\n",
       "      <td>2010-12-01 08:26:00</td>\n",
       "      <td>3.39</td>\n",
       "      <td>17850.0</td>\n",
       "      <td>United Kingdom</td>\n",
       "      <td>2010</td>\n",
       "    </tr>\n",
       "    <tr>\n",
       "      <th>4</th>\n",
       "      <td>536365</td>\n",
       "      <td>84029E</td>\n",
       "      <td>RED WOOLLY HOTTIE WHITE HEART.</td>\n",
       "      <td>6</td>\n",
       "      <td>2010-12-01 08:26:00</td>\n",
       "      <td>3.39</td>\n",
       "      <td>17850.0</td>\n",
       "      <td>United Kingdom</td>\n",
       "      <td>2010</td>\n",
       "    </tr>\n",
       "    <tr>\n",
       "      <th>...</th>\n",
       "      <td>...</td>\n",
       "      <td>...</td>\n",
       "      <td>...</td>\n",
       "      <td>...</td>\n",
       "      <td>...</td>\n",
       "      <td>...</td>\n",
       "      <td>...</td>\n",
       "      <td>...</td>\n",
       "      <td>...</td>\n",
       "    </tr>\n",
       "    <tr>\n",
       "      <th>541904</th>\n",
       "      <td>581587</td>\n",
       "      <td>22613</td>\n",
       "      <td>PACK OF 20 SPACEBOY NAPKINS</td>\n",
       "      <td>12</td>\n",
       "      <td>2011-12-09 12:50:00</td>\n",
       "      <td>0.85</td>\n",
       "      <td>12680.0</td>\n",
       "      <td>France</td>\n",
       "      <td>2011</td>\n",
       "    </tr>\n",
       "    <tr>\n",
       "      <th>541905</th>\n",
       "      <td>581587</td>\n",
       "      <td>22899</td>\n",
       "      <td>CHILDREN'S APRON DOLLY GIRL</td>\n",
       "      <td>6</td>\n",
       "      <td>2011-12-09 12:50:00</td>\n",
       "      <td>2.10</td>\n",
       "      <td>12680.0</td>\n",
       "      <td>France</td>\n",
       "      <td>2011</td>\n",
       "    </tr>\n",
       "    <tr>\n",
       "      <th>541906</th>\n",
       "      <td>581587</td>\n",
       "      <td>23254</td>\n",
       "      <td>CHILDRENS CUTLERY DOLLY GIRL</td>\n",
       "      <td>4</td>\n",
       "      <td>2011-12-09 12:50:00</td>\n",
       "      <td>4.15</td>\n",
       "      <td>12680.0</td>\n",
       "      <td>France</td>\n",
       "      <td>2011</td>\n",
       "    </tr>\n",
       "    <tr>\n",
       "      <th>541907</th>\n",
       "      <td>581587</td>\n",
       "      <td>23255</td>\n",
       "      <td>CHILDRENS CUTLERY CIRCUS PARADE</td>\n",
       "      <td>4</td>\n",
       "      <td>2011-12-09 12:50:00</td>\n",
       "      <td>4.15</td>\n",
       "      <td>12680.0</td>\n",
       "      <td>France</td>\n",
       "      <td>2011</td>\n",
       "    </tr>\n",
       "    <tr>\n",
       "      <th>541908</th>\n",
       "      <td>581587</td>\n",
       "      <td>22138</td>\n",
       "      <td>BAKING SET 9 PIECE RETROSPOT</td>\n",
       "      <td>3</td>\n",
       "      <td>2011-12-09 12:50:00</td>\n",
       "      <td>4.95</td>\n",
       "      <td>12680.0</td>\n",
       "      <td>France</td>\n",
       "      <td>2011</td>\n",
       "    </tr>\n",
       "  </tbody>\n",
       "</table>\n",
       "<p>541909 rows × 9 columns</p>\n",
       "</div>"
      ],
      "text/plain": [
       "       InvoiceNo StockCode                          Description  Quantity  \\\n",
       "0         536365    85123A   WHITE HANGING HEART T-LIGHT HOLDER         6   \n",
       "1         536365     71053                  WHITE METAL LANTERN         6   \n",
       "2         536365    84406B       CREAM CUPID HEARTS COAT HANGER         8   \n",
       "3         536365    84029G  KNITTED UNION FLAG HOT WATER BOTTLE         6   \n",
       "4         536365    84029E       RED WOOLLY HOTTIE WHITE HEART.         6   \n",
       "...          ...       ...                                  ...       ...   \n",
       "541904    581587     22613          PACK OF 20 SPACEBOY NAPKINS        12   \n",
       "541905    581587     22899         CHILDREN'S APRON DOLLY GIRL          6   \n",
       "541906    581587     23254        CHILDRENS CUTLERY DOLLY GIRL          4   \n",
       "541907    581587     23255      CHILDRENS CUTLERY CIRCUS PARADE         4   \n",
       "541908    581587     22138        BAKING SET 9 PIECE RETROSPOT          3   \n",
       "\n",
       "               InvoiceDate  UnitPrice  CustomerID         Country  InvoiceYear  \n",
       "0      2010-12-01 08:26:00       2.55     17850.0  United Kingdom         2010  \n",
       "1      2010-12-01 08:26:00       3.39     17850.0  United Kingdom         2010  \n",
       "2      2010-12-01 08:26:00       2.75     17850.0  United Kingdom         2010  \n",
       "3      2010-12-01 08:26:00       3.39     17850.0  United Kingdom         2010  \n",
       "4      2010-12-01 08:26:00       3.39     17850.0  United Kingdom         2010  \n",
       "...                    ...        ...         ...             ...          ...  \n",
       "541904 2011-12-09 12:50:00       0.85     12680.0          France         2011  \n",
       "541905 2011-12-09 12:50:00       2.10     12680.0          France         2011  \n",
       "541906 2011-12-09 12:50:00       4.15     12680.0          France         2011  \n",
       "541907 2011-12-09 12:50:00       4.15     12680.0          France         2011  \n",
       "541908 2011-12-09 12:50:00       4.95     12680.0          France         2011  \n",
       "\n",
       "[541909 rows x 9 columns]"
      ]
     },
     "execution_count": 31,
     "metadata": {},
     "output_type": "execute_result"
    }
   ],
   "source": [
    "# tạo cột năm 2011\n",
    "\n",
    "df_1['InvoiceYear'] = df_1['InvoiceDate'].dt.year\n",
    "df_1"
   ]
  },
  {
   "cell_type": "code",
   "execution_count": 32,
   "id": "64ac979a-a201-4230-841b-9e9b941a79a8",
   "metadata": {},
   "outputs": [
    {
     "data": {
      "text/html": [
       "<div>\n",
       "<style scoped>\n",
       "    .dataframe tbody tr th:only-of-type {\n",
       "        vertical-align: middle;\n",
       "    }\n",
       "\n",
       "    .dataframe tbody tr th {\n",
       "        vertical-align: top;\n",
       "    }\n",
       "\n",
       "    .dataframe thead th {\n",
       "        text-align: right;\n",
       "    }\n",
       "</style>\n",
       "<table border=\"1\" class=\"dataframe\">\n",
       "  <thead>\n",
       "    <tr style=\"text-align: right;\">\n",
       "      <th></th>\n",
       "      <th>InvoiceNo</th>\n",
       "      <th>StockCode</th>\n",
       "      <th>Description</th>\n",
       "      <th>Quantity</th>\n",
       "      <th>InvoiceDate</th>\n",
       "      <th>UnitPrice</th>\n",
       "      <th>CustomerID</th>\n",
       "      <th>Country</th>\n",
       "      <th>InvoiceYear</th>\n",
       "    </tr>\n",
       "  </thead>\n",
       "  <tbody>\n",
       "    <tr>\n",
       "      <th>42481</th>\n",
       "      <td>539993</td>\n",
       "      <td>22386</td>\n",
       "      <td>JUMBO BAG PINK POLKADOT</td>\n",
       "      <td>10</td>\n",
       "      <td>2011-01-04 10:00:00</td>\n",
       "      <td>1.95</td>\n",
       "      <td>13313.0</td>\n",
       "      <td>United Kingdom</td>\n",
       "      <td>2011</td>\n",
       "    </tr>\n",
       "    <tr>\n",
       "      <th>42482</th>\n",
       "      <td>539993</td>\n",
       "      <td>21499</td>\n",
       "      <td>BLUE POLKADOT WRAP</td>\n",
       "      <td>25</td>\n",
       "      <td>2011-01-04 10:00:00</td>\n",
       "      <td>0.42</td>\n",
       "      <td>13313.0</td>\n",
       "      <td>United Kingdom</td>\n",
       "      <td>2011</td>\n",
       "    </tr>\n",
       "    <tr>\n",
       "      <th>42483</th>\n",
       "      <td>539993</td>\n",
       "      <td>21498</td>\n",
       "      <td>RED RETROSPOT WRAP</td>\n",
       "      <td>25</td>\n",
       "      <td>2011-01-04 10:00:00</td>\n",
       "      <td>0.42</td>\n",
       "      <td>13313.0</td>\n",
       "      <td>United Kingdom</td>\n",
       "      <td>2011</td>\n",
       "    </tr>\n",
       "    <tr>\n",
       "      <th>42484</th>\n",
       "      <td>539993</td>\n",
       "      <td>22379</td>\n",
       "      <td>RECYCLING BAG RETROSPOT</td>\n",
       "      <td>5</td>\n",
       "      <td>2011-01-04 10:00:00</td>\n",
       "      <td>2.10</td>\n",
       "      <td>13313.0</td>\n",
       "      <td>United Kingdom</td>\n",
       "      <td>2011</td>\n",
       "    </tr>\n",
       "    <tr>\n",
       "      <th>42485</th>\n",
       "      <td>539993</td>\n",
       "      <td>20718</td>\n",
       "      <td>RED RETROSPOT SHOPPER BAG</td>\n",
       "      <td>10</td>\n",
       "      <td>2011-01-04 10:00:00</td>\n",
       "      <td>1.25</td>\n",
       "      <td>13313.0</td>\n",
       "      <td>United Kingdom</td>\n",
       "      <td>2011</td>\n",
       "    </tr>\n",
       "    <tr>\n",
       "      <th>...</th>\n",
       "      <td>...</td>\n",
       "      <td>...</td>\n",
       "      <td>...</td>\n",
       "      <td>...</td>\n",
       "      <td>...</td>\n",
       "      <td>...</td>\n",
       "      <td>...</td>\n",
       "      <td>...</td>\n",
       "      <td>...</td>\n",
       "    </tr>\n",
       "    <tr>\n",
       "      <th>541904</th>\n",
       "      <td>581587</td>\n",
       "      <td>22613</td>\n",
       "      <td>PACK OF 20 SPACEBOY NAPKINS</td>\n",
       "      <td>12</td>\n",
       "      <td>2011-12-09 12:50:00</td>\n",
       "      <td>0.85</td>\n",
       "      <td>12680.0</td>\n",
       "      <td>France</td>\n",
       "      <td>2011</td>\n",
       "    </tr>\n",
       "    <tr>\n",
       "      <th>541905</th>\n",
       "      <td>581587</td>\n",
       "      <td>22899</td>\n",
       "      <td>CHILDREN'S APRON DOLLY GIRL</td>\n",
       "      <td>6</td>\n",
       "      <td>2011-12-09 12:50:00</td>\n",
       "      <td>2.10</td>\n",
       "      <td>12680.0</td>\n",
       "      <td>France</td>\n",
       "      <td>2011</td>\n",
       "    </tr>\n",
       "    <tr>\n",
       "      <th>541906</th>\n",
       "      <td>581587</td>\n",
       "      <td>23254</td>\n",
       "      <td>CHILDRENS CUTLERY DOLLY GIRL</td>\n",
       "      <td>4</td>\n",
       "      <td>2011-12-09 12:50:00</td>\n",
       "      <td>4.15</td>\n",
       "      <td>12680.0</td>\n",
       "      <td>France</td>\n",
       "      <td>2011</td>\n",
       "    </tr>\n",
       "    <tr>\n",
       "      <th>541907</th>\n",
       "      <td>581587</td>\n",
       "      <td>23255</td>\n",
       "      <td>CHILDRENS CUTLERY CIRCUS PARADE</td>\n",
       "      <td>4</td>\n",
       "      <td>2011-12-09 12:50:00</td>\n",
       "      <td>4.15</td>\n",
       "      <td>12680.0</td>\n",
       "      <td>France</td>\n",
       "      <td>2011</td>\n",
       "    </tr>\n",
       "    <tr>\n",
       "      <th>541908</th>\n",
       "      <td>581587</td>\n",
       "      <td>22138</td>\n",
       "      <td>BAKING SET 9 PIECE RETROSPOT</td>\n",
       "      <td>3</td>\n",
       "      <td>2011-12-09 12:50:00</td>\n",
       "      <td>4.95</td>\n",
       "      <td>12680.0</td>\n",
       "      <td>France</td>\n",
       "      <td>2011</td>\n",
       "    </tr>\n",
       "  </tbody>\n",
       "</table>\n",
       "<p>499428 rows × 9 columns</p>\n",
       "</div>"
      ],
      "text/plain": [
       "       InvoiceNo StockCode                      Description  Quantity  \\\n",
       "42481     539993     22386          JUMBO BAG PINK POLKADOT        10   \n",
       "42482     539993     21499               BLUE POLKADOT WRAP        25   \n",
       "42483     539993     21498              RED RETROSPOT WRAP         25   \n",
       "42484     539993     22379         RECYCLING BAG RETROSPOT          5   \n",
       "42485     539993     20718        RED RETROSPOT SHOPPER BAG        10   \n",
       "...          ...       ...                              ...       ...   \n",
       "541904    581587     22613      PACK OF 20 SPACEBOY NAPKINS        12   \n",
       "541905    581587     22899     CHILDREN'S APRON DOLLY GIRL          6   \n",
       "541906    581587     23254    CHILDRENS CUTLERY DOLLY GIRL          4   \n",
       "541907    581587     23255  CHILDRENS CUTLERY CIRCUS PARADE         4   \n",
       "541908    581587     22138    BAKING SET 9 PIECE RETROSPOT          3   \n",
       "\n",
       "               InvoiceDate  UnitPrice  CustomerID         Country  InvoiceYear  \n",
       "42481  2011-01-04 10:00:00       1.95     13313.0  United Kingdom         2011  \n",
       "42482  2011-01-04 10:00:00       0.42     13313.0  United Kingdom         2011  \n",
       "42483  2011-01-04 10:00:00       0.42     13313.0  United Kingdom         2011  \n",
       "42484  2011-01-04 10:00:00       2.10     13313.0  United Kingdom         2011  \n",
       "42485  2011-01-04 10:00:00       1.25     13313.0  United Kingdom         2011  \n",
       "...                    ...        ...         ...             ...          ...  \n",
       "541904 2011-12-09 12:50:00       0.85     12680.0          France         2011  \n",
       "541905 2011-12-09 12:50:00       2.10     12680.0          France         2011  \n",
       "541906 2011-12-09 12:50:00       4.15     12680.0          France         2011  \n",
       "541907 2011-12-09 12:50:00       4.15     12680.0          France         2011  \n",
       "541908 2011-12-09 12:50:00       4.95     12680.0          France         2011  \n",
       "\n",
       "[499428 rows x 9 columns]"
      ]
     },
     "execution_count": 32,
     "metadata": {},
     "output_type": "execute_result"
    }
   ],
   "source": [
    "# Chuẩn dị dữ liệu\n",
    "# Lọc dữ liệu ănm 2011 \n",
    "\n",
    "df_2 = df_1[df_1['InvoiceYear'] == 2011]\n",
    "df_2"
   ]
  },
  {
   "cell_type": "code",
   "execution_count": 38,
   "id": "8ee3c212-e942-4346-9527-a979ea32cde7",
   "metadata": {},
   "outputs": [
    {
     "data": {
      "text/html": [
       "<div>\n",
       "<style scoped>\n",
       "    .dataframe tbody tr th:only-of-type {\n",
       "        vertical-align: middle;\n",
       "    }\n",
       "\n",
       "    .dataframe tbody tr th {\n",
       "        vertical-align: top;\n",
       "    }\n",
       "\n",
       "    .dataframe thead th {\n",
       "        text-align: right;\n",
       "    }\n",
       "</style>\n",
       "<table border=\"1\" class=\"dataframe\">\n",
       "  <thead>\n",
       "    <tr style=\"text-align: right;\">\n",
       "      <th></th>\n",
       "      <th>InvoiceNo</th>\n",
       "      <th>InvoiceYear</th>\n",
       "      <th>InvoiceDate</th>\n",
       "    </tr>\n",
       "  </thead>\n",
       "  <tbody>\n",
       "    <tr>\n",
       "      <th>42481</th>\n",
       "      <td>539993</td>\n",
       "      <td>2011</td>\n",
       "      <td>2011-01-04</td>\n",
       "    </tr>\n",
       "    <tr>\n",
       "      <th>42498</th>\n",
       "      <td>539994</td>\n",
       "      <td>2011</td>\n",
       "      <td>2011-01-04</td>\n",
       "    </tr>\n",
       "    <tr>\n",
       "      <th>42499</th>\n",
       "      <td>539995</td>\n",
       "      <td>2011</td>\n",
       "      <td>2011-01-04</td>\n",
       "    </tr>\n",
       "    <tr>\n",
       "      <th>42500</th>\n",
       "      <td>539996</td>\n",
       "      <td>2011</td>\n",
       "      <td>2011-01-04</td>\n",
       "    </tr>\n",
       "    <tr>\n",
       "      <th>42501</th>\n",
       "      <td>539997</td>\n",
       "      <td>2011</td>\n",
       "      <td>2011-01-04</td>\n",
       "    </tr>\n",
       "    <tr>\n",
       "      <th>...</th>\n",
       "      <td>...</td>\n",
       "      <td>...</td>\n",
       "      <td>...</td>\n",
       "    </tr>\n",
       "    <tr>\n",
       "      <th>541865</th>\n",
       "      <td>581583</td>\n",
       "      <td>2011</td>\n",
       "      <td>2011-12-09</td>\n",
       "    </tr>\n",
       "    <tr>\n",
       "      <th>541867</th>\n",
       "      <td>581584</td>\n",
       "      <td>2011</td>\n",
       "      <td>2011-12-09</td>\n",
       "    </tr>\n",
       "    <tr>\n",
       "      <th>541869</th>\n",
       "      <td>581585</td>\n",
       "      <td>2011</td>\n",
       "      <td>2011-12-09</td>\n",
       "    </tr>\n",
       "    <tr>\n",
       "      <th>541890</th>\n",
       "      <td>581586</td>\n",
       "      <td>2011</td>\n",
       "      <td>2011-12-09</td>\n",
       "    </tr>\n",
       "    <tr>\n",
       "      <th>541894</th>\n",
       "      <td>581587</td>\n",
       "      <td>2011</td>\n",
       "      <td>2011-12-09</td>\n",
       "    </tr>\n",
       "  </tbody>\n",
       "</table>\n",
       "<p>23875 rows × 3 columns</p>\n",
       "</div>"
      ],
      "text/plain": [
       "       InvoiceNo  InvoiceYear InvoiceDate\n",
       "42481     539993         2011  2011-01-04\n",
       "42498     539994         2011  2011-01-04\n",
       "42499     539995         2011  2011-01-04\n",
       "42500     539996         2011  2011-01-04\n",
       "42501     539997         2011  2011-01-04\n",
       "...          ...          ...         ...\n",
       "541865    581583         2011  2011-12-09\n",
       "541867    581584         2011  2011-12-09\n",
       "541869    581585         2011  2011-12-09\n",
       "541890    581586         2011  2011-12-09\n",
       "541894    581587         2011  2011-12-09\n",
       "\n",
       "[23875 rows x 3 columns]"
      ]
     },
     "execution_count": 38,
     "metadata": {},
     "output_type": "execute_result"
    }
   ],
   "source": [
    "# Đếm số lượng đơn hàng theo ngày\n",
    "# 1 đơn hàng = InvoiceNo (1 đơn hàng xuất hiện nhiều lần dó có nhiều sản phẩm khác nhau --> bỏ duplicates)\n",
    "\n",
    "df_3 = df_2[['InvoiceNo', 'InvoiceYear', 'InvoiceDate']].drop_duplicates(keep='first')\n",
    "\n",
    "# Bỏ giờ ở cột InvoiceDate\n",
    "# df_3['InvoiceDate'] = df_2['InvoiceDate'].dt.date\n",
    "df_3"
   ]
  },
  {
   "cell_type": "code",
   "execution_count": 46,
   "id": "65b94091-03e9-48ea-a573-f70b09a66180",
   "metadata": {},
   "outputs": [
    {
     "data": {
      "text/html": [
       "<div>\n",
       "<style scoped>\n",
       "    .dataframe tbody tr th:only-of-type {\n",
       "        vertical-align: middle;\n",
       "    }\n",
       "\n",
       "    .dataframe tbody tr th {\n",
       "        vertical-align: top;\n",
       "    }\n",
       "\n",
       "    .dataframe thead th {\n",
       "        text-align: right;\n",
       "    }\n",
       "</style>\n",
       "<table border=\"1\" class=\"dataframe\">\n",
       "  <thead>\n",
       "    <tr style=\"text-align: right;\">\n",
       "      <th></th>\n",
       "      <th>InvoiceDate</th>\n",
       "      <th>InvoiceNo</th>\n",
       "    </tr>\n",
       "  </thead>\n",
       "  <tbody>\n",
       "    <tr>\n",
       "      <th>0</th>\n",
       "      <td>2011-01-04</td>\n",
       "      <td>57</td>\n",
       "    </tr>\n",
       "    <tr>\n",
       "      <th>1</th>\n",
       "      <td>2011-01-05</td>\n",
       "      <td>76</td>\n",
       "    </tr>\n",
       "    <tr>\n",
       "      <th>2</th>\n",
       "      <td>2011-01-06</td>\n",
       "      <td>78</td>\n",
       "    </tr>\n",
       "    <tr>\n",
       "      <th>3</th>\n",
       "      <td>2011-01-07</td>\n",
       "      <td>58</td>\n",
       "    </tr>\n",
       "    <tr>\n",
       "      <th>4</th>\n",
       "      <td>2011-01-09</td>\n",
       "      <td>51</td>\n",
       "    </tr>\n",
       "    <tr>\n",
       "      <th>...</th>\n",
       "      <td>...</td>\n",
       "      <td>...</td>\n",
       "    </tr>\n",
       "    <tr>\n",
       "      <th>280</th>\n",
       "      <td>2011-12-05</td>\n",
       "      <td>151</td>\n",
       "    </tr>\n",
       "    <tr>\n",
       "      <th>281</th>\n",
       "      <td>2011-12-06</td>\n",
       "      <td>149</td>\n",
       "    </tr>\n",
       "    <tr>\n",
       "      <th>282</th>\n",
       "      <td>2011-12-07</td>\n",
       "      <td>138</td>\n",
       "    </tr>\n",
       "    <tr>\n",
       "      <th>283</th>\n",
       "      <td>2011-12-08</td>\n",
       "      <td>145</td>\n",
       "    </tr>\n",
       "    <tr>\n",
       "      <th>284</th>\n",
       "      <td>2011-12-09</td>\n",
       "      <td>49</td>\n",
       "    </tr>\n",
       "  </tbody>\n",
       "</table>\n",
       "<p>285 rows × 2 columns</p>\n",
       "</div>"
      ],
      "text/plain": [
       "    InvoiceDate  InvoiceNo\n",
       "0    2011-01-04         57\n",
       "1    2011-01-05         76\n",
       "2    2011-01-06         78\n",
       "3    2011-01-07         58\n",
       "4    2011-01-09         51\n",
       "..          ...        ...\n",
       "280  2011-12-05        151\n",
       "281  2011-12-06        149\n",
       "282  2011-12-07        138\n",
       "283  2011-12-08        145\n",
       "284  2011-12-09         49\n",
       "\n",
       "[285 rows x 2 columns]"
      ]
     },
     "execution_count": 46,
     "metadata": {},
     "output_type": "execute_result"
    }
   ],
   "source": [
    "# gom nhóm dữ liệu: đếm xem mỗi ngày có bao nhiêu đơn hàng\n",
    "\n",
    "df_4 = df_3.groupby('InvoiceDate')['InvoiceNo'].count().reset_index()\n",
    "df_4"
   ]
  },
  {
   "cell_type": "code",
   "execution_count": 47,
   "id": "b656a1e1-fc10-4b27-be49-ceebd9f97bf9",
   "metadata": {},
   "outputs": [
    {
     "name": "stdout",
     "output_type": "stream",
     "text": [
      "<class 'pandas.core.frame.DataFrame'>\n",
      "RangeIndex: 285 entries, 0 to 284\n",
      "Data columns (total 2 columns):\n",
      " #   Column       Non-Null Count  Dtype \n",
      "---  ------       --------------  ----- \n",
      " 0   InvoiceDate  285 non-null    object\n",
      " 1   InvoiceNo    285 non-null    int64 \n",
      "dtypes: int64(1), object(1)\n",
      "memory usage: 4.6+ KB\n"
     ]
    }
   ],
   "source": [
    "df_4.info()"
   ]
  },
  {
   "cell_type": "code",
   "execution_count": 48,
   "id": "78cdabe9-7e80-4e21-98f8-277b9b3e3511",
   "metadata": {},
   "outputs": [
    {
     "data": {
      "image/png": "[encoded data removed]",
      "text/plain": [
       "<Figure size 640x480 with 1 Axes>"
      ]
     },
     "metadata": {},
     "output_type": "display_data"
    }
   ],
   "source": [
    "plt.plot(df_4['InvoiceDate'], df_4['InvoiceNo'], color='green')\n",
    "plt.title('Số lượng đơn hàng năm 2011')\n",
    "plt.show()"
   ]
  },
  {
   "cell_type": "markdown",
   "id": "cb90664e-5e06-4166-b0ad-c80fa79836bb",
   "metadata": {},
   "source": [
    "#### Nhận xét:\r\n",
    "\r\n",
    "Số lượng đơn hàng ngày có sự thay đổi mạn\n",
    "h.\r\n",
    "Giữa tháng 10 và 11 có 1 ngày có số đơn tăng đột bi\n",
    "ến.\r\n",
    "Tuy nhiên, biểu đồ này không thể hiện được việc thiếu dữ liệu trong 1 số ngày (do cách nhóm dữ liệu)."
   ]
  },
  {
   "cell_type": "code",
   "execution_count": 68,
   "id": "a9f341b7-6a30-4dc0-a342-fed68c66927c",
   "metadata": {},
   "outputs": [
    {
     "data": {
      "text/html": [
       "<div>\n",
       "<style scoped>\n",
       "    .dataframe tbody tr th:only-of-type {\n",
       "        vertical-align: middle;\n",
       "    }\n",
       "\n",
       "    .dataframe tbody tr th {\n",
       "        vertical-align: top;\n",
       "    }\n",
       "\n",
       "    .dataframe thead th {\n",
       "        text-align: right;\n",
       "    }\n",
       "</style>\n",
       "<table border=\"1\" class=\"dataframe\">\n",
       "  <thead>\n",
       "    <tr style=\"text-align: right;\">\n",
       "      <th></th>\n",
       "      <th>InvoiceNo</th>\n",
       "      <th>InvoiceYear</th>\n",
       "      <th>InvoiceDate</th>\n",
       "    </tr>\n",
       "  </thead>\n",
       "  <tbody>\n",
       "    <tr>\n",
       "      <th>42481</th>\n",
       "      <td>539993</td>\n",
       "      <td>2011</td>\n",
       "      <td>2011-01-04</td>\n",
       "    </tr>\n",
       "    <tr>\n",
       "      <th>42498</th>\n",
       "      <td>539994</td>\n",
       "      <td>2011</td>\n",
       "      <td>2011-01-04</td>\n",
       "    </tr>\n",
       "    <tr>\n",
       "      <th>42499</th>\n",
       "      <td>539995</td>\n",
       "      <td>2011</td>\n",
       "      <td>2011-01-04</td>\n",
       "    </tr>\n",
       "    <tr>\n",
       "      <th>42500</th>\n",
       "      <td>539996</td>\n",
       "      <td>2011</td>\n",
       "      <td>2011-01-04</td>\n",
       "    </tr>\n",
       "    <tr>\n",
       "      <th>42501</th>\n",
       "      <td>539997</td>\n",
       "      <td>2011</td>\n",
       "      <td>2011-01-04</td>\n",
       "    </tr>\n",
       "    <tr>\n",
       "      <th>...</th>\n",
       "      <td>...</td>\n",
       "      <td>...</td>\n",
       "      <td>...</td>\n",
       "    </tr>\n",
       "    <tr>\n",
       "      <th>541865</th>\n",
       "      <td>581583</td>\n",
       "      <td>2011</td>\n",
       "      <td>2011-12-09</td>\n",
       "    </tr>\n",
       "    <tr>\n",
       "      <th>541867</th>\n",
       "      <td>581584</td>\n",
       "      <td>2011</td>\n",
       "      <td>2011-12-09</td>\n",
       "    </tr>\n",
       "    <tr>\n",
       "      <th>541869</th>\n",
       "      <td>581585</td>\n",
       "      <td>2011</td>\n",
       "      <td>2011-12-09</td>\n",
       "    </tr>\n",
       "    <tr>\n",
       "      <th>541890</th>\n",
       "      <td>581586</td>\n",
       "      <td>2011</td>\n",
       "      <td>2011-12-09</td>\n",
       "    </tr>\n",
       "    <tr>\n",
       "      <th>541894</th>\n",
       "      <td>581587</td>\n",
       "      <td>2011</td>\n",
       "      <td>2011-12-09</td>\n",
       "    </tr>\n",
       "  </tbody>\n",
       "</table>\n",
       "<p>23875 rows × 3 columns</p>\n",
       "</div>"
      ],
      "text/plain": [
       "       InvoiceNo  InvoiceYear InvoiceDate\n",
       "42481     539993         2011  2011-01-04\n",
       "42498     539994         2011  2011-01-04\n",
       "42499     539995         2011  2011-01-04\n",
       "42500     539996         2011  2011-01-04\n",
       "42501     539997         2011  2011-01-04\n",
       "...          ...          ...         ...\n",
       "541865    581583         2011  2011-12-09\n",
       "541867    581584         2011  2011-12-09\n",
       "541869    581585         2011  2011-12-09\n",
       "541890    581586         2011  2011-12-09\n",
       "541894    581587         2011  2011-12-09\n",
       "\n",
       "[23875 rows x 3 columns]"
      ]
     },
     "execution_count": 68,
     "metadata": {},
     "output_type": "execute_result"
    }
   ],
   "source": [
    "df_3"
   ]
  },
  {
   "cell_type": "code",
   "execution_count": 69,
   "id": "bc0336df-d367-46ac-ae8e-8fc36549ae70",
   "metadata": {},
   "outputs": [
    {
     "name": "stdout",
     "output_type": "stream",
     "text": [
      "<class 'pandas.core.frame.DataFrame'>\n",
      "Index: 23875 entries, 42481 to 541894\n",
      "Data columns (total 3 columns):\n",
      " #   Column       Non-Null Count  Dtype \n",
      "---  ------       --------------  ----- \n",
      " 0   InvoiceNo    23875 non-null  object\n",
      " 1   InvoiceYear  23875 non-null  int32 \n",
      " 2   InvoiceDate  23875 non-null  object\n",
      "dtypes: int32(1), object(2)\n",
      "memory usage: 652.8+ KB\n"
     ]
    }
   ],
   "source": [
    "df_3.info()"
   ]
  },
  {
   "cell_type": "code",
   "execution_count": 71,
   "id": "dd52bded-ba7b-49c0-b937-f662ec6110a2",
   "metadata": {},
   "outputs": [
    {
     "name": "stdout",
     "output_type": "stream",
     "text": [
      "<class 'pandas.core.frame.DataFrame'>\n",
      "Index: 23875 entries, 42481 to 541894\n",
      "Data columns (total 3 columns):\n",
      " #   Column       Non-Null Count  Dtype         \n",
      "---  ------       --------------  -----         \n",
      " 0   InvoiceNo    23875 non-null  object        \n",
      " 1   InvoiceYear  23875 non-null  int32         \n",
      " 2   InvoiceDate  23875 non-null  datetime64[ns]\n",
      "dtypes: datetime64[ns](1), int32(1), object(1)\n",
      "memory usage: 652.8+ KB\n"
     ]
    }
   ],
   "source": [
    "df_3['InvoiceDate'] = pd.to_datetime(df_3['InvoiceDate'])\n",
    "df_3.info()"
   ]
  },
  {
   "cell_type": "code",
   "execution_count": 73,
   "id": "8220285a-f0eb-4f39-bc7b-8393f49ab159",
   "metadata": {},
   "outputs": [
    {
     "data": {
      "text/html": [
       "<div>\n",
       "<style scoped>\n",
       "    .dataframe tbody tr th:only-of-type {\n",
       "        vertical-align: middle;\n",
       "    }\n",
       "\n",
       "    .dataframe tbody tr th {\n",
       "        vertical-align: top;\n",
       "    }\n",
       "\n",
       "    .dataframe thead th {\n",
       "        text-align: right;\n",
       "    }\n",
       "</style>\n",
       "<table border=\"1\" class=\"dataframe\">\n",
       "  <thead>\n",
       "    <tr style=\"text-align: right;\">\n",
       "      <th></th>\n",
       "      <th>InvoiceNo</th>\n",
       "      <th>InvoiceYear</th>\n",
       "      <th>InvoiceDate</th>\n",
       "    </tr>\n",
       "  </thead>\n",
       "  <tbody>\n",
       "    <tr>\n",
       "      <th>42481</th>\n",
       "      <td>539993</td>\n",
       "      <td>2011</td>\n",
       "      <td>2011-01-04</td>\n",
       "    </tr>\n",
       "    <tr>\n",
       "      <th>42498</th>\n",
       "      <td>539994</td>\n",
       "      <td>2011</td>\n",
       "      <td>2011-01-04</td>\n",
       "    </tr>\n",
       "    <tr>\n",
       "      <th>42499</th>\n",
       "      <td>539995</td>\n",
       "      <td>2011</td>\n",
       "      <td>2011-01-04</td>\n",
       "    </tr>\n",
       "    <tr>\n",
       "      <th>42500</th>\n",
       "      <td>539996</td>\n",
       "      <td>2011</td>\n",
       "      <td>2011-01-04</td>\n",
       "    </tr>\n",
       "    <tr>\n",
       "      <th>42501</th>\n",
       "      <td>539997</td>\n",
       "      <td>2011</td>\n",
       "      <td>2011-01-04</td>\n",
       "    </tr>\n",
       "    <tr>\n",
       "      <th>...</th>\n",
       "      <td>...</td>\n",
       "      <td>...</td>\n",
       "      <td>...</td>\n",
       "    </tr>\n",
       "    <tr>\n",
       "      <th>541865</th>\n",
       "      <td>581583</td>\n",
       "      <td>2011</td>\n",
       "      <td>2011-12-09</td>\n",
       "    </tr>\n",
       "    <tr>\n",
       "      <th>541867</th>\n",
       "      <td>581584</td>\n",
       "      <td>2011</td>\n",
       "      <td>2011-12-09</td>\n",
       "    </tr>\n",
       "    <tr>\n",
       "      <th>541869</th>\n",
       "      <td>581585</td>\n",
       "      <td>2011</td>\n",
       "      <td>2011-12-09</td>\n",
       "    </tr>\n",
       "    <tr>\n",
       "      <th>541890</th>\n",
       "      <td>581586</td>\n",
       "      <td>2011</td>\n",
       "      <td>2011-12-09</td>\n",
       "    </tr>\n",
       "    <tr>\n",
       "      <th>541894</th>\n",
       "      <td>581587</td>\n",
       "      <td>2011</td>\n",
       "      <td>2011-12-09</td>\n",
       "    </tr>\n",
       "  </tbody>\n",
       "</table>\n",
       "<p>23875 rows × 3 columns</p>\n",
       "</div>"
      ],
      "text/plain": [
       "       InvoiceNo  InvoiceYear InvoiceDate\n",
       "42481     539993         2011  2011-01-04\n",
       "42498     539994         2011  2011-01-04\n",
       "42499     539995         2011  2011-01-04\n",
       "42500     539996         2011  2011-01-04\n",
       "42501     539997         2011  2011-01-04\n",
       "...          ...          ...         ...\n",
       "541865    581583         2011  2011-12-09\n",
       "541867    581584         2011  2011-12-09\n",
       "541869    581585         2011  2011-12-09\n",
       "541890    581586         2011  2011-12-09\n",
       "541894    581587         2011  2011-12-09\n",
       "\n",
       "[23875 rows x 3 columns]"
      ]
     },
     "execution_count": 73,
     "metadata": {},
     "output_type": "execute_result"
    }
   ],
   "source": [
    "\n",
    "df_5 = df_3[['InvoiceNo', 'InvoiceYear', 'InvoiceDate']].drop_duplicates(keep='first')\n",
    "\n",
    "# Bỏ giờ ở cột InvoiceDate\n",
    "df_5['InvoiceDate'] = df_3['InvoiceDate'].dt.date\n",
    "df_5"
   ]
  },
  {
   "cell_type": "code",
   "execution_count": 74,
   "id": "9c696d0d-a6e5-435f-bf92-0d02966a356e",
   "metadata": {},
   "outputs": [
    {
     "name": "stdout",
     "output_type": "stream",
     "text": [
      "<class 'pandas.core.frame.DataFrame'>\n",
      "Index: 23875 entries, 42481 to 541894\n",
      "Data columns (total 3 columns):\n",
      " #   Column       Non-Null Count  Dtype \n",
      "---  ------       --------------  ----- \n",
      " 0   InvoiceNo    23875 non-null  object\n",
      " 1   InvoiceYear  23875 non-null  int32 \n",
      " 2   InvoiceDate  23875 non-null  object\n",
      "dtypes: int32(1), object(2)\n",
      "memory usage: 652.8+ KB\n"
     ]
    }
   ],
   "source": [
    "df_5.info()"
   ]
  },
  {
   "cell_type": "code",
   "execution_count": 76,
   "id": "1d471d7d-85f2-4e1d-b1ba-cd67d4351b86",
   "metadata": {},
   "outputs": [
    {
     "data": {
      "text/html": [
       "<div>\n",
       "<style scoped>\n",
       "    .dataframe tbody tr th:only-of-type {\n",
       "        vertical-align: middle;\n",
       "    }\n",
       "\n",
       "    .dataframe tbody tr th {\n",
       "        vertical-align: top;\n",
       "    }\n",
       "\n",
       "    .dataframe thead th {\n",
       "        text-align: right;\n",
       "    }\n",
       "</style>\n",
       "<table border=\"1\" class=\"dataframe\">\n",
       "  <thead>\n",
       "    <tr style=\"text-align: right;\">\n",
       "      <th></th>\n",
       "      <th>InvoiceDate</th>\n",
       "      <th>InvoiceNo</th>\n",
       "    </tr>\n",
       "  </thead>\n",
       "  <tbody>\n",
       "    <tr>\n",
       "      <th>0</th>\n",
       "      <td>2011-01-04</td>\n",
       "      <td>57</td>\n",
       "    </tr>\n",
       "    <tr>\n",
       "      <th>1</th>\n",
       "      <td>2011-01-05</td>\n",
       "      <td>76</td>\n",
       "    </tr>\n",
       "    <tr>\n",
       "      <th>2</th>\n",
       "      <td>2011-01-06</td>\n",
       "      <td>78</td>\n",
       "    </tr>\n",
       "    <tr>\n",
       "      <th>3</th>\n",
       "      <td>2011-01-07</td>\n",
       "      <td>58</td>\n",
       "    </tr>\n",
       "    <tr>\n",
       "      <th>4</th>\n",
       "      <td>2011-01-09</td>\n",
       "      <td>51</td>\n",
       "    </tr>\n",
       "    <tr>\n",
       "      <th>...</th>\n",
       "      <td>...</td>\n",
       "      <td>...</td>\n",
       "    </tr>\n",
       "    <tr>\n",
       "      <th>280</th>\n",
       "      <td>2011-12-05</td>\n",
       "      <td>151</td>\n",
       "    </tr>\n",
       "    <tr>\n",
       "      <th>281</th>\n",
       "      <td>2011-12-06</td>\n",
       "      <td>149</td>\n",
       "    </tr>\n",
       "    <tr>\n",
       "      <th>282</th>\n",
       "      <td>2011-12-07</td>\n",
       "      <td>138</td>\n",
       "    </tr>\n",
       "    <tr>\n",
       "      <th>283</th>\n",
       "      <td>2011-12-08</td>\n",
       "      <td>145</td>\n",
       "    </tr>\n",
       "    <tr>\n",
       "      <th>284</th>\n",
       "      <td>2011-12-09</td>\n",
       "      <td>49</td>\n",
       "    </tr>\n",
       "  </tbody>\n",
       "</table>\n",
       "<p>285 rows × 2 columns</p>\n",
       "</div>"
      ],
      "text/plain": [
       "    InvoiceDate  InvoiceNo\n",
       "0    2011-01-04         57\n",
       "1    2011-01-05         76\n",
       "2    2011-01-06         78\n",
       "3    2011-01-07         58\n",
       "4    2011-01-09         51\n",
       "..          ...        ...\n",
       "280  2011-12-05        151\n",
       "281  2011-12-06        149\n",
       "282  2011-12-07        138\n",
       "283  2011-12-08        145\n",
       "284  2011-12-09         49\n",
       "\n",
       "[285 rows x 2 columns]"
      ]
     },
     "execution_count": 76,
     "metadata": {},
     "output_type": "execute_result"
    }
   ],
   "source": [
    "df5 = df_5.groupby('InvoiceDate')['InvoiceNo'].count().reset_index()\n",
    "df5"
   ]
  },
  {
   "cell_type": "code",
   "execution_count": 77,
   "id": "158907fb-068a-4b54-87ae-1254c4b1536d",
   "metadata": {},
   "outputs": [
    {
     "data": {
      "image/png": "[encoded data removed]",
      "text/plain": [
       "<Figure size 640x480 with 1 Axes>"
      ]
     },
     "metadata": {},
     "output_type": "display_data"
    }
   ],
   "source": [
    "# vẼ BIỂU ĐỒ DỰA TRÊN DF5\n",
    "\n",
    "df5.columns = ['Date', 'Count']\n",
    "\n",
    "plt.plot(df5['Date'], df5['Count'])\n",
    "plt.show()"
   ]
  },
  {
   "cell_type": "code",
   "execution_count": 78,
   "id": "9c3166a5-7795-4409-83e6-e34c2eccbb6f",
   "metadata": {},
   "outputs": [
    {
     "data": {
      "text/html": [
       "<div>\n",
       "<style scoped>\n",
       "    .dataframe tbody tr th:only-of-type {\n",
       "        vertical-align: middle;\n",
       "    }\n",
       "\n",
       "    .dataframe tbody tr th {\n",
       "        vertical-align: top;\n",
       "    }\n",
       "\n",
       "    .dataframe thead th {\n",
       "        text-align: right;\n",
       "    }\n",
       "</style>\n",
       "<table border=\"1\" class=\"dataframe\">\n",
       "  <thead>\n",
       "    <tr style=\"text-align: right;\">\n",
       "      <th></th>\n",
       "      <th>Date</th>\n",
       "      <th>Count</th>\n",
       "    </tr>\n",
       "  </thead>\n",
       "  <tbody>\n",
       "    <tr>\n",
       "      <th>0</th>\n",
       "      <td>2011-01-04</td>\n",
       "      <td>57</td>\n",
       "    </tr>\n",
       "    <tr>\n",
       "      <th>1</th>\n",
       "      <td>2011-01-05</td>\n",
       "      <td>76</td>\n",
       "    </tr>\n",
       "    <tr>\n",
       "      <th>2</th>\n",
       "      <td>2011-01-06</td>\n",
       "      <td>78</td>\n",
       "    </tr>\n",
       "    <tr>\n",
       "      <th>3</th>\n",
       "      <td>2011-01-07</td>\n",
       "      <td>58</td>\n",
       "    </tr>\n",
       "    <tr>\n",
       "      <th>4</th>\n",
       "      <td>2011-01-09</td>\n",
       "      <td>51</td>\n",
       "    </tr>\n",
       "    <tr>\n",
       "      <th>...</th>\n",
       "      <td>...</td>\n",
       "      <td>...</td>\n",
       "    </tr>\n",
       "    <tr>\n",
       "      <th>280</th>\n",
       "      <td>2011-12-05</td>\n",
       "      <td>151</td>\n",
       "    </tr>\n",
       "    <tr>\n",
       "      <th>281</th>\n",
       "      <td>2011-12-06</td>\n",
       "      <td>149</td>\n",
       "    </tr>\n",
       "    <tr>\n",
       "      <th>282</th>\n",
       "      <td>2011-12-07</td>\n",
       "      <td>138</td>\n",
       "    </tr>\n",
       "    <tr>\n",
       "      <th>283</th>\n",
       "      <td>2011-12-08</td>\n",
       "      <td>145</td>\n",
       "    </tr>\n",
       "    <tr>\n",
       "      <th>284</th>\n",
       "      <td>2011-12-09</td>\n",
       "      <td>49</td>\n",
       "    </tr>\n",
       "  </tbody>\n",
       "</table>\n",
       "<p>285 rows × 2 columns</p>\n",
       "</div>"
      ],
      "text/plain": [
       "           Date  Count\n",
       "0    2011-01-04     57\n",
       "1    2011-01-05     76\n",
       "2    2011-01-06     78\n",
       "3    2011-01-07     58\n",
       "4    2011-01-09     51\n",
       "..          ...    ...\n",
       "280  2011-12-05    151\n",
       "281  2011-12-06    149\n",
       "282  2011-12-07    138\n",
       "283  2011-12-08    145\n",
       "284  2011-12-09     49\n",
       "\n",
       "[285 rows x 2 columns]"
      ]
     },
     "execution_count": 78,
     "metadata": {},
     "output_type": "execute_result"
    }
   ],
   "source": [
    "df5"
   ]
  },
  {
   "cell_type": "code",
   "execution_count": 56,
   "id": "11da0f6a-673b-40f2-a774-7f634af670e9",
   "metadata": {},
   "outputs": [
    {
     "data": {
      "image/png": "[encoded data removed]",
      "text/plain": [
       "<Figure size 640x480 with 1 Axes>"
      ]
     },
     "metadata": {},
     "output_type": "display_data"
    }
   ],
   "source": [
    "# Vẽ dựa trên bảng df_4\n",
    "\n",
    "df_4.columns = ['Date', 'Count']\n",
    "df_4\n",
    "plt.plot(df_4['Date'], df_4['Count'], color='green')\n",
    "plt.title('Số lượng đơn hàng năm 2011')\n",
    "plt.show()"
   ]
  },
  {
   "cell_type": "markdown",
   "id": "e3e4a615-c5be-4b34-9140-101139a2d56b",
   "metadata": {},
   "source": [
    "## Vẽ biểu đồ cột so sánh số lượng đơn hàng trong các tháng của năm 2011¶"
   ]
  },
  {
   "cell_type": "code",
   "execution_count": 57,
   "id": "e20556b6-3664-4574-9028-93faa09adbbe",
   "metadata": {},
   "outputs": [
    {
     "data": {
      "text/html": [
       "<div>\n",
       "<style scoped>\n",
       "    .dataframe tbody tr th:only-of-type {\n",
       "        vertical-align: middle;\n",
       "    }\n",
       "\n",
       "    .dataframe tbody tr th {\n",
       "        vertical-align: top;\n",
       "    }\n",
       "\n",
       "    .dataframe thead th {\n",
       "        text-align: right;\n",
       "    }\n",
       "</style>\n",
       "<table border=\"1\" class=\"dataframe\">\n",
       "  <thead>\n",
       "    <tr style=\"text-align: right;\">\n",
       "      <th></th>\n",
       "      <th>InvoiceNo</th>\n",
       "      <th>InvoiceYear</th>\n",
       "      <th>InvoiceDate</th>\n",
       "    </tr>\n",
       "  </thead>\n",
       "  <tbody>\n",
       "    <tr>\n",
       "      <th>42481</th>\n",
       "      <td>539993</td>\n",
       "      <td>2011</td>\n",
       "      <td>2011-01-04</td>\n",
       "    </tr>\n",
       "    <tr>\n",
       "      <th>42498</th>\n",
       "      <td>539994</td>\n",
       "      <td>2011</td>\n",
       "      <td>2011-01-04</td>\n",
       "    </tr>\n",
       "    <tr>\n",
       "      <th>42499</th>\n",
       "      <td>539995</td>\n",
       "      <td>2011</td>\n",
       "      <td>2011-01-04</td>\n",
       "    </tr>\n",
       "    <tr>\n",
       "      <th>42500</th>\n",
       "      <td>539996</td>\n",
       "      <td>2011</td>\n",
       "      <td>2011-01-04</td>\n",
       "    </tr>\n",
       "    <tr>\n",
       "      <th>42501</th>\n",
       "      <td>539997</td>\n",
       "      <td>2011</td>\n",
       "      <td>2011-01-04</td>\n",
       "    </tr>\n",
       "    <tr>\n",
       "      <th>...</th>\n",
       "      <td>...</td>\n",
       "      <td>...</td>\n",
       "      <td>...</td>\n",
       "    </tr>\n",
       "    <tr>\n",
       "      <th>541865</th>\n",
       "      <td>581583</td>\n",
       "      <td>2011</td>\n",
       "      <td>2011-12-09</td>\n",
       "    </tr>\n",
       "    <tr>\n",
       "      <th>541867</th>\n",
       "      <td>581584</td>\n",
       "      <td>2011</td>\n",
       "      <td>2011-12-09</td>\n",
       "    </tr>\n",
       "    <tr>\n",
       "      <th>541869</th>\n",
       "      <td>581585</td>\n",
       "      <td>2011</td>\n",
       "      <td>2011-12-09</td>\n",
       "    </tr>\n",
       "    <tr>\n",
       "      <th>541890</th>\n",
       "      <td>581586</td>\n",
       "      <td>2011</td>\n",
       "      <td>2011-12-09</td>\n",
       "    </tr>\n",
       "    <tr>\n",
       "      <th>541894</th>\n",
       "      <td>581587</td>\n",
       "      <td>2011</td>\n",
       "      <td>2011-12-09</td>\n",
       "    </tr>\n",
       "  </tbody>\n",
       "</table>\n",
       "<p>23875 rows × 3 columns</p>\n",
       "</div>"
      ],
      "text/plain": [
       "       InvoiceNo  InvoiceYear InvoiceDate\n",
       "42481     539993         2011  2011-01-04\n",
       "42498     539994         2011  2011-01-04\n",
       "42499     539995         2011  2011-01-04\n",
       "42500     539996         2011  2011-01-04\n",
       "42501     539997         2011  2011-01-04\n",
       "...          ...          ...         ...\n",
       "541865    581583         2011  2011-12-09\n",
       "541867    581584         2011  2011-12-09\n",
       "541869    581585         2011  2011-12-09\n",
       "541890    581586         2011  2011-12-09\n",
       "541894    581587         2011  2011-12-09\n",
       "\n",
       "[23875 rows x 3 columns]"
      ]
     },
     "execution_count": 57,
     "metadata": {},
     "output_type": "execute_result"
    }
   ],
   "source": [
    "df_2"
   ]
  },
  {
   "cell_type": "code",
   "execution_count": 60,
   "id": "e06ea320-1277-458c-9149-a10d2155535f",
   "metadata": {},
   "outputs": [
    {
     "name": "stdout",
     "output_type": "stream",
     "text": [
      "<class 'pandas.core.frame.DataFrame'>\n",
      "Index: 23875 entries, 42481 to 541894\n",
      "Data columns (total 3 columns):\n",
      " #   Column       Non-Null Count  Dtype \n",
      "---  ------       --------------  ----- \n",
      " 0   InvoiceNo    23875 non-null  object\n",
      " 1   InvoiceYear  23875 non-null  int32 \n",
      " 2   InvoiceDate  23875 non-null  object\n",
      "dtypes: int32(1), object(2)\n",
      "memory usage: 652.8+ KB\n"
     ]
    }
   ],
   "source": [
    "df_2.info()"
   ]
  },
  {
   "cell_type": "code",
   "execution_count": 62,
   "id": "107b6f46-d9b1-4e06-bee1-4137e6517e92",
   "metadata": {},
   "outputs": [
    {
     "name": "stdout",
     "output_type": "stream",
     "text": [
      "<class 'pandas.core.frame.DataFrame'>\n",
      "Index: 23875 entries, 42481 to 541894\n",
      "Data columns (total 3 columns):\n",
      " #   Column       Non-Null Count  Dtype         \n",
      "---  ------       --------------  -----         \n",
      " 0   InvoiceNo    23875 non-null  object        \n",
      " 1   InvoiceYear  23875 non-null  int32         \n",
      " 2   InvoiceDate  23875 non-null  datetime64[ns]\n",
      "dtypes: datetime64[ns](1), int32(1), object(1)\n",
      "memory usage: 652.8+ KB\n"
     ]
    }
   ],
   "source": [
    "df_2['InvoiceDate'] = pd.to_datetime(df_2['InvoiceDate'])\n",
    "df_2.info()"
   ]
  },
  {
   "cell_type": "code",
   "execution_count": 63,
   "id": "1a1a95d0-ed1e-4815-a42b-00e3c7778648",
   "metadata": {},
   "outputs": [],
   "source": [
    "# Biểu đồ: bar\n",
    "# chuẩn bị dữ liệu\n",
    " # cột x tháng , cột y số lượng đơn hàng\n",
    "\n",
    "df_6 = df_2[['InvoiceNo', 'InvoiceYear', 'InvoiceDate']].drop_duplicates(keep='first')\n",
    "df_6['InvoiceMonth'] = df_2['InvoiceDate'].dt.month"
   ]
  },
  {
   "cell_type": "code",
   "execution_count": 65,
   "id": "8f4a6f6a-0fe0-410c-a6b2-345133c3e8c4",
   "metadata": {},
   "outputs": [
    {
     "data": {
      "text/html": [
       "<div>\n",
       "<style scoped>\n",
       "    .dataframe tbody tr th:only-of-type {\n",
       "        vertical-align: middle;\n",
       "    }\n",
       "\n",
       "    .dataframe tbody tr th {\n",
       "        vertical-align: top;\n",
       "    }\n",
       "\n",
       "    .dataframe thead th {\n",
       "        text-align: right;\n",
       "    }\n",
       "</style>\n",
       "<table border=\"1\" class=\"dataframe\">\n",
       "  <thead>\n",
       "    <tr style=\"text-align: right;\">\n",
       "      <th></th>\n",
       "      <th>Month</th>\n",
       "      <th>Count</th>\n",
       "    </tr>\n",
       "  </thead>\n",
       "  <tbody>\n",
       "    <tr>\n",
       "      <th>0</th>\n",
       "      <td>1</td>\n",
       "      <td>1476</td>\n",
       "    </tr>\n",
       "    <tr>\n",
       "      <th>1</th>\n",
       "      <td>2</td>\n",
       "      <td>1393</td>\n",
       "    </tr>\n",
       "    <tr>\n",
       "      <th>2</th>\n",
       "      <td>3</td>\n",
       "      <td>1983</td>\n",
       "    </tr>\n",
       "    <tr>\n",
       "      <th>3</th>\n",
       "      <td>4</td>\n",
       "      <td>1744</td>\n",
       "    </tr>\n",
       "    <tr>\n",
       "      <th>4</th>\n",
       "      <td>5</td>\n",
       "      <td>2162</td>\n",
       "    </tr>\n",
       "    <tr>\n",
       "      <th>5</th>\n",
       "      <td>6</td>\n",
       "      <td>2012</td>\n",
       "    </tr>\n",
       "    <tr>\n",
       "      <th>6</th>\n",
       "      <td>7</td>\n",
       "      <td>1927</td>\n",
       "    </tr>\n",
       "    <tr>\n",
       "      <th>7</th>\n",
       "      <td>8</td>\n",
       "      <td>1737</td>\n",
       "    </tr>\n",
       "    <tr>\n",
       "      <th>8</th>\n",
       "      <td>9</td>\n",
       "      <td>2327</td>\n",
       "    </tr>\n",
       "    <tr>\n",
       "      <th>9</th>\n",
       "      <td>10</td>\n",
       "      <td>2637</td>\n",
       "    </tr>\n",
       "    <tr>\n",
       "      <th>10</th>\n",
       "      <td>11</td>\n",
       "      <td>3462</td>\n",
       "    </tr>\n",
       "    <tr>\n",
       "      <th>11</th>\n",
       "      <td>12</td>\n",
       "      <td>1015</td>\n",
       "    </tr>\n",
       "  </tbody>\n",
       "</table>\n",
       "</div>"
      ],
      "text/plain": [
       "    Month  Count\n",
       "0       1   1476\n",
       "1       2   1393\n",
       "2       3   1983\n",
       "3       4   1744\n",
       "4       5   2162\n",
       "5       6   2012\n",
       "6       7   1927\n",
       "7       8   1737\n",
       "8       9   2327\n",
       "9      10   2637\n",
       "10     11   3462\n",
       "11     12   1015"
      ]
     },
     "execution_count": 65,
     "metadata": {},
     "output_type": "execute_result"
    }
   ],
   "source": [
    "df_7 = df_6.groupby('InvoiceMonth')['InvoiceNo'].count().reset_index()\n",
    "df_7.columns = ['Month', 'Count']\n",
    "df_7"
   ]
  },
  {
   "cell_type": "code",
   "execution_count": 66,
   "id": "f7a53cc9-8b14-4ee8-bcb4-5cf7832b7a62",
   "metadata": {},
   "outputs": [
    {
     "data": {
      "image/png": "[encoded data removed]",
      "text/plain": [
       "<Figure size 640x480 with 1 Axes>"
      ]
     },
     "metadata": {},
     "output_type": "display_data"
    }
   ],
   "source": [
    "# vẽ\n",
    "\n",
    "plt.bar(df_7['Month'], df_7['Count'])\n",
    "plt.show()"
   ]
  },
  {
   "cell_type": "markdown",
   "id": "26c273a8-7874-475f-9170-f8449700cc7c",
   "metadata": {},
   "source": [
    "#### Nhận xét:\r\n",
    "\r\n",
    "3 tháng 9, 10, 11 có số lượng đơn hàng tăng đáng kể, trong đó tháng 11 có số đơn hàng cao nhất.\r\n",
    "Tháng 12 có tổng số lượng đơn hàng thấp nhất."
   ]
  }
 ],
 "metadata": {
  "kernelspec": {
   "display_name": "Python 3 (ipykernel)",
   "language": "python",
   "name": "python3"
  },
  "language_info": {
   "codemirror_mode": {
    "name": "ipython",
    "version": 3
   },
   "file_extension": ".py",
   "mimetype": "text/x-python",
   "name": "python",
   "nbconvert_exporter": "python",
   "pygments_lexer": "ipython3",
   "version": "3.11.4"
  }
 },
 "nbformat": 4,
 "nbformat_minor": 5
}
