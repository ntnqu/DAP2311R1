{
 "cells": [
  {
   "cell_type": "code",
   "execution_count": 1,
   "id": "5922a9b7-0a90-42b6-9969-f3c756e5b183",
   "metadata": {},
   "outputs": [],
   "source": [
    "# Nhập thư viện\n",
    "\n",
    "import pandas as pd\n",
    "import numpy as np"
   ]
  },
  {
   "cell_type": "code",
   "execution_count": 2,
   "id": "fb8bae72-14ba-4a35-820e-2774f54e0a3d",
   "metadata": {},
   "outputs": [
    {
     "data": {
      "text/html": [
       "<div>\n",
       "<style scoped>\n",
       "    .dataframe tbody tr th:only-of-type {\n",
       "        vertical-align: middle;\n",
       "    }\n",
       "\n",
       "    .dataframe tbody tr th {\n",
       "        vertical-align: top;\n",
       "    }\n",
       "\n",
       "    .dataframe thead th {\n",
       "        text-align: right;\n",
       "    }\n",
       "</style>\n",
       "<table border=\"1\" class=\"dataframe\">\n",
       "  <thead>\n",
       "    <tr style=\"text-align: right;\">\n",
       "      <th></th>\n",
       "      <th>Place</th>\n",
       "      <th>ProductId</th>\n",
       "      <th>ProductName</th>\n",
       "      <th>UmId</th>\n",
       "      <th>UmName</th>\n",
       "      <th>Month</th>\n",
       "      <th>Year</th>\n",
       "      <th>Price</th>\n",
       "    </tr>\n",
       "  </thead>\n",
       "  <tbody>\n",
       "    <tr>\n",
       "      <th>0</th>\n",
       "      <td>National Average</td>\n",
       "      <td>52</td>\n",
       "      <td>Rice - Retail</td>\n",
       "      <td>5</td>\n",
       "      <td>KG</td>\n",
       "      <td>5</td>\n",
       "      <td>2013</td>\n",
       "      <td>4.4920</td>\n",
       "    </tr>\n",
       "    <tr>\n",
       "      <th>1</th>\n",
       "      <td>National Average</td>\n",
       "      <td>52</td>\n",
       "      <td>Rice - Retail</td>\n",
       "      <td>5</td>\n",
       "      <td>KG</td>\n",
       "      <td>6</td>\n",
       "      <td>2013</td>\n",
       "      <td>4.5786</td>\n",
       "    </tr>\n",
       "    <tr>\n",
       "      <th>2</th>\n",
       "      <td>National Average</td>\n",
       "      <td>52</td>\n",
       "      <td>Rice - Retail</td>\n",
       "      <td>5</td>\n",
       "      <td>KG</td>\n",
       "      <td>11</td>\n",
       "      <td>2013</td>\n",
       "      <td>4.7865</td>\n",
       "    </tr>\n",
       "    <tr>\n",
       "      <th>3</th>\n",
       "      <td>National Average</td>\n",
       "      <td>52</td>\n",
       "      <td>Rice - Retail</td>\n",
       "      <td>5</td>\n",
       "      <td>KG</td>\n",
       "      <td>12</td>\n",
       "      <td>2013</td>\n",
       "      <td>5.1337</td>\n",
       "    </tr>\n",
       "    <tr>\n",
       "      <th>4</th>\n",
       "      <td>National Average</td>\n",
       "      <td>52</td>\n",
       "      <td>Rice - Retail</td>\n",
       "      <td>5</td>\n",
       "      <td>KG</td>\n",
       "      <td>1</td>\n",
       "      <td>2014</td>\n",
       "      <td>5.5099</td>\n",
       "    </tr>\n",
       "    <tr>\n",
       "      <th>5</th>\n",
       "      <td>National Average</td>\n",
       "      <td>52</td>\n",
       "      <td>Rice - Retail</td>\n",
       "      <td>5</td>\n",
       "      <td>KG</td>\n",
       "      <td>2</td>\n",
       "      <td>2014</td>\n",
       "      <td>5.8146</td>\n",
       "    </tr>\n",
       "    <tr>\n",
       "      <th>6</th>\n",
       "      <td>National Average</td>\n",
       "      <td>52</td>\n",
       "      <td>Rice - Retail</td>\n",
       "      <td>5</td>\n",
       "      <td>KG</td>\n",
       "      <td>3</td>\n",
       "      <td>2014</td>\n",
       "      <td>6.0014</td>\n",
       "    </tr>\n",
       "    <tr>\n",
       "      <th>7</th>\n",
       "      <td>National Average</td>\n",
       "      <td>52</td>\n",
       "      <td>Rice - Retail</td>\n",
       "      <td>5</td>\n",
       "      <td>KG</td>\n",
       "      <td>5</td>\n",
       "      <td>2014</td>\n",
       "      <td>6.3202</td>\n",
       "    </tr>\n",
       "    <tr>\n",
       "      <th>8</th>\n",
       "      <td>National Average</td>\n",
       "      <td>52</td>\n",
       "      <td>Rice - Retail</td>\n",
       "      <td>5</td>\n",
       "      <td>KG</td>\n",
       "      <td>6</td>\n",
       "      <td>2014</td>\n",
       "      <td>6.6019</td>\n",
       "    </tr>\n",
       "    <tr>\n",
       "      <th>9</th>\n",
       "      <td>National Average</td>\n",
       "      <td>52</td>\n",
       "      <td>Rice - Retail</td>\n",
       "      <td>5</td>\n",
       "      <td>KG</td>\n",
       "      <td>7</td>\n",
       "      <td>2014</td>\n",
       "      <td>6.6503</td>\n",
       "    </tr>\n",
       "  </tbody>\n",
       "</table>\n",
       "</div>"
      ],
      "text/plain": [
       "              Place  ProductId    ProductName  UmId UmName  Month  Year  \\\n",
       "0  National Average         52  Rice - Retail     5     KG      5  2013   \n",
       "1  National Average         52  Rice - Retail     5     KG      6  2013   \n",
       "2  National Average         52  Rice - Retail     5     KG     11  2013   \n",
       "3  National Average         52  Rice - Retail     5     KG     12  2013   \n",
       "4  National Average         52  Rice - Retail     5     KG      1  2014   \n",
       "5  National Average         52  Rice - Retail     5     KG      2  2014   \n",
       "6  National Average         52  Rice - Retail     5     KG      3  2014   \n",
       "7  National Average         52  Rice - Retail     5     KG      5  2014   \n",
       "8  National Average         52  Rice - Retail     5     KG      6  2014   \n",
       "9  National Average         52  Rice - Retail     5     KG      7  2014   \n",
       "\n",
       "    Price  \n",
       "0  4.4920  \n",
       "1  4.5786  \n",
       "2  4.7865  \n",
       "3  5.1337  \n",
       "4  5.5099  \n",
       "5  5.8146  \n",
       "6  6.0014  \n",
       "7  6.3202  \n",
       "8  6.6019  \n",
       "9  6.6503  "
      ]
     },
     "execution_count": 2,
     "metadata": {},
     "output_type": "execute_result"
    }
   ],
   "source": [
    "# Đọc dữ liệu\n",
    "\n",
    "df = pd.read_csv('FoodPrice_in_Turkey.csv')\n",
    "\n",
    "# xem 10 dòng đầu của dữ liệu\n",
    "df.head(10)"
   ]
  },
  {
   "cell_type": "markdown",
   "id": "dee73734-aa32-4005-9f20-e0cf21573253",
   "metadata": {},
   "source": [
    "### Bộ dữ liệu chứa bao nhiêu dòng, bao nhiêu cột"
   ]
  },
  {
   "cell_type": "code",
   "execution_count": 3,
   "id": "229fe6da-2f97-4dd9-82d5-15eef207ff1a",
   "metadata": {},
   "outputs": [
    {
     "data": {
      "text/plain": [
       "(7381, 8)"
      ]
     },
     "execution_count": 3,
     "metadata": {},
     "output_type": "execute_result"
    }
   ],
   "source": [
    "df.shape"
   ]
  },
  {
   "cell_type": "code",
   "execution_count": null,
   "id": "cb9b904a-1585-496c-80d8-2ea6339b330a",
   "metadata": {},
   "outputs": [],
   "source": [
    "Dữ liệu có 7381 dòng, 8 cột"
   ]
  },
  {
   "cell_type": "markdown",
   "id": "4dcf9565-b8ab-41bb-8477-db2519126b4c",
   "metadata": {},
   "source": [
    "### Thang đo tương ứng của các thuộc tính được lưu trữ"
   ]
  },
  {
   "cell_type": "code",
   "execution_count": 4,
   "id": "3b744920-0fe9-4a9c-86c7-44694aa015b7",
   "metadata": {},
   "outputs": [
    {
     "name": "stdout",
     "output_type": "stream",
     "text": [
      "<class 'pandas.core.frame.DataFrame'>\n",
      "RangeIndex: 7381 entries, 0 to 7380\n",
      "Data columns (total 8 columns):\n",
      " #   Column       Non-Null Count  Dtype  \n",
      "---  ------       --------------  -----  \n",
      " 0   Place        7381 non-null   object \n",
      " 1   ProductId    7381 non-null   int64  \n",
      " 2   ProductName  7381 non-null   object \n",
      " 3   UmId         7381 non-null   int64  \n",
      " 4   UmName       7381 non-null   object \n",
      " 5   Month        7381 non-null   int64  \n",
      " 6   Year         7381 non-null   int64  \n",
      " 7   Price        7381 non-null   float64\n",
      "dtypes: float64(1), int64(4), object(3)\n",
      "memory usage: 461.4+ KB\n"
     ]
    }
   ],
   "source": [
    "df.info()"
   ]
  },
  {
   "cell_type": "markdown",
   "id": "cb2ac8e5-21af-4da4-8deb-d08c8c8298d9",
   "metadata": {},
   "source": [
    "### Giá trung bình của từng loại thực phẩm là bao nhiêu"
   ]
  },
  {
   "cell_type": "code",
   "execution_count": 5,
   "id": "74bbf20d-1a2e-4ffc-9a08-00d0b1fb6752",
   "metadata": {
    "scrolled": true
   },
   "outputs": [
    {
     "data": {
      "text/plain": [
       "ProductName\n",
       "Apples (red) - Retail                                       2.392193\n",
       "Apples - Retail                                             3.885039\n",
       "Bananas - Retail                                            8.224784\n",
       "Beans (white) - Retail                                      9.572830\n",
       "Bread (common) - Retail                                     4.463293\n",
       "Bread (pita) - Retail                                       2.404545\n",
       "Bulgur - Retail                                             3.516712\n",
       "Cabbage - Retail                                            1.723395\n",
       "Cauliflower - Retail                                        3.274868\n",
       "Cheese - Retail                                            25.522875\n",
       "Chickpeas - Retail                                         10.347860\n",
       "Cocoa (powder) - Retail                                    43.802339\n",
       "Coffee (instant) - Retail                                  43.295493\n",
       "Coffee - Retail                                            42.468075\n",
       "Cucumbers (greenhouse) - Retail                             2.206807\n",
       "Cucumbers - Retail                                          3.411326\n",
       "Eggplants - Retail                                          3.882645\n",
       "Eggs - Retail                                               0.505925\n",
       "Electricity - Retail                                        0.513580\n",
       "Fish (fresh) - Retail                                      22.698257\n",
       "Fuel (gas) - Retail                                        83.976703\n",
       "Fuel (petrol-gasoline) - Retail                             8.592519\n",
       "Garlic - Retail                                            16.610370\n",
       "Groundnuts (shelled) - Retail                              21.832122\n",
       "Lentils - Retail                                            6.651817\n",
       "Meat (chicken) - Retail                                     9.683471\n",
       "Meat (mutton) - Retail                                     45.557209\n",
       "Meat (veal) - Retail                                       41.270904\n",
       "Milk (pasteurized) - Retail                                 3.679687\n",
       "Milk (powder, infant formula) - Retail                    108.287696\n",
       "Oil (olive) - Retail                                       27.274547\n",
       "Oil (sunflower) - Retail                                    8.755174\n",
       "Onions - Retail                                             2.141539\n",
       "Oranges - Retail                                            3.124280\n",
       "Pasta - Retail                                              3.496637\n",
       "Peas (green, dry) - Retail                                  2.900029\n",
       "Potatoes - Retail                                           2.297231\n",
       "Rice - Retail                                               7.950325\n",
       "Salt - Retail                                               2.048213\n",
       "Spinach - Retail                                            3.240587\n",
       "Sugar - Retail                                              4.482942\n",
       "Tea (green) - Retail                                        4.137000\n",
       "Tea (herbal) - Retail                                       5.434838\n",
       "Tea - Retail                                               26.224393\n",
       "Tomatoes (paste) - Retail                                   8.085128\n",
       "Tomatoes - Retail                                           3.393658\n",
       "Transport (public) - Retail                                 2.468031\n",
       "Wage (non-qualified labour, non-agricultural) - Retail     40.548182\n",
       "Water - Retail                                              5.384253\n",
       "Wheat flour - Retail                                        3.253174\n",
       "Yogurt - Retail                                             5.364898\n",
       "Zucchini - Retail                                           3.837423\n",
       "Name: Price, dtype: float64"
      ]
     },
     "execution_count": 5,
     "metadata": {},
     "output_type": "execute_result"
    }
   ],
   "source": [
    "df.groupby('ProductName')['Price'].mean()"
   ]
  }
 ],
 "metadata": {
  "kernelspec": {
   "display_name": "Python 3 (ipykernel)",
   "language": "python",
   "name": "python3"
  },
  "language_info": {
   "codemirror_mode": {
    "name": "ipython",
    "version": 3
   },
   "file_extension": ".py",
   "mimetype": "text/x-python",
   "name": "python",
   "nbconvert_exporter": "python",
   "pygments_lexer": "ipython3",
   "version": "3.11.4"
  }
 },
 "nbformat": 4,
 "nbformat_minor": 5
}
