{
 "cells": [
  {
   "cell_type": "code",
   "execution_count": 52,
   "metadata": {
    "id": "MCUu2psGwUIO"
   },
   "outputs": [],
   "source": [
    "# Descriptive Stats: Thống kê mô tả\n",
    "# Có thực sự có mối liên hệ không, hay do ngẫu nhiên mà có\n",
    "  # Statistical Significance (Ý nghĩa về mặt thống kê hay không)\n",
    "  # Inferential Statistics: thống kê suy luận -> Hypothesis Testing: kiểm định giả thuyết\n",
    "\n",
    "# Hypothesis Testing: Kiểm định giả thuyết\n",
    "# Đặt ra giả thuyết\n",
    "  # Null hypothesis (Giả thuyết không)\n",
    "  # Alternative hypothesis (Giả thuyết thay thế)\n",
    "  # Để chứng minh được giả thuyết thay thế là đúng, chúng ta cần bác bỏ được giả thuyết không\n",
    "  # Trong trường hợp không bác bỏ được giả thuyết không,\n",
    "    # chúng ta chưa để căn cứ để chứng minh giả thuyết thay thế là đúng\n",
    "\n",
    "# Kiểm định giả thuyết về giá trị trung bình:\n",
    "  # Ban đầu, điểm thi là 60 điểm.\n",
    "    # Sau khi áp dụng cách dạy mới, điểm trung bình của học sinh lớp phân tích dữ liệu có thay đổi không?\n",
    "      # H0: = 60\n",
    "      # H1: khác 60\n",
    "      # có thể nhỏ hơn 60, có thể lớn hơn 60 -> 2 tail hypothesis\n",
    "    # Sau khi áp dụng cách dạy mới, điểm trung bình có tăng lên không\n",
    "      # H0: <=60\n",
    "      # H1: >60\n",
    "    # Sau khi áp dụng cách dạy mới, điểm trung bình có bị giảm đi không\n",
    "      # H0: >=60\n",
    "      # H1: <60\n",
    "# Kiểm định giả thuyết so sánh giá trị trung bình:\n",
    "  # Có 2 logo, cần chọn xem nên dùng logo nào cho trang facebook quảng cáo.\n",
    "  # Tiêu chí để chọn xem nên dùng logo nào dựa vào số lượt click trung bình cho mỗi logo. (A/B Testing)\n",
    "  # Số lượt click của hai logo có khác nhau không?\n",
    "    # H0: x1-x2=0\n",
    "    # H1: x1-x2 khác 0\n",
    "  # Số lượt click của logo 1 có nhiều hơn logo 2 không?\n",
    "    # H0: x1-x2 <= 0\n",
    "    # H1: x1-x2 > 0\n",
    "# Kiểm định giả thuyết so sánh cặp giá trị:\n",
    "  # Tiên có cửa hàng bán quần áo. Tiên muốn chạy quảng cáo cho cửa hàng, dự định là tiêu $10,000 để chạy quảng cáo.\n",
    "  # Mong muốn: sau khi chạy quảng cáo, doanh thu đem về sẽ nhiều hơn doanh thu ban đầu $60,000 một tháng\n",
    "  # H0: x2 - x1 <= 60000\n",
    "  # H1: x2 - x1 > 60000\n",
    "\n",
    "# Sau khi đặt ra các giả thuyết, xem có bác bỏ được Null Hypothesis không?\n",
    "  # Cách hiểu p-value\n",
    "    # Nhìn vào p-value: xác suất Null Hypothesis đúng\n",
    "    # Muốn bác bỏ được Null Hypothesis, p-value phải càng nhỏ càng tốt\n",
    "    # p-value < 0.05 -> bác bỏ Null Hypothesis\n",
    "  # Cách tính p-value:\n",
    "    # Trong trường hợp có đầy đủ dữ liệu của dân số (population) -> Z-statistics (Z-score)\n",
    "    # Đa phần chúng ta chỉ có dữ liệu mẫu -> T-statistics (ttest)\n",
    "\n"
   ]
  },
  {
   "cell_type": "code",
   "execution_count": 53,
   "metadata": {
    "id": "5yMCN3Ob2TW_"
   },
   "outputs": [],
   "source": [
    "# Tiếp tục thực hành\n",
    "# Quay lại bài Quảng Cáo\n",
    "\n",
    "# Mô tả dữ liệu (phân tích dữ liệu) (Descriptive Stats) -> cho biết tình hình hiện tại của doanh nghiệp ra sao\n",
    "  # -> Data Analyst, BI Analyst\n",
    "# Dựa trên tình hình hiện tại (cả quá khứ), dự đoán tương lai (Predictive Stats)\n",
    "  # Dự đoán doanh thu dựa trên số tiền tiêu cho quảng cáo\n",
    "  # -> Data Scientist\n",
    "# Dự đoán được là nếu tiêu 10,000 đô vào quảng cáo trên TV, thì doanh số sẽ tăng lên thành bán được 60,000 sản phẩm\n",
    "  # Ước tính -> thử mô hình (lấy mẫu) lên 10 cửa hàng -> kiểm định giả thuyết\n",
    "  # Chạy trong 3 tháng -> Sau 3 tháng chạy mô hình (sau 3 tháng chạy quảng cáo), doanh thu có tăng lên 60,000 sản phẩm không?\n",
    "  # -> Đưa ra giả pháp và kiểm tra (Prescriptive Statistics)\n",
    "\n",
    "# => Làm hết cả 3: Manager"
   ]
  },
  {
   "cell_type": "markdown",
   "metadata": {
    "id": "icL48-Ep4OkJ"
   },
   "source": [
    "# [Thực hành] phân tích dữ liệu trên bộ dữ liệu Quản lý chất lượng"
   ]
  },
  {
   "cell_type": "code",
   "execution_count": 54,
   "metadata": {
    "id": "qvSg0TXt4SFr"
   },
   "outputs": [],
   "source": [
    "import pandas as pd\n",
    "from scipy import stats\n",
    "import matplotlib.pyplot as plt"
   ]
  },
  {
   "cell_type": "code",
   "execution_count": 55,
   "metadata": {
    "colab": {
     "base_uri": "https://localhost:8080/",
     "height": 242
    },
    "id": "g6xiLsLe4Wdp",
    "outputId": "90344b78-d24f-4475-ca34-593c60537ec1"
   },
   "outputs": [
    {
     "name": "stderr",
     "output_type": "stream",
     "text": [
      "C:\\Users\\Admin\\AppData\\Local\\Programs\\Python\\Python311\\Lib\\site-packages\\openpyxl\\worksheet\\header_footer.py:48: UserWarning: Cannot parse header or footer so it will be ignored\n",
      "  warn(\"\"\"Cannot parse header or footer so it will be ignored\"\"\")\n"
     ]
    },
    {
     "data": {
      "text/html": [
       "<div>\n",
       "<style scoped>\n",
       "    .dataframe tbody tr th:only-of-type {\n",
       "        vertical-align: middle;\n",
       "    }\n",
       "\n",
       "    .dataframe tbody tr th {\n",
       "        vertical-align: top;\n",
       "    }\n",
       "\n",
       "    .dataframe thead th {\n",
       "        text-align: right;\n",
       "    }\n",
       "</style>\n",
       "<table border=\"1\" class=\"dataframe\">\n",
       "  <thead>\n",
       "    <tr style=\"text-align: right;\">\n",
       "      <th></th>\n",
       "      <th>Sample 1</th>\n",
       "      <th>Sample 2</th>\n",
       "      <th>Sample 3</th>\n",
       "      <th>Sample 4</th>\n",
       "    </tr>\n",
       "  </thead>\n",
       "  <tbody>\n",
       "    <tr>\n",
       "      <th>0</th>\n",
       "      <td>11.55</td>\n",
       "      <td>11.62</td>\n",
       "      <td>11.91</td>\n",
       "      <td>12.02</td>\n",
       "    </tr>\n",
       "    <tr>\n",
       "      <th>1</th>\n",
       "      <td>11.62</td>\n",
       "      <td>11.69</td>\n",
       "      <td>11.36</td>\n",
       "      <td>12.02</td>\n",
       "    </tr>\n",
       "    <tr>\n",
       "      <th>2</th>\n",
       "      <td>11.52</td>\n",
       "      <td>11.59</td>\n",
       "      <td>11.75</td>\n",
       "      <td>12.05</td>\n",
       "    </tr>\n",
       "    <tr>\n",
       "      <th>3</th>\n",
       "      <td>11.75</td>\n",
       "      <td>11.82</td>\n",
       "      <td>11.95</td>\n",
       "      <td>12.18</td>\n",
       "    </tr>\n",
       "    <tr>\n",
       "      <th>4</th>\n",
       "      <td>11.90</td>\n",
       "      <td>11.97</td>\n",
       "      <td>12.14</td>\n",
       "      <td>12.11</td>\n",
       "    </tr>\n",
       "  </tbody>\n",
       "</table>\n",
       "</div>"
      ],
      "text/plain": [
       "   Sample 1  Sample 2  Sample 3  Sample 4\n",
       "0     11.55     11.62     11.91     12.02\n",
       "1     11.62     11.69     11.36     12.02\n",
       "2     11.52     11.59     11.75     12.05\n",
       "3     11.75     11.82     11.95     12.18\n",
       "4     11.90     11.97     12.14     12.11"
      ]
     },
     "execution_count": 55,
     "metadata": {},
     "output_type": "execute_result"
    }
   ],
   "source": [
    "df = pd.read_excel('Quality.xlsx')\n",
    "df.head()"
   ]
  },
  {
   "cell_type": "markdown",
   "metadata": {
    "id": "4ayEqB3y5gwL"
   },
   "source": [
    "Quality Associates là một công ty tư vấn cho khách hàng về việc lấy mẫu và quản lý chất lượng cho quá trình sản xuất. Một khách hàng gửi cho Quality Associates một bộ dữ liệu chứa thông tin của 800 mẫu sản xuất trong điều kiện nhà máy hoạt động tốt và khách hàng cho rằng trọng lượng trung bình của mỗi gói hàng là 12, và độ lệch không quá 0.21. Để kiểm tra lại, Quality Associates gợi ý khách hàng rằng sẽ lấy ngẫu nhiên các 4 mẫu dữ liệu mới, mỗi mẫu chứa 30 sản phẩm. Để kiểm định rằng hoạt động của nhà máy của khách hàng có tốt như những gì họ nghĩ hay không, đại diện cho Quality Associates bạn hãy thực hiện những phân tích kiểm định chất lượng giúp khách hàng. Dữ liệu được để trong file Quality.xlsx\n",
    "\n",
    "Yêu cầu: Tiến hành viết giả thuyết kiểm định về chất lượng sản phẩm với mức ý nghĩa 0.01"
   ]
  },
  {
   "cell_type": "code",
   "execution_count": 56,
   "metadata": {
    "colab": {
     "base_uri": "https://localhost:8080/"
    },
    "id": "MNlOpx0y4enF",
    "outputId": "bb7fbfef-5629-417f-cef0-c33e9fd0a0f5"
   },
   "outputs": [
    {
     "name": "stdout",
     "output_type": "stream",
     "text": [
      "<class 'pandas.core.frame.DataFrame'>\n",
      "RangeIndex: 30 entries, 0 to 29\n",
      "Data columns (total 4 columns):\n",
      " #   Column    Non-Null Count  Dtype  \n",
      "---  ------    --------------  -----  \n",
      " 0   Sample 1  30 non-null     float64\n",
      " 1   Sample 2  30 non-null     float64\n",
      " 2   Sample 3  30 non-null     float64\n",
      " 3   Sample 4  30 non-null     float64\n",
      "dtypes: float64(4)\n",
      "memory usage: 1.1 KB\n"
     ]
    }
   ],
   "source": [
    "# 4 mẫu dữ liệu mới, mỗi mẫu chứa 30 sản phẩm\n",
    "df.info()"
   ]
  },
  {
   "cell_type": "code",
   "execution_count": 57,
   "metadata": {
    "id": "heQiqMgY5w6h"
   },
   "outputs": [],
   "source": [
    "# Kiểm định chất lượng sản phẩm với mức ý nghĩa 0.01\n",
    "# p_value < 0.01\n",
    "# Thế nào là chất lượng? -> kiểm tra xem có đúng là trọng lượng mỗi gói hàng là 12 thật không?"
   ]
  },
  {
   "cell_type": "code",
   "execution_count": 58,
   "metadata": {
    "colab": {
     "base_uri": "https://localhost:8080/",
     "height": 300
    },
    "id": "lti38aie6H6w",
    "outputId": "19775b9f-ac63-4e15-ef54-0356ba2e8ba1"
   },
   "outputs": [
    {
     "data": {
      "text/html": [
       "<div>\n",
       "<style scoped>\n",
       "    .dataframe tbody tr th:only-of-type {\n",
       "        vertical-align: middle;\n",
       "    }\n",
       "\n",
       "    .dataframe tbody tr th {\n",
       "        vertical-align: top;\n",
       "    }\n",
       "\n",
       "    .dataframe thead th {\n",
       "        text-align: right;\n",
       "    }\n",
       "</style>\n",
       "<table border=\"1\" class=\"dataframe\">\n",
       "  <thead>\n",
       "    <tr style=\"text-align: right;\">\n",
       "      <th></th>\n",
       "      <th>Sample 1</th>\n",
       "      <th>Sample 2</th>\n",
       "      <th>Sample 3</th>\n",
       "      <th>Sample 4</th>\n",
       "    </tr>\n",
       "  </thead>\n",
       "  <tbody>\n",
       "    <tr>\n",
       "      <th>count</th>\n",
       "      <td>30.000000</td>\n",
       "      <td>30.000000</td>\n",
       "      <td>30.000000</td>\n",
       "      <td>30.000000</td>\n",
       "    </tr>\n",
       "    <tr>\n",
       "      <th>mean</th>\n",
       "      <td>11.958667</td>\n",
       "      <td>12.028667</td>\n",
       "      <td>11.889000</td>\n",
       "      <td>12.081333</td>\n",
       "    </tr>\n",
       "    <tr>\n",
       "      <th>std</th>\n",
       "      <td>0.220356</td>\n",
       "      <td>0.220356</td>\n",
       "      <td>0.207171</td>\n",
       "      <td>0.206109</td>\n",
       "    </tr>\n",
       "    <tr>\n",
       "      <th>min</th>\n",
       "      <td>11.520000</td>\n",
       "      <td>11.590000</td>\n",
       "      <td>11.360000</td>\n",
       "      <td>11.640000</td>\n",
       "    </tr>\n",
       "    <tr>\n",
       "      <th>25%</th>\n",
       "      <td>11.812500</td>\n",
       "      <td>11.882500</td>\n",
       "      <td>11.752500</td>\n",
       "      <td>11.982500</td>\n",
       "    </tr>\n",
       "    <tr>\n",
       "      <th>50%</th>\n",
       "      <td>11.955000</td>\n",
       "      <td>12.025000</td>\n",
       "      <td>11.920000</td>\n",
       "      <td>12.080000</td>\n",
       "    </tr>\n",
       "    <tr>\n",
       "      <th>75%</th>\n",
       "      <td>12.145000</td>\n",
       "      <td>12.215000</td>\n",
       "      <td>11.997500</td>\n",
       "      <td>12.227500</td>\n",
       "    </tr>\n",
       "    <tr>\n",
       "      <th>max</th>\n",
       "      <td>12.320000</td>\n",
       "      <td>12.390000</td>\n",
       "      <td>12.220000</td>\n",
       "      <td>12.470000</td>\n",
       "    </tr>\n",
       "  </tbody>\n",
       "</table>\n",
       "</div>"
      ],
      "text/plain": [
       "        Sample 1   Sample 2   Sample 3   Sample 4\n",
       "count  30.000000  30.000000  30.000000  30.000000\n",
       "mean   11.958667  12.028667  11.889000  12.081333\n",
       "std     0.220356   0.220356   0.207171   0.206109\n",
       "min    11.520000  11.590000  11.360000  11.640000\n",
       "25%    11.812500  11.882500  11.752500  11.982500\n",
       "50%    11.955000  12.025000  11.920000  12.080000\n",
       "75%    12.145000  12.215000  11.997500  12.227500\n",
       "max    12.320000  12.390000  12.220000  12.470000"
      ]
     },
     "execution_count": 58,
     "metadata": {},
     "output_type": "execute_result"
    }
   ],
   "source": [
    "df.describe()"
   ]
  },
  {
   "cell_type": "code",
   "execution_count": 59,
   "metadata": {
    "id": "B4hfw4wI6Iy3"
   },
   "outputs": [],
   "source": [
    "# 11.95, 12.02, 11.88, 12.08 -> có thể có\n",
    "# kiểm tra trọng lượng trung bình có bằng 12 thật không\n",
    "# nói cách khác, kiểm tra xem 11.95, 12.02... có thực sự lệch khỏi 12 không?\n",
    "  # lệch đấy có đáng kể về mặt thống kê hay không?"
   ]
  },
  {
   "cell_type": "code",
   "execution_count": 60,
   "metadata": {
    "id": "N-gpMVdI6ozK"
   },
   "outputs": [],
   "source": [
    "# H0:=12\n",
    "# H1:khác 12"
   ]
  },
  {
   "cell_type": "code",
   "execution_count": 61,
   "metadata": {
    "id": "X3h8J0z37J9G"
   },
   "outputs": [
    {
     "data": {
      "text/plain": [
       "0      11.55\n",
       "1      11.62\n",
       "2      11.52\n",
       "3      11.75\n",
       "4      11.90\n",
       "       ...  \n",
       "115    12.17\n",
       "116    11.94\n",
       "117    11.97\n",
       "118    12.23\n",
       "119    12.25\n",
       "Length: 120, dtype: float64"
      ]
     },
     "execution_count": 61,
     "metadata": {},
     "output_type": "execute_result"
    }
   ],
   "source": [
    "# chuẩn bị dữ liệu\n",
    "sample=pd.concat([df['Sample 1'], df['Sample 2'], df['Sample 3'], df['Sample 4']],).reset_index(drop=True)\n",
    "sample"
   ]
  },
  {
   "cell_type": "code",
   "execution_count": 62,
   "metadata": {},
   "outputs": [
    {
     "data": {
      "text/plain": [
       "count    120.000000\n",
       "mean      11.989417\n",
       "std        0.223108\n",
       "min       11.360000\n",
       "25%       11.850000\n",
       "50%       12.000000\n",
       "75%       12.160000\n",
       "max       12.470000\n",
       "dtype: float64"
      ]
     },
     "execution_count": 62,
     "metadata": {},
     "output_type": "execute_result"
    }
   ],
   "source": [
    "sample.describe()"
   ]
  },
  {
   "cell_type": "markdown",
   "metadata": {},
   "source": [
    "#### Dựa vào kết quả phân tích trên: bộ dữ liệu chứa đủ 120 mẫu\n",
    "\n",
    "Giá trị trung bình trên mẫu đúng bằng 12, giống mô tả của khách hàng\n",
    "\n",
    "Phương sai: = 0.223108 (sai số so với giá trị trung bình của mẫu dữ liệu) >0.21 \n",
    "–> khách hàng nên thay đổi lại tuyên bố về sai số của mình\n",
    "\n",
    "Tiến hành kiểm định về giá trị trung bình\n",
    "\n",
    "Giả thuyết không: khối lượng trung bình của sản phẩm = 12\n",
    "Giả thuyết đối: Khối lượng trung bình của sản phẩm # 12\n",
    "\n",
    "Thực hiện phép kiểm định: One Sample T Test"
   ]
  },
  {
   "cell_type": "code",
   "execution_count": 63,
   "metadata": {
    "colab": {
     "base_uri": "https://localhost:8080/"
    },
    "id": "ZLdNclgS7C4u",
    "outputId": "802b7b22-0030-426e-d583-f2294f8f0dbd"
   },
   "outputs": [
    {
     "data": {
      "text/plain": [
       "TtestResult(statistic=-0.5196355789314843, pvalue=0.6042828222996104, df=119)"
      ]
     },
     "execution_count": 63,
     "metadata": {},
     "output_type": "execute_result"
    }
   ],
   "source": [
    "stats.ttest_1samp(sample,12)"
   ]
  },
  {
   "cell_type": "code",
   "execution_count": 64,
   "metadata": {
    "id": "CsmJn77-7zY_"
   },
   "outputs": [],
   "source": [
    "# pvalue = 0.6 >>> 0.01\n",
    "# Chưa đủ cơ sở để bác bỏ giả thuyết khối lượng = 12\n",
    "# Chưa đủ cơ sở để chứng minh có sự khác biệt về khối lượng mẫu trung bình so với tiêu chuẩn đặt ra"
   ]
  },
  {
   "cell_type": "markdown",
   "metadata": {},
   "source": [
    "#### Giải thích trên trang learn cuả codegym\n",
    "\n",
    "Do pvalue > 0.01 –> Chấp nhận giả thuyết 0.\r\n",
    "\r\n",
    "Kết luận: Tuyên bố của khách hàng về giá trị trung bình là đúng, nhưng tuyên bố về sai số của sản phẩm đang không hợp lý.\r\n",
    "\r\n",
    "Khách hàng nên tuyên bố như sau: Khối lượng sản phẩm trung bình của sản phẩm là 12, với sai số đóng gói trung bình là 0.24 (chiếm khoảng 2\n",
    "\n",
    "%). Hoặc khách hàng cần phải xem lại việc vận hành để đảm bảo tuyên bố ban đầu."
   ]
  },
  {
   "cell_type": "markdown",
   "metadata": {
    "id": "za4n2mLX8JWf"
   },
   "source": [
    "# [Thực hành] Kiểm định lượng sản phẩm tiêu thụ của Coca Cola"
   ]
  },
  {
   "cell_type": "markdown",
   "metadata": {},
   "source": [
    "### Mục tiêu\n",
    "So sánh giá trị trung bình giữa hai tổng thể\n",
    "\n",
    "Cách viết kiểm định giả thuyết\n",
    "\n",
    "Cách kết luận cho 1 giả thuyết thống kê\n",
    "\n",
    "Thực hiện kiểm định Independent T test"
   ]
  },
  {
   "cell_type": "code",
   "execution_count": 75,
   "metadata": {
    "colab": {
     "base_uri": "https://localhost:8080/",
     "height": 238
    },
    "id": "VJ_xRn_i7zQH",
    "outputId": "52639f39-be49-4c82-c8d6-24b28ba899e9"
   },
   "outputs": [
    {
     "data": {
      "text/html": [
       "<div>\n",
       "<style scoped>\n",
       "    .dataframe tbody tr th:only-of-type {\n",
       "        vertical-align: middle;\n",
       "    }\n",
       "\n",
       "    .dataframe tbody tr th {\n",
       "        vertical-align: top;\n",
       "    }\n",
       "\n",
       "    .dataframe thead th {\n",
       "        text-align: right;\n",
       "    }\n",
       "</style>\n",
       "<table border=\"1\" class=\"dataframe\">\n",
       "  <thead>\n",
       "    <tr style=\"text-align: right;\">\n",
       "      <th></th>\n",
       "      <th>Ohio</th>\n",
       "      <th>Atlanta</th>\n",
       "    </tr>\n",
       "    <tr>\n",
       "      <th>STT</th>\n",
       "      <th></th>\n",
       "      <th></th>\n",
       "    </tr>\n",
       "  </thead>\n",
       "  <tbody>\n",
       "    <tr>\n",
       "      <th>1</th>\n",
       "      <td>0.88</td>\n",
       "      <td>3.85</td>\n",
       "    </tr>\n",
       "    <tr>\n",
       "      <th>2</th>\n",
       "      <td>2.06</td>\n",
       "      <td>0.00</td>\n",
       "    </tr>\n",
       "    <tr>\n",
       "      <th>3</th>\n",
       "      <td>0.00</td>\n",
       "      <td>0.00</td>\n",
       "    </tr>\n",
       "    <tr>\n",
       "      <th>4</th>\n",
       "      <td>0.70</td>\n",
       "      <td>0.02</td>\n",
       "    </tr>\n",
       "    <tr>\n",
       "      <th>5</th>\n",
       "      <td>1.64</td>\n",
       "      <td>0.58</td>\n",
       "    </tr>\n",
       "  </tbody>\n",
       "</table>\n",
       "</div>"
      ],
      "text/plain": [
       "     Ohio  Atlanta\n",
       "STT               \n",
       "1    0.88     3.85\n",
       "2    2.06     0.00\n",
       "3    0.00     0.00\n",
       "4    0.70     0.02\n",
       "5    1.64     0.58"
      ]
     },
     "execution_count": 75,
     "metadata": {},
     "output_type": "execute_result"
    }
   ],
   "source": [
    "df1 = pd.read_excel(\"Coca_cola_use.xlsx\", index_col= 'STT')\n",
    "df1.head()"
   ]
  },
  {
   "cell_type": "markdown",
   "metadata": {
    "id": "ipn-wE8X8xrT"
   },
   "source": [
    "Bộ phận bán hàng của Công ty Coca Cola tuyên bố rằng lượng tiêu thụ coca trung bình ở Ohio lớn hơn ở Atlanta. \n",
    "\n",
    "Để tiến hành chiến lược phân phối sản phẩm ở 2 khu vực này, bộ phận Marketing có thu thập số liệu sử dụng coca của 50 người ở Ohio và 50 người ở Atlanta. \n",
    "\n",
    "Dữ liệu được để trong file Coca_cola_use.xlsx, với đơn vị tiêu thụ được tính l/năm cho 1 người. \n",
    "\n",
    "Với mức ý nghĩa 5% hãy kiểm định giả thuyết xem có đúng lượng tiêu thụ Coca bình quân ở Ohio lớn hơn Atlanta hay không"
   ]
  },
  {
   "cell_type": "code",
   "execution_count": 66,
   "metadata": {
    "id": "HErCP7EW8QXl"
   },
   "outputs": [],
   "source": [
    "# Giả thuyết: lượng tiêu thụ coca trung bình Ohio > Atlanta\n",
    "# 50 dòng"
   ]
  },
  {
   "cell_type": "code",
   "execution_count": 76,
   "metadata": {
    "colab": {
     "base_uri": "https://localhost:8080/"
    },
    "id": "ZLdn6Ka09BrS",
    "outputId": "34ff998a-9cdf-43dd-ade9-4e368c2fda14"
   },
   "outputs": [
    {
     "name": "stdout",
     "output_type": "stream",
     "text": [
      "<class 'pandas.core.frame.DataFrame'>\n",
      "Index: 50 entries, 1 to 50\n",
      "Data columns (total 2 columns):\n",
      " #   Column   Non-Null Count  Dtype  \n",
      "---  ------   --------------  -----  \n",
      " 0   Ohio     50 non-null     float64\n",
      " 1   Atlanta  50 non-null     float64\n",
      "dtypes: float64(2)\n",
      "memory usage: 1.2 KB\n"
     ]
    }
   ],
   "source": [
    "df1.info()"
   ]
  },
  {
   "cell_type": "code",
   "execution_count": 77,
   "metadata": {},
   "outputs": [
    {
     "data": {
      "text/html": [
       "<div>\n",
       "<style scoped>\n",
       "    .dataframe tbody tr th:only-of-type {\n",
       "        vertical-align: middle;\n",
       "    }\n",
       "\n",
       "    .dataframe tbody tr th {\n",
       "        vertical-align: top;\n",
       "    }\n",
       "\n",
       "    .dataframe thead th {\n",
       "        text-align: right;\n",
       "    }\n",
       "</style>\n",
       "<table border=\"1\" class=\"dataframe\">\n",
       "  <thead>\n",
       "    <tr style=\"text-align: right;\">\n",
       "      <th></th>\n",
       "      <th>Ohio</th>\n",
       "      <th>Atlanta</th>\n",
       "    </tr>\n",
       "  </thead>\n",
       "  <tbody>\n",
       "    <tr>\n",
       "      <th>count</th>\n",
       "      <td>50.000000</td>\n",
       "      <td>50.000000</td>\n",
       "    </tr>\n",
       "    <tr>\n",
       "      <th>mean</th>\n",
       "      <td>1.746800</td>\n",
       "      <td>1.614800</td>\n",
       "    </tr>\n",
       "    <tr>\n",
       "      <th>std</th>\n",
       "      <td>1.092211</td>\n",
       "      <td>1.061068</td>\n",
       "    </tr>\n",
       "    <tr>\n",
       "      <th>min</th>\n",
       "      <td>0.000000</td>\n",
       "      <td>0.000000</td>\n",
       "    </tr>\n",
       "    <tr>\n",
       "      <th>25%</th>\n",
       "      <td>0.835000</td>\n",
       "      <td>0.682500</td>\n",
       "    </tr>\n",
       "    <tr>\n",
       "      <th>50%</th>\n",
       "      <td>1.615000</td>\n",
       "      <td>1.495000</td>\n",
       "    </tr>\n",
       "    <tr>\n",
       "      <th>75%</th>\n",
       "      <td>2.350000</td>\n",
       "      <td>2.402500</td>\n",
       "    </tr>\n",
       "    <tr>\n",
       "      <th>max</th>\n",
       "      <td>5.000000</td>\n",
       "      <td>3.860000</td>\n",
       "    </tr>\n",
       "  </tbody>\n",
       "</table>\n",
       "</div>"
      ],
      "text/plain": [
       "            Ohio    Atlanta\n",
       "count  50.000000  50.000000\n",
       "mean    1.746800   1.614800\n",
       "std     1.092211   1.061068\n",
       "min     0.000000   0.000000\n",
       "25%     0.835000   0.682500\n",
       "50%     1.615000   1.495000\n",
       "75%     2.350000   2.402500\n",
       "max     5.000000   3.860000"
      ]
     },
     "execution_count": 77,
     "metadata": {},
     "output_type": "execute_result"
    }
   ],
   "source": [
    "df1.describe()"
   ]
  },
  {
   "cell_type": "code",
   "execution_count": 79,
   "metadata": {},
   "outputs": [
    {
     "data": {
      "text/plain": [
       "<Axes: >"
      ]
     },
     "execution_count": 79,
     "metadata": {},
     "output_type": "execute_result"
    }
   ],
   "source": [
    "df1.boxplot()"
   ]
  },
  {
   "cell_type": "markdown",
   "metadata": {},
   "source": [
    "nhìn vào biểu đồ trên chúng ta thấy lượng tiêu thụ ở Ohio có nhỉnh hơn Atlanta một chút, và rất khó để kết luận"
   ]
  },
  {
   "cell_type": "markdown",
   "metadata": {
    "id": "tX4q4bA_9CQU"
   },
   "source": [
    "#### Giả thuyết của cô Tiên \n",
    "H0: Ohio - Atlanta <= 0\n",
    "\n",
    "H1: Ohio - Atlanta > 0\n",
    "\n",
    "#### Tiến hành kiểm định - codegym\n",
    "\n",
    "Thực hiện kiểm định giả thuyết so sánh hai mẫu trung bình độc lập gọi a1, a2 lần lượt là lượng tiêu thụ coca trung bình trên đầu người ở Ohio và Atlanta\n",
    "\n",
    "Giả thuyết không: a1-a2 =0\n",
    "\n",
    "Giả thuyết đối: a1-a2>0\n",
    "\n",
    "mức ý nghĩa 5%\n",
    "\n",
    "Loại kiểm định Independent T test"
   ]
  },
  {
   "cell_type": "code",
   "execution_count": 69,
   "metadata": {
    "colab": {
     "base_uri": "https://localhost:8080/"
    },
    "id": "Lt2N-O7I9YNQ",
    "outputId": "ccda5135-7976-4cf7-ca19-df595b31a4b7"
   },
   "outputs": [
    {
     "data": {
      "text/plain": [
       "TtestResult(statistic=0.6129544104328379, pvalue=0.5413275550760535, df=97.91810815759084)"
      ]
     },
     "execution_count": 69,
     "metadata": {},
     "output_type": "execute_result"
    }
   ],
   "source": [
    "stats.ttest_ind(df1['Ohio'], df1['Atlanta'], equal_var=False) # khác nhau"
   ]
  },
  {
   "cell_type": "markdown",
   "metadata": {},
   "source": [
    "pvalue=0.541 > 0.05\n",
    "\n",
    "Chúng ta nhìn thấy rằng: pvalue > 5% rất nhiều nên không đủ cơ sở để bác bỏ giả thuyết không \n",
    "\n",
    "Kết luận: Không đủ căn cứ để kết luận rằng lượng tiêu thụ coca trung bình ở Ohio lớn hơn ở Atlanta"
   ]
  },
  {
   "cell_type": "code",
   "execution_count": 70,
   "metadata": {
    "colab": {
     "base_uri": "https://localhost:8080/"
    },
    "id": "Q6T0cn7h_10c",
    "outputId": "37c45b1a-cbaa-4918-8e29-b974187a6115"
   },
   "outputs": [
    {
     "data": {
      "text/plain": [
       "TtestResult(statistic=0.6129544104328379, pvalue=0.27066377753802673, df=97.91810815759084)"
      ]
     },
     "execution_count": 70,
     "metadata": {},
     "output_type": "execute_result"
    }
   ],
   "source": [
    "stats.ttest_ind(df['Ohio'], df['Atlanta'], equal_var=False, alternative='greater') # lớn hơn"
   ]
  },
  {
   "cell_type": "code",
   "execution_count": 71,
   "metadata": {
    "colab": {
     "base_uri": "https://localhost:8080/"
    },
    "id": "js4LNqZhADCm",
    "outputId": "999c7ce9-7155-4a16-9da8-26cb4edfbe65"
   },
   "outputs": [
    {
     "data": {
      "text/plain": [
       "TtestResult(statistic=0.6129544104328379, pvalue=0.7293362224619733, df=97.91810815759084)"
      ]
     },
     "execution_count": 71,
     "metadata": {},
     "output_type": "execute_result"
    }
   ],
   "source": [
    "stats.ttest_ind(df['Ohio'], df['Atlanta'], equal_var=False, alternative='less') # nhỏ hơn"
   ]
  },
  {
   "cell_type": "code",
   "execution_count": 72,
   "metadata": {
    "id": "eole2Wt6-CMo"
   },
   "outputs": [],
   "source": [
    "# Chưa đủ bằng chứng để nói rằng số lượng tiêu thụ Coca ở Ohio lớn hơn ở Atlanta"
   ]
  },
  {
   "cell_type": "code",
   "execution_count": null,
   "metadata": {
    "id": "RC6AfkIQ-sy5"
   },
   "outputs": [],
   "source": []
  }
 ],
 "metadata": {
  "colab": {
   "provenance": []
  },
  "kernelspec": {
   "display_name": "Python 3 (ipykernel)",
   "language": "python",
   "name": "python3"
  },
  "language_info": {
   "codemirror_mode": {
    "name": "ipython",
    "version": 3
   },
   "file_extension": ".py",
   "mimetype": "text/x-python",
   "name": "python",
   "nbconvert_exporter": "python",
   "pygments_lexer": "ipython3",
   "version": "3.11.4"
  }
 },
 "nbformat": 4,
 "nbformat_minor": 4
}
