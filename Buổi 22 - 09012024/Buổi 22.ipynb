{
 "cells": [
  {
   "cell_type": "markdown",
   "id": "867404d0-5d39-40c6-937c-982ead11fcd4",
   "metadata": {},
   "source": [
    "# Mục tiêu: Kiểm định tương quan giữa các thuộc tính định lượng"
   ]
  },
  {
   "cell_type": "code",
   "execution_count": 2,
   "id": "74570829-b622-4ac5-a80c-bb089837daff",
   "metadata": {},
   "outputs": [],
   "source": [
    "import pandas as pd\n",
    "from scipy import  stats"
   ]
  },
  {
   "cell_type": "markdown",
   "id": "2e192a45-8f4c-4b56-a441-f21819a6f6e6",
   "metadata": {},
   "source": [
    "# [Thực hành] Kiểm định tương quan trên bộ dữ liệu Covid 19"
   ]
  },
  {
   "cell_type": "markdown",
   "id": "68c4e183-6725-4a8e-9b76-dbad18a31ee0",
   "metadata": {},
   "source": [
    "### Mô tả bài toán\n",
    "Bộ dữ liệu subset-covid-data.csv chứa thông tin về tình hình covid ngày 12/4/2020 Hãy thực hiện những kiểm định sau với mức ý nghĩa 5%:\n",
    "\n",
    "- Có mối tương quan nào giữa dân số và số ca nhiễm bệnh hay không\n",
    "\r",
    "- \n",
    "Có mối tương quan nào giữa số ca mắc và ca tử vong ở các quốc gia hay khôn\n",
    "ễm bệnh"
   ]
  },
  {
   "cell_type": "markdown",
   "id": "0add389c-4fb4-4e36-a519-88dd1351ba68",
   "metadata": {},
   "source": [
    "- Hãy tiến hành rời rạc hóa thuộc tính population thành các nhóm theo thứ tự tăng dần đặt tên là biến population_ordinal:\n",
    "  \n",
    "1: nếu population < tứ phân vị thứ nhất\n",
    "\n",
    "2: Population nằm trong khoảng từ tứ phân vị thứ nhất tới tứ phân vị thứ 2\n",
    "\n",
    "3: nếu population nằm trong khoảng từ tứ phân vị thứ 2 tới thứ 3\n",
    "\n",
    "4: nếu population >= tứ phân vị thứ 3\n",
    "\n",
    "Hãy kiểm tra mối tương quan giữa thuộc tính population_ordinaly với số ca nhiễm bệnh"
   ]
  },
  {
   "cell_type": "code",
   "execution_count": 3,
   "id": "ed6c0935-c989-4c19-a337-878522228f55",
   "metadata": {},
   "outputs": [],
   "source": [
    "df = pd.read_csv(\"subset-covid-data.csv\", encoding=\"UTF-8\")"
   ]
  },
  {
   "cell_type": "code",
   "execution_count": 4,
   "id": "f7eb3531-5437-4833-86bc-9bebd3b03951",
   "metadata": {},
   "outputs": [
    {
     "data": {
      "text/html": [
       "<div>\n",
       "<style scoped>\n",
       "    .dataframe tbody tr th:only-of-type {\n",
       "        vertical-align: middle;\n",
       "    }\n",
       "\n",
       "    .dataframe tbody tr th {\n",
       "        vertical-align: top;\n",
       "    }\n",
       "\n",
       "    .dataframe thead th {\n",
       "        text-align: right;\n",
       "    }\n",
       "</style>\n",
       "<table border=\"1\" class=\"dataframe\">\n",
       "  <thead>\n",
       "    <tr style=\"text-align: right;\">\n",
       "      <th></th>\n",
       "      <th>country</th>\n",
       "      <th>continent</th>\n",
       "      <th>date</th>\n",
       "      <th>day</th>\n",
       "      <th>month</th>\n",
       "      <th>year</th>\n",
       "      <th>cases</th>\n",
       "      <th>deaths</th>\n",
       "      <th>country_code</th>\n",
       "      <th>population</th>\n",
       "    </tr>\n",
       "  </thead>\n",
       "  <tbody>\n",
       "    <tr>\n",
       "      <th>0</th>\n",
       "      <td>Afghanistan</td>\n",
       "      <td>Asia</td>\n",
       "      <td>2020-04-12</td>\n",
       "      <td>12</td>\n",
       "      <td>4</td>\n",
       "      <td>2020</td>\n",
       "      <td>34</td>\n",
       "      <td>3</td>\n",
       "      <td>AFG</td>\n",
       "      <td>37172386.0</td>\n",
       "    </tr>\n",
       "    <tr>\n",
       "      <th>1</th>\n",
       "      <td>Albania</td>\n",
       "      <td>Europe</td>\n",
       "      <td>2020-04-12</td>\n",
       "      <td>12</td>\n",
       "      <td>4</td>\n",
       "      <td>2020</td>\n",
       "      <td>17</td>\n",
       "      <td>0</td>\n",
       "      <td>ALB</td>\n",
       "      <td>2866376.0</td>\n",
       "    </tr>\n",
       "    <tr>\n",
       "      <th>2</th>\n",
       "      <td>Algeria</td>\n",
       "      <td>Africa</td>\n",
       "      <td>2020-04-12</td>\n",
       "      <td>12</td>\n",
       "      <td>4</td>\n",
       "      <td>2020</td>\n",
       "      <td>64</td>\n",
       "      <td>19</td>\n",
       "      <td>DZA</td>\n",
       "      <td>42228429.0</td>\n",
       "    </tr>\n",
       "    <tr>\n",
       "      <th>3</th>\n",
       "      <td>Andorra</td>\n",
       "      <td>Europe</td>\n",
       "      <td>2020-04-12</td>\n",
       "      <td>12</td>\n",
       "      <td>4</td>\n",
       "      <td>2020</td>\n",
       "      <td>21</td>\n",
       "      <td>2</td>\n",
       "      <td>AND</td>\n",
       "      <td>77006.0</td>\n",
       "    </tr>\n",
       "    <tr>\n",
       "      <th>4</th>\n",
       "      <td>Angola</td>\n",
       "      <td>Africa</td>\n",
       "      <td>2020-04-12</td>\n",
       "      <td>12</td>\n",
       "      <td>4</td>\n",
       "      <td>2020</td>\n",
       "      <td>0</td>\n",
       "      <td>0</td>\n",
       "      <td>AGO</td>\n",
       "      <td>30809762.0</td>\n",
       "    </tr>\n",
       "  </tbody>\n",
       "</table>\n",
       "</div>"
      ],
      "text/plain": [
       "       country continent        date  day  month  year  cases  deaths  \\\n",
       "0  Afghanistan      Asia  2020-04-12   12      4  2020     34       3   \n",
       "1      Albania    Europe  2020-04-12   12      4  2020     17       0   \n",
       "2      Algeria    Africa  2020-04-12   12      4  2020     64      19   \n",
       "3      Andorra    Europe  2020-04-12   12      4  2020     21       2   \n",
       "4       Angola    Africa  2020-04-12   12      4  2020      0       0   \n",
       "\n",
       "  country_code  population  \n",
       "0          AFG  37172386.0  \n",
       "1          ALB   2866376.0  \n",
       "2          DZA  42228429.0  \n",
       "3          AND     77006.0  \n",
       "4          AGO  30809762.0  "
      ]
     },
     "execution_count": 4,
     "metadata": {},
     "output_type": "execute_result"
    }
   ],
   "source": [
    "df.head()"
   ]
  },
  {
   "cell_type": "code",
   "execution_count": 5,
   "id": "80139cce-caf2-436f-9bdc-3df3ee54ce4c",
   "metadata": {},
   "outputs": [
    {
     "name": "stdout",
     "output_type": "stream",
     "text": [
      "<class 'pandas.core.frame.DataFrame'>\n",
      "RangeIndex: 206 entries, 0 to 205\n",
      "Data columns (total 10 columns):\n",
      " #   Column        Non-Null Count  Dtype  \n",
      "---  ------        --------------  -----  \n",
      " 0   country       206 non-null    object \n",
      " 1   continent     206 non-null    object \n",
      " 2   date          206 non-null    object \n",
      " 3   day           206 non-null    int64  \n",
      " 4   month         206 non-null    int64  \n",
      " 5   year          206 non-null    int64  \n",
      " 6   cases         206 non-null    int64  \n",
      " 7   deaths        206 non-null    int64  \n",
      " 8   country_code  202 non-null    object \n",
      " 9   population    202 non-null    float64\n",
      "dtypes: float64(1), int64(5), object(4)\n",
      "memory usage: 16.2+ KB\n"
     ]
    }
   ],
   "source": [
    "df.info()"
   ]
  },
  {
   "cell_type": "code",
   "execution_count": 6,
   "id": "372ccde9-13e4-4b08-a0b2-000377c9fe9e",
   "metadata": {},
   "outputs": [
    {
     "data": {
      "text/html": [
       "<div>\n",
       "<style scoped>\n",
       "    .dataframe tbody tr th:only-of-type {\n",
       "        vertical-align: middle;\n",
       "    }\n",
       "\n",
       "    .dataframe tbody tr th {\n",
       "        vertical-align: top;\n",
       "    }\n",
       "\n",
       "    .dataframe thead th {\n",
       "        text-align: right;\n",
       "    }\n",
       "</style>\n",
       "<table border=\"1\" class=\"dataframe\">\n",
       "  <thead>\n",
       "    <tr style=\"text-align: right;\">\n",
       "      <th></th>\n",
       "      <th>day</th>\n",
       "      <th>month</th>\n",
       "      <th>year</th>\n",
       "      <th>cases</th>\n",
       "      <th>deaths</th>\n",
       "      <th>population</th>\n",
       "    </tr>\n",
       "  </thead>\n",
       "  <tbody>\n",
       "    <tr>\n",
       "      <th>count</th>\n",
       "      <td>206.000000</td>\n",
       "      <td>206.000000</td>\n",
       "      <td>206.0</td>\n",
       "      <td>206.000000</td>\n",
       "      <td>206.000000</td>\n",
       "      <td>2.020000e+02</td>\n",
       "    </tr>\n",
       "    <tr>\n",
       "      <th>mean</th>\n",
       "      <td>12.024272</td>\n",
       "      <td>3.985437</td>\n",
       "      <td>2020.0</td>\n",
       "      <td>395.247573</td>\n",
       "      <td>29.713592</td>\n",
       "      <td>3.731716e+07</td>\n",
       "    </tr>\n",
       "    <tr>\n",
       "      <th>std</th>\n",
       "      <td>0.424141</td>\n",
       "      <td>0.209020</td>\n",
       "      <td>0.0</td>\n",
       "      <td>2160.176439</td>\n",
       "      <td>159.533131</td>\n",
       "      <td>1.413776e+08</td>\n",
       "    </tr>\n",
       "    <tr>\n",
       "      <th>min</th>\n",
       "      <td>11.000000</td>\n",
       "      <td>1.000000</td>\n",
       "      <td>2020.0</td>\n",
       "      <td>0.000000</td>\n",
       "      <td>0.000000</td>\n",
       "      <td>1.000000e+03</td>\n",
       "    </tr>\n",
       "    <tr>\n",
       "      <th>25%</th>\n",
       "      <td>12.000000</td>\n",
       "      <td>4.000000</td>\n",
       "      <td>2020.0</td>\n",
       "      <td>0.000000</td>\n",
       "      <td>0.000000</td>\n",
       "      <td>1.278222e+06</td>\n",
       "    </tr>\n",
       "    <tr>\n",
       "      <th>50%</th>\n",
       "      <td>12.000000</td>\n",
       "      <td>4.000000</td>\n",
       "      <td>2020.0</td>\n",
       "      <td>11.500000</td>\n",
       "      <td>0.000000</td>\n",
       "      <td>7.042862e+06</td>\n",
       "    </tr>\n",
       "    <tr>\n",
       "      <th>75%</th>\n",
       "      <td>12.000000</td>\n",
       "      <td>4.000000</td>\n",
       "      <td>2020.0</td>\n",
       "      <td>88.750000</td>\n",
       "      <td>3.000000</td>\n",
       "      <td>2.600084e+07</td>\n",
       "    </tr>\n",
       "    <tr>\n",
       "      <th>max</th>\n",
       "      <td>18.000000</td>\n",
       "      <td>4.000000</td>\n",
       "      <td>2020.0</td>\n",
       "      <td>28391.000000</td>\n",
       "      <td>1831.000000</td>\n",
       "      <td>1.392730e+09</td>\n",
       "    </tr>\n",
       "  </tbody>\n",
       "</table>\n",
       "</div>"
      ],
      "text/plain": [
       "              day       month    year         cases       deaths    population\n",
       "count  206.000000  206.000000   206.0    206.000000   206.000000  2.020000e+02\n",
       "mean    12.024272    3.985437  2020.0    395.247573    29.713592  3.731716e+07\n",
       "std      0.424141    0.209020     0.0   2160.176439   159.533131  1.413776e+08\n",
       "min     11.000000    1.000000  2020.0      0.000000     0.000000  1.000000e+03\n",
       "25%     12.000000    4.000000  2020.0      0.000000     0.000000  1.278222e+06\n",
       "50%     12.000000    4.000000  2020.0     11.500000     0.000000  7.042862e+06\n",
       "75%     12.000000    4.000000  2020.0     88.750000     3.000000  2.600084e+07\n",
       "max     18.000000    4.000000  2020.0  28391.000000  1831.000000  1.392730e+09"
      ]
     },
     "execution_count": 6,
     "metadata": {},
     "output_type": "execute_result"
    }
   ],
   "source": [
    "df.describe()"
   ]
  },
  {
   "cell_type": "markdown",
   "id": "c0612190-1ea1-42fb-9a58-fbf8bafe5705",
   "metadata": {},
   "source": [
    "## Có mối tương quan nào giữa số ca mắc và ca tử vong ở các quốc gia hay không"
   ]
  },
  {
   "cell_type": "markdown",
   "id": "a062c5da-ee14-4c37-8d3f-0cbb75c106fd",
   "metadata": {},
   "source": [
    "Do số ca nhiễm (cases) và dân số (population) đều là thuộc tính định lượng nên sử dụng kiểm định pearson\n",
    "\n",
    " 6   cases         206 non-null    int64  \r\n",
    " 7   deaths        206 non-null    int64  -> không cần xoá na\n",
    "\n",
    "Giả thuyết không: Không có mối tương quan tuyến tính giữa hai biến\n",
    "\n",
    "Giả thuyết đối: Không có mối tương quan tuyến tính giữa hai biến"
   ]
  },
  {
   "cell_type": "code",
   "execution_count": 9,
   "id": "31f01b85-e59b-47c6-8016-98061616cf55",
   "metadata": {},
   "outputs": [
    {
     "data": {
      "text/plain": [
       "PearsonRResult(statistic=0.9432201374746727, pvalue=1.3451948745844029e-99)"
      ]
     },
     "execution_count": 9,
     "metadata": {},
     "output_type": "execute_result"
    }
   ],
   "source": [
    "stats.pearsonr(df['cases'], df['deaths'])"
   ]
  },
  {
   "cell_type": "code",
   "execution_count": 8,
   "id": "e16ba61a-d222-4ee7-8f74-3f3ebfb37c0f",
   "metadata": {},
   "outputs": [
    {
     "name": "stdout",
     "output_type": "stream",
     "text": [
      "r:  0.9432201374746727 ; pvalue:  1.3451948745844029e-99\n"
     ]
    }
   ],
   "source": [
    "# cách làm trên trang learn của codegym\n",
    "\n",
    "# lọc dữ liệu\n",
    "df2 = df.filter(['cases', 'deaths'])\n",
    "# xóa bỏ dữ liệu null\n",
    "df2 = df2.dropna()\n",
    "r, pvalue = stats.pearsonr(df2.cases, df2.deaths)\n",
    "print (\"r: \", r, \"; pvalue: \", pvalue)"
   ]
  },
  {
   "cell_type": "markdown",
   "id": "04e71932-8205-4064-9ee7-124af2b11829",
   "metadata": {},
   "source": [
    "Nhận xét: do pvalue ~0, nên với mức ý nghĩa 5% bác bỏ giả thuyết không, chấp nhận giả thuyết đối\n",
    "\n",
    "Kết luận: Giữa số ca mắc và số ca tử vong có tương quan tuyến tính mạnh với nhau"
   ]
  },
  {
   "cell_type": "markdown",
   "id": "89abdb0f-ae04-4fda-8b5c-debaea2dfeb2",
   "metadata": {},
   "source": [
    "## Có mối tương quan nào giữa dân số và số ca nhiễm bệnh hay không"
   ]
  },
  {
   "cell_type": "markdown",
   "id": "4e0ea5e7-a94b-4d91-aa56-2d577c859110",
   "metadata": {},
   "source": [
    "Do số ca nhiễm (cases) và dân số (population) đều là thuộc tính định lượng nên sử dụng kiểm định pearson\r\n",
    " 6   cases         206 non-null    int64  \r",
    "t \r\n",
    " 9   population    202 non-null    floa\n",
    "\n",
    " -> có NA, cần xoá NAt64\n",
    "\r\n",
    "Giả thuyết không: Không có mối tương quan tuyến tính giữa hai biến\r\n",
    "\r\n",
    "Giả thuyết đối: Không có mối tương quan tuyến tính giữa hai biến"
   ]
  },
  {
   "cell_type": "code",
   "execution_count": 11,
   "id": "1c57f42c-ab5a-48f2-b766-ec8e436020ae",
   "metadata": {},
   "outputs": [
    {
     "name": "stdout",
     "output_type": "stream",
     "text": [
      "r:  0.17553926594294003 ; pvalue:  0.012460310704208348\n"
     ]
    }
   ],
   "source": [
    "# CÁCH LÀM TRÊN TRANG LEARN CỦA CODEGYM\n",
    "# lọc dữ liệu\n",
    "df1 = df.filter(['cases', 'population'])\n",
    "# xóa bỏ dữ liệu null\n",
    "df1 = df1.dropna()\n",
    "r, pvalue = stats.pearsonr(df1.cases, df1.population)\n",
    "print (\"r: \", r, \"; pvalue: \", pvalue)"
   ]
  },
  {
   "cell_type": "code",
   "execution_count": 12,
   "id": "10e548ae-6b80-4c62-8dc3-b232de213244",
   "metadata": {},
   "outputs": [
    {
     "name": "stdout",
     "output_type": "stream",
     "text": [
      "PearsonRResult(statistic=0.17553926594294003, pvalue=0.012460310704208348)\n"
     ]
    }
   ],
   "source": [
    "# MÌNH LÀM\n",
    "\n",
    "df2 = df[['cases', 'population']]\n",
    "df2 = df2.dropna()\n",
    "print(stats.pearsonr(df2.cases, df2.population))"
   ]
  },
  {
   "cell_type": "code",
   "execution_count": 13,
   "id": "2364fce0-aa88-4412-82bd-c09167309b60",
   "metadata": {},
   "outputs": [
    {
     "name": "stdout",
     "output_type": "stream",
     "text": [
      "PearsonRResult(statistic=0.17553926594294003, pvalue=0.012460310704208348)\n"
     ]
    }
   ],
   "source": [
    "df2 = df[['cases', 'population']].dropna()\n",
    "\n",
    "print(stats.pearsonr(df2.cases, df2.population))"
   ]
  },
  {
   "cell_type": "markdown",
   "id": "5db175e6-22dc-4fe2-95c3-4677cc58de28",
   "metadata": {},
   "source": [
    "Nhận xét: do pvalue <5%, nên với mức ý nghĩa 5% bác bỏ giả thuyết không, chấp nhận giả thuyết đối\n",
    "\n",
    "Kết luận: Giữa dân số và số ca nhiễm có tương quan tuyến tính yếu với nhau"
   ]
  },
  {
   "cell_type": "markdown",
   "id": "1ee6732d-701e-45b3-89d3-3d496bd9d045",
   "metadata": {},
   "source": [
    "## Biến đổi lại thuộc tính population về dạng thứ bậc thực hiện kiểm định tương quan giữa biến này với số ca nhiễm"
   ]
  },
  {
   "cell_type": "code",
   "execution_count": 14,
   "id": "15469b16-a2b6-473f-8ad8-454862f32d37",
   "metadata": {},
   "outputs": [
    {
     "data": {
      "text/html": [
       "<div>\n",
       "<style scoped>\n",
       "    .dataframe tbody tr th:only-of-type {\n",
       "        vertical-align: middle;\n",
       "    }\n",
       "\n",
       "    .dataframe tbody tr th {\n",
       "        vertical-align: top;\n",
       "    }\n",
       "\n",
       "    .dataframe thead th {\n",
       "        text-align: right;\n",
       "    }\n",
       "</style>\n",
       "<table border=\"1\" class=\"dataframe\">\n",
       "  <thead>\n",
       "    <tr style=\"text-align: right;\">\n",
       "      <th></th>\n",
       "      <th>cases</th>\n",
       "      <th>population</th>\n",
       "      <th>population_ordinal</th>\n",
       "    </tr>\n",
       "  </thead>\n",
       "  <tbody>\n",
       "    <tr>\n",
       "      <th>0</th>\n",
       "      <td>34</td>\n",
       "      <td>37172386.0</td>\n",
       "      <td>4</td>\n",
       "    </tr>\n",
       "    <tr>\n",
       "      <th>1</th>\n",
       "      <td>17</td>\n",
       "      <td>2866376.0</td>\n",
       "      <td>2</td>\n",
       "    </tr>\n",
       "    <tr>\n",
       "      <th>2</th>\n",
       "      <td>64</td>\n",
       "      <td>42228429.0</td>\n",
       "      <td>4</td>\n",
       "    </tr>\n",
       "    <tr>\n",
       "      <th>3</th>\n",
       "      <td>21</td>\n",
       "      <td>77006.0</td>\n",
       "      <td>1</td>\n",
       "    </tr>\n",
       "    <tr>\n",
       "      <th>4</th>\n",
       "      <td>0</td>\n",
       "      <td>30809762.0</td>\n",
       "      <td>4</td>\n",
       "    </tr>\n",
       "  </tbody>\n",
       "</table>\n",
       "</div>"
      ],
      "text/plain": [
       "   cases  population  population_ordinal\n",
       "0     34  37172386.0                   4\n",
       "1     17   2866376.0                   2\n",
       "2     64  42228429.0                   4\n",
       "3     21     77006.0                   1\n",
       "4      0  30809762.0                   4"
      ]
     },
     "execution_count": 14,
     "metadata": {},
     "output_type": "execute_result"
    }
   ],
   "source": [
    "# tiến hành tính các khoảng tứ phân vị của population\n",
    "q1, q2, q3  = df1.population.quantile(0.25), df1.population.quantile(0.5), df1.population.quantile(0.75)\n",
    "# tiến hành biến đổi population\n",
    "def population_order(population):\n",
    "    if population < q1:\n",
    "        return 1\n",
    "    elif population>=q1 and population <q2:\n",
    "        return 2\n",
    "    elif population>=q2 and population <q3:\n",
    "        return 3\n",
    "    else: \n",
    "        return 4\n",
    "\n",
    "df1['population_ordinal'] = df1.population.apply(population_order)\n",
    "df1.head()"
   ]
  },
  {
   "cell_type": "markdown",
   "id": "f9f67f06-bb67-40b3-a401-6283f3c4b237",
   "metadata": {},
   "source": [
    "Tiến hành kiểm định. \n",
    "\n",
    "Do population_ordinal là dữ liệu kiểu thứ bậc nên sử dụng kiểm định spearman để kiểm định tương quan giữa population_ordinal và cases\r\n",
    "\r\n",
    "Giả thuyết không: Giữa population_ordinal và case không có tương qua\n",
    "\n",
    "n Giả thuyết đối: Giữa population_ordinal và case có tương qu]:"
   ]
  },
  {
   "cell_type": "code",
   "execution_count": 15,
   "id": "6d3270ea-4a26-4820-8db1-80836b736435",
   "metadata": {},
   "outputs": [
    {
     "name": "stdout",
     "output_type": "stream",
     "text": [
      "r:  0.49498466493711596 ; pvalue:  6.982786622314858e-14\n"
     ]
    }
   ],
   "source": [
    "r, pvalue = stats.spearmanr(df1.cases, df1.population_ordinal)\n",
    "print (\"r: \", r, \"; pvalue: \", pvalue)"
   ]
  },
  {
   "cell_type": "markdown",
   "id": "f8628cf9-8691-40ad-9fbc-ad90abbf944d",
   "metadata": {},
   "source": [
    "Pvalue ~0, và r~0.5 chứng tỏ giữa thuộc tính population_ordinal và số ca nhiễm bệnh có tương quan với nhau. \n",
    "\n",
    "Như vậy có thể thấy, việc biến đổi dữ liệu thành các khoảng có thể làm nổi bật thông tin tương quan giữa cá thuộc tính."
   ]
  }
 ],
 "metadata": {
  "kernelspec": {
   "display_name": "Python 3 (ipykernel)",
   "language": "python",
   "name": "python3"
  },
  "language_info": {
   "codemirror_mode": {
    "name": "ipython",
    "version": 3
   },
   "file_extension": ".py",
   "mimetype": "text/x-python",
   "name": "python",
   "nbconvert_exporter": "python",
   "pygments_lexer": "ipython3",
   "version": "3.11.4"
  }
 },
 "nbformat": 4,
 "nbformat_minor": 5
}
