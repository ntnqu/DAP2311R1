{
 "cells": [
  {
   "cell_type": "markdown",
   "id": "04051f46-89b6-4f63-bc97-4e9456bc0277",
   "metadata": {},
   "source": [
    "### Kiểm định tương quan trên bộ dữ liệu covid-19\n",
    "\n",
    "Mục tiêu: Kiểm định tương quan giữa các thuộc tính định lượng\n",
    "\n",
    "Mô tả bài toán\n",
    "\n",
    "Bộ dữ liệu subset-covid-data.csv chứa thông tin về tình hình covid ngày 12/4/2020 Hãy thực hiện những kiểm định sau với mức ý nghĩa 5%:\n",
    "\n",
    "- Có mối tương quan nào giữa dân số và số ca nhiễm bệnh hay không\n",
    "- Có mối tương quan nào giữa số ca mắc và ca tử vong ở các quốc gia hay không\n",
    "- Hãy tiến hành rời rạc hóa thuộc tính population thành các nhóm theo thứ tự tăng dần đặt tên là biến population_ordinal:\n",
    "\n",
    " 1: nếu population < tứ phân vị thứ nhất\n",
    "  \n",
    " 2: Population nằm trong khoảng từ tứ phân vị thứ nhất tới tứ phân vị thứ 2\n",
    " \n",
    " 3: nếu population nằm trong khoảng từ tứ phân vị thứ 2 tới thứ 3\n",
    " \n",
    " 4: nếu population >= tứ phân vị thứ 3\n",
    "Hãy kiểm tra mối tương quan giữa thuộc tính population_ordinaly với số ca nhiễm bệnh"
   ]
  },
  {
   "cell_type": "code",
   "execution_count": 1,
   "id": "75c28189-49e9-4b55-bc58-e4cc853dfa26",
   "metadata": {},
   "outputs": [],
   "source": [
    "import pandas as pd\n",
    "import matplotlib.pyplot as plt\n",
    "from scipy import stats"
   ]
  },
  {
   "cell_type": "code",
   "execution_count": 3,
   "id": "ddcb7302-d0e7-4089-99ac-42f7738afb67",
   "metadata": {},
   "outputs": [],
   "source": [
    "df = pd.read_csv('subset-covid-data.csv')"
   ]
  },
  {
   "cell_type": "code",
   "execution_count": 4,
   "id": "0a1a8b31-a61d-48f5-af59-8a0a03f047d5",
   "metadata": {},
   "outputs": [
    {
     "data": {
      "text/html": [
       "<div>\n",
       "<style scoped>\n",
       "    .dataframe tbody tr th:only-of-type {\n",
       "        vertical-align: middle;\n",
       "    }\n",
       "\n",
       "    .dataframe tbody tr th {\n",
       "        vertical-align: top;\n",
       "    }\n",
       "\n",
       "    .dataframe thead th {\n",
       "        text-align: right;\n",
       "    }\n",
       "</style>\n",
       "<table border=\"1\" class=\"dataframe\">\n",
       "  <thead>\n",
       "    <tr style=\"text-align: right;\">\n",
       "      <th></th>\n",
       "      <th>country</th>\n",
       "      <th>continent</th>\n",
       "      <th>date</th>\n",
       "      <th>day</th>\n",
       "      <th>month</th>\n",
       "      <th>year</th>\n",
       "      <th>cases</th>\n",
       "      <th>deaths</th>\n",
       "      <th>country_code</th>\n",
       "      <th>population</th>\n",
       "    </tr>\n",
       "  </thead>\n",
       "  <tbody>\n",
       "    <tr>\n",
       "      <th>0</th>\n",
       "      <td>Afghanistan</td>\n",
       "      <td>Asia</td>\n",
       "      <td>2020-04-12</td>\n",
       "      <td>12</td>\n",
       "      <td>4</td>\n",
       "      <td>2020</td>\n",
       "      <td>34</td>\n",
       "      <td>3</td>\n",
       "      <td>AFG</td>\n",
       "      <td>37172386.0</td>\n",
       "    </tr>\n",
       "    <tr>\n",
       "      <th>1</th>\n",
       "      <td>Albania</td>\n",
       "      <td>Europe</td>\n",
       "      <td>2020-04-12</td>\n",
       "      <td>12</td>\n",
       "      <td>4</td>\n",
       "      <td>2020</td>\n",
       "      <td>17</td>\n",
       "      <td>0</td>\n",
       "      <td>ALB</td>\n",
       "      <td>2866376.0</td>\n",
       "    </tr>\n",
       "    <tr>\n",
       "      <th>2</th>\n",
       "      <td>Algeria</td>\n",
       "      <td>Africa</td>\n",
       "      <td>2020-04-12</td>\n",
       "      <td>12</td>\n",
       "      <td>4</td>\n",
       "      <td>2020</td>\n",
       "      <td>64</td>\n",
       "      <td>19</td>\n",
       "      <td>DZA</td>\n",
       "      <td>42228429.0</td>\n",
       "    </tr>\n",
       "    <tr>\n",
       "      <th>3</th>\n",
       "      <td>Andorra</td>\n",
       "      <td>Europe</td>\n",
       "      <td>2020-04-12</td>\n",
       "      <td>12</td>\n",
       "      <td>4</td>\n",
       "      <td>2020</td>\n",
       "      <td>21</td>\n",
       "      <td>2</td>\n",
       "      <td>AND</td>\n",
       "      <td>77006.0</td>\n",
       "    </tr>\n",
       "    <tr>\n",
       "      <th>4</th>\n",
       "      <td>Angola</td>\n",
       "      <td>Africa</td>\n",
       "      <td>2020-04-12</td>\n",
       "      <td>12</td>\n",
       "      <td>4</td>\n",
       "      <td>2020</td>\n",
       "      <td>0</td>\n",
       "      <td>0</td>\n",
       "      <td>AGO</td>\n",
       "      <td>30809762.0</td>\n",
       "    </tr>\n",
       "  </tbody>\n",
       "</table>\n",
       "</div>"
      ],
      "text/plain": [
       "       country continent        date  day  month  year  cases  deaths  \\\n",
       "0  Afghanistan      Asia  2020-04-12   12      4  2020     34       3   \n",
       "1      Albania    Europe  2020-04-12   12      4  2020     17       0   \n",
       "2      Algeria    Africa  2020-04-12   12      4  2020     64      19   \n",
       "3      Andorra    Europe  2020-04-12   12      4  2020     21       2   \n",
       "4       Angola    Africa  2020-04-12   12      4  2020      0       0   \n",
       "\n",
       "  country_code  population  \n",
       "0          AFG  37172386.0  \n",
       "1          ALB   2866376.0  \n",
       "2          DZA  42228429.0  \n",
       "3          AND     77006.0  \n",
       "4          AGO  30809762.0  "
      ]
     },
     "execution_count": 4,
     "metadata": {},
     "output_type": "execute_result"
    }
   ],
   "source": [
    "df.head()"
   ]
  },
  {
   "cell_type": "code",
   "execution_count": 5,
   "id": "eb233c16-a765-43c8-a1b4-5f2d036f89c2",
   "metadata": {},
   "outputs": [
    {
     "name": "stdout",
     "output_type": "stream",
     "text": [
      "<class 'pandas.core.frame.DataFrame'>\n",
      "RangeIndex: 206 entries, 0 to 205\n",
      "Data columns (total 10 columns):\n",
      " #   Column        Non-Null Count  Dtype  \n",
      "---  ------        --------------  -----  \n",
      " 0   country       206 non-null    object \n",
      " 1   continent     206 non-null    object \n",
      " 2   date          206 non-null    object \n",
      " 3   day           206 non-null    int64  \n",
      " 4   month         206 non-null    int64  \n",
      " 5   year          206 non-null    int64  \n",
      " 6   cases         206 non-null    int64  \n",
      " 7   deaths        206 non-null    int64  \n",
      " 8   country_code  202 non-null    object \n",
      " 9   population    202 non-null    float64\n",
      "dtypes: float64(1), int64(5), object(4)\n",
      "memory usage: 16.2+ KB\n"
     ]
    }
   ],
   "source": [
    "df.info()"
   ]
  },
  {
   "cell_type": "markdown",
   "id": "6fc9bb42-4126-4f3b-886f-c542ae6f96bc",
   "metadata": {},
   "source": [
    "#### Có mối tương quan nào giữa dân số và số ca nhiễm bệnh hay không"
   ]
  },
  {
   "cell_type": "code",
   "execution_count": 6,
   "id": "744f356e-d8e5-4416-bb07-672beb19074e",
   "metadata": {},
   "outputs": [
    {
     "data": {
      "text/plain": [
       "PearsonRResult(statistic=0.17553926594294003, pvalue=0.012460310704208348)"
      ]
     },
     "execution_count": 6,
     "metadata": {},
     "output_type": "execute_result"
    }
   ],
   "source": [
    "df1 = df[['cases', 'population']]\n",
    "df1 = df1.dropna()\n",
    "stats.pearsonr(df1['cases'], df1['population'])"
   ]
  },
  {
   "cell_type": "markdown",
   "id": "699f5048-f038-4e59-8de4-3e33ff5977a6",
   "metadata": {},
   "source": [
    "vì pvalue = 0.012 < 0.05\n",
    "do vậy có mỗi tương quan giữa dân số và số ca nhiễm bệnh"
   ]
  },
  {
   "cell_type": "markdown",
   "id": "53d6de3b-0a4f-4da4-8912-f39aa1351f64",
   "metadata": {},
   "source": [
    "#### Có mối tương quan nào giữa số ca mắc và ca tử vong ở các quốc gia hay không"
   ]
  },
  {
   "cell_type": "code",
   "execution_count": 7,
   "id": "f2264499-7ed0-418c-89c6-72701ff77663",
   "metadata": {},
   "outputs": [
    {
     "data": {
      "text/plain": [
       "PearsonRResult(statistic=0.9432201374746727, pvalue=1.3451948745844029e-99)"
      ]
     },
     "execution_count": 7,
     "metadata": {},
     "output_type": "execute_result"
    }
   ],
   "source": [
    "df2 = df[['cases', 'deaths']]\n",
    "df2 = df2.dropna()\n",
    "stats.pearsonr(df2['cases'], df2['deaths'])"
   ]
  },
  {
   "cell_type": "markdown",
   "id": "b00e966f-2d0b-47b8-a5e6-e3a56ebc13a8",
   "metadata": {},
   "source": [
    "pvalue = 1.345e-99 < 0.05 --> có đủ cơ sở để chứng minh có mối tương quan giữa số ca nhiễm bệnh và ca tử vong"
   ]
  },
  {
   "cell_type": "code",
   "execution_count": null,
   "id": "61cb00db-94b8-4bbc-b5b4-36c8e00a237e",
   "metadata": {},
   "outputs": [],
   "source": []
  }
 ],
 "metadata": {
  "kernelspec": {
   "display_name": "Python 3 (ipykernel)",
   "language": "python",
   "name": "python3"
  },
  "language_info": {
   "codemirror_mode": {
    "name": "ipython",
    "version": 3
   },
   "file_extension": ".py",
   "mimetype": "text/x-python",
   "name": "python",
   "nbconvert_exporter": "python",
   "pygments_lexer": "ipython3",
   "version": "3.11.4"
  }
 },
 "nbformat": 4,
 "nbformat_minor": 5
}
