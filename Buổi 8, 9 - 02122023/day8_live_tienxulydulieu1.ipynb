{
 "cells": [
  {
   "cell_type": "code",
   "execution_count": 1,
   "metadata": {
    "id": "R-CgsP1HgJ3i"
   },
   "outputs": [],
   "source": [
    "# Thao tác xử lý dữ liệu cơ bản trong Pandas\n",
    "\n",
    "# Bước 1: Thu thập dữ liệu\n",
    "\n",
    "# Bước 2: Tiền xử lý dữ liệu"
   ]
  },
  {
   "cell_type": "code",
   "execution_count": 2,
   "metadata": {
    "id": "tJ4RLVHnhLyn"
   },
   "outputs": [],
   "source": [
    "# Tiền xử lý dữ liệu\n",
    "\n",
    "  # 1. Làm sạch dữ liệu\n",
    "\n",
    "    # Có dữ liệu\n",
    "\n",
    "      # Dữ liệu đang không ở cấu trúc mong muốn -> chỉnh sửa cấu trúc -> bài trước\n",
    "\n",
    "      # Dữ liệu đang không ở nội dung mong muốn -> chỉnh sửa nội dung -> bài trước\n",
    "\n",
    "      # Outlier (giá trị ngoại lai) -> BUỔI HÔM NAY\n",
    "\n",
    "        # Nhận dạng outlier\n",
    "\n",
    "        # Xử lý outlier\n",
    "\n",
    "    # Không có -> Thiếu dữ liệu (missing data)\n",
    "\n",
    "      # Nhận dạng, tìm ra giá trị khuyết thuyết\n",
    "\n",
    "      # Xử lý giá trị khuyết thiếu\n",
    "\n",
    "        # 1. Bỏ đi\n",
    "\n",
    "        # 2. Điền vào giá trị khuyết thiếu: 0, mean, median, mode, forward fill, backward fill, ...\n",
    "\n",
    "        # 3. Để yên\n",
    "\n",
    "  # 2. Chuẩn hoá dữ liệu\n",
    "\n",
    "  # 3. Tách dữ liệu"
   ]
  },
  {
   "cell_type": "markdown",
   "metadata": {
    "id": "OsgBB36IirsX"
   },
   "source": [
    "# Set Up"
   ]
  },
  {
   "cell_type": "code",
   "execution_count": 3,
   "metadata": {
    "id": "KqDq1KoRiqrh"
   },
   "outputs": [],
   "source": [
    "import pandas as pd\n",
    "import numpy as np"
   ]
  },
  {
   "cell_type": "markdown",
   "metadata": {
    "id": "sdgRDWvri06g"
   },
   "source": [
    "# Xử lý dữ liệu khuyết thiếu (missing data)"
   ]
  },
  {
   "cell_type": "code",
   "execution_count": 4,
   "metadata": {
    "id": "ehQ_OMq8iwC-"
   },
   "outputs": [],
   "source": [
    "# bước 1: tìm ra giá trị khuyết thiếu\n",
    "# bước 2: xử lý\n",
    "  # cách 1: bỏ giá trị khuyết thiếu\n",
    "  # cách 2: điền vào giá trị khuyết thiếu"
   ]
  },
  {
   "cell_type": "markdown",
   "metadata": {
    "id": "uZotInY8jIA4"
   },
   "source": [
    "## Kiểm tra xem có khuyết hay không"
   ]
  },
  {
   "cell_type": "code",
   "execution_count": 5,
   "metadata": {
    "id": "WdIlDWNOjHDL"
   },
   "outputs": [],
   "source": [
    "s = pd.Series([5, 6, np.nan])"
   ]
  },
  {
   "cell_type": "code",
   "execution_count": 6,
   "metadata": {
    "colab": {
     "base_uri": "https://localhost:8080/"
    },
    "id": "RnUxIeoVjQBj",
    "outputId": "2d49bc43-d1ee-4971-ecd5-d122102fb840"
   },
   "outputs": [
    {
     "data": {
      "text/plain": [
       "0    5.0\n",
       "1    6.0\n",
       "2    NaN\n",
       "dtype: float64"
      ]
     },
     "execution_count": 6,
     "metadata": {},
     "output_type": "execute_result"
    }
   ],
   "source": [
    "s"
   ]
  },
  {
   "cell_type": "code",
   "execution_count": 7,
   "metadata": {
    "colab": {
     "base_uri": "https://localhost:8080/"
    },
    "id": "UN3JPFh_jQml",
    "outputId": "5e67e50e-664f-40b4-9641-319c0afb77f8"
   },
   "outputs": [
    {
     "data": {
      "text/plain": [
       "0    False\n",
       "1    False\n",
       "2     True\n",
       "dtype: bool"
      ]
     },
     "execution_count": 7,
     "metadata": {},
     "output_type": "execute_result"
    }
   ],
   "source": [
    "# Kiểm tra phần tử nào bị khuyết\n",
    "s.isna()"
   ]
  },
  {
   "cell_type": "code",
   "execution_count": 8,
   "metadata": {
    "id": "WWoS27uQjgIu"
   },
   "outputs": [],
   "source": [
    "# ngược lại, kiểm tra phần tử nào không bị khuyết\n",
    "# s.notna()"
   ]
  },
  {
   "cell_type": "markdown",
   "metadata": {
    "id": "vP9htovjj7OC"
   },
   "source": [
    "## Xử lý giá trị khuyết thiếu - Xoá giá trị thiếu"
   ]
  },
  {
   "cell_type": "code",
   "execution_count": 9,
   "metadata": {
    "colab": {
     "base_uri": "https://localhost:8080/"
    },
    "id": "tEDJSk8PjpcI",
    "outputId": "e31b278a-679b-451e-baac-3672e85ada51"
   },
   "outputs": [
    {
     "data": {
      "text/plain": [
       "0    5.0\n",
       "1    6.0\n",
       "dtype: float64"
      ]
     },
     "execution_count": 9,
     "metadata": {},
     "output_type": "execute_result"
    }
   ],
   "source": [
    "s.dropna() #drop: bỏ, na -> dropna(): bỏ giá trị na"
   ]
  },
  {
   "cell_type": "code",
   "execution_count": 10,
   "metadata": {
    "colab": {
     "base_uri": "https://localhost:8080/",
     "height": 143
    },
    "id": "8HjYIti0kUZT",
    "outputId": "217b33f9-e02e-49d0-b9ec-508d5ba99fba"
   },
   "outputs": [
    {
     "data": {
      "text/html": [
       "<div>\n",
       "<style scoped>\n",
       "    .dataframe tbody tr th:only-of-type {\n",
       "        vertical-align: middle;\n",
       "    }\n",
       "\n",
       "    .dataframe tbody tr th {\n",
       "        vertical-align: top;\n",
       "    }\n",
       "\n",
       "    .dataframe thead th {\n",
       "        text-align: right;\n",
       "    }\n",
       "</style>\n",
       "<table border=\"1\" class=\"dataframe\">\n",
       "  <thead>\n",
       "    <tr style=\"text-align: right;\">\n",
       "      <th></th>\n",
       "      <th>name</th>\n",
       "      <th>toy</th>\n",
       "      <th>born</th>\n",
       "    </tr>\n",
       "  </thead>\n",
       "  <tbody>\n",
       "    <tr>\n",
       "      <th>0</th>\n",
       "      <td>Alfred</td>\n",
       "      <td>NaN</td>\n",
       "      <td>NaT</td>\n",
       "    </tr>\n",
       "    <tr>\n",
       "      <th>1</th>\n",
       "      <td>Batman</td>\n",
       "      <td>Batmobile</td>\n",
       "      <td>1940-04-25</td>\n",
       "    </tr>\n",
       "    <tr>\n",
       "      <th>2</th>\n",
       "      <td>Catwoman</td>\n",
       "      <td>Bullwhip</td>\n",
       "      <td>NaT</td>\n",
       "    </tr>\n",
       "  </tbody>\n",
       "</table>\n",
       "</div>"
      ],
      "text/plain": [
       "       name        toy       born\n",
       "0    Alfred        NaN        NaT\n",
       "1    Batman  Batmobile 1940-04-25\n",
       "2  Catwoman   Bullwhip        NaT"
      ]
     },
     "execution_count": 10,
     "metadata": {},
     "output_type": "execute_result"
    }
   ],
   "source": [
    "df = pd.DataFrame({\"name\": ['Alfred', 'Batman', 'Catwoman'],\n",
    "                   \"toy\": [np.nan, 'Batmobile', 'Bullwhip'],\n",
    "                   \"born\": [pd.NaT, pd.Timestamp(\"1940-04-25\"),\n",
    "                            pd.NaT]})\n",
    "df"
   ]
  },
  {
   "cell_type": "code",
   "execution_count": 11,
   "metadata": {
    "colab": {
     "base_uri": "https://localhost:8080/",
     "height": 81
    },
    "id": "er4ML-O9kr87",
    "outputId": "f8d53b90-4fb8-48cd-92ac-0774803f9967"
   },
   "outputs": [
    {
     "data": {
      "text/html": [
       "<div>\n",
       "<style scoped>\n",
       "    .dataframe tbody tr th:only-of-type {\n",
       "        vertical-align: middle;\n",
       "    }\n",
       "\n",
       "    .dataframe tbody tr th {\n",
       "        vertical-align: top;\n",
       "    }\n",
       "\n",
       "    .dataframe thead th {\n",
       "        text-align: right;\n",
       "    }\n",
       "</style>\n",
       "<table border=\"1\" class=\"dataframe\">\n",
       "  <thead>\n",
       "    <tr style=\"text-align: right;\">\n",
       "      <th></th>\n",
       "      <th>name</th>\n",
       "      <th>toy</th>\n",
       "      <th>born</th>\n",
       "    </tr>\n",
       "  </thead>\n",
       "  <tbody>\n",
       "    <tr>\n",
       "      <th>1</th>\n",
       "      <td>Batman</td>\n",
       "      <td>Batmobile</td>\n",
       "      <td>1940-04-25</td>\n",
       "    </tr>\n",
       "  </tbody>\n",
       "</table>\n",
       "</div>"
      ],
      "text/plain": [
       "     name        toy       born\n",
       "1  Batman  Batmobile 1940-04-25"
      ]
     },
     "execution_count": 11,
     "metadata": {},
     "output_type": "execute_result"
    }
   ],
   "source": [
    "# xoá dòng mà có ít nhất 1 phần tử na\n",
    "df.dropna()"
   ]
  },
  {
   "cell_type": "code",
   "execution_count": 12,
   "metadata": {
    "colab": {
     "base_uri": "https://localhost:8080/",
     "height": 143
    },
    "id": "8xBaT5vlkthq",
    "outputId": "6e2bb824-903f-44ab-852b-1ada2b0e21f4"
   },
   "outputs": [
    {
     "data": {
      "text/html": [
       "<div>\n",
       "<style scoped>\n",
       "    .dataframe tbody tr th:only-of-type {\n",
       "        vertical-align: middle;\n",
       "    }\n",
       "\n",
       "    .dataframe tbody tr th {\n",
       "        vertical-align: top;\n",
       "    }\n",
       "\n",
       "    .dataframe thead th {\n",
       "        text-align: right;\n",
       "    }\n",
       "</style>\n",
       "<table border=\"1\" class=\"dataframe\">\n",
       "  <thead>\n",
       "    <tr style=\"text-align: right;\">\n",
       "      <th></th>\n",
       "      <th>name</th>\n",
       "    </tr>\n",
       "  </thead>\n",
       "  <tbody>\n",
       "    <tr>\n",
       "      <th>0</th>\n",
       "      <td>Alfred</td>\n",
       "    </tr>\n",
       "    <tr>\n",
       "      <th>1</th>\n",
       "      <td>Batman</td>\n",
       "    </tr>\n",
       "    <tr>\n",
       "      <th>2</th>\n",
       "      <td>Catwoman</td>\n",
       "    </tr>\n",
       "  </tbody>\n",
       "</table>\n",
       "</div>"
      ],
      "text/plain": [
       "       name\n",
       "0    Alfred\n",
       "1    Batman\n",
       "2  Catwoman"
      ]
     },
     "execution_count": 12,
     "metadata": {},
     "output_type": "execute_result"
    }
   ],
   "source": [
    "# xoá cột có na\n",
    "df.dropna(axis='columns')"
   ]
  },
  {
   "cell_type": "code",
   "execution_count": 13,
   "metadata": {
    "colab": {
     "base_uri": "https://localhost:8080/",
     "height": 143
    },
    "id": "8NZ-wNRglNVw",
    "outputId": "b38244f1-8db2-41af-b589-0e75eef02c50"
   },
   "outputs": [
    {
     "data": {
      "text/html": [
       "<div>\n",
       "<style scoped>\n",
       "    .dataframe tbody tr th:only-of-type {\n",
       "        vertical-align: middle;\n",
       "    }\n",
       "\n",
       "    .dataframe tbody tr th {\n",
       "        vertical-align: top;\n",
       "    }\n",
       "\n",
       "    .dataframe thead th {\n",
       "        text-align: right;\n",
       "    }\n",
       "</style>\n",
       "<table border=\"1\" class=\"dataframe\">\n",
       "  <thead>\n",
       "    <tr style=\"text-align: right;\">\n",
       "      <th></th>\n",
       "      <th>name</th>\n",
       "      <th>toy</th>\n",
       "      <th>born</th>\n",
       "    </tr>\n",
       "  </thead>\n",
       "  <tbody>\n",
       "    <tr>\n",
       "      <th>0</th>\n",
       "      <td>Alfred</td>\n",
       "      <td>NaN</td>\n",
       "      <td>NaT</td>\n",
       "    </tr>\n",
       "    <tr>\n",
       "      <th>1</th>\n",
       "      <td>Batman</td>\n",
       "      <td>Batmobile</td>\n",
       "      <td>1940-04-25</td>\n",
       "    </tr>\n",
       "    <tr>\n",
       "      <th>2</th>\n",
       "      <td>Catwoman</td>\n",
       "      <td>Bullwhip</td>\n",
       "      <td>NaT</td>\n",
       "    </tr>\n",
       "  </tbody>\n",
       "</table>\n",
       "</div>"
      ],
      "text/plain": [
       "       name        toy       born\n",
       "0    Alfred        NaN        NaT\n",
       "1    Batman  Batmobile 1940-04-25\n",
       "2  Catwoman   Bullwhip        NaT"
      ]
     },
     "execution_count": 13,
     "metadata": {},
     "output_type": "execute_result"
    }
   ],
   "source": [
    "# xoá dòng bị na, nhưng chỉ xoá những dòng mà toàn bộ giá trị trong dòng đó na\n",
    "df.dropna(how='all')"
   ]
  },
  {
   "cell_type": "code",
   "execution_count": 14,
   "metadata": {
    "colab": {
     "base_uri": "https://localhost:8080/",
     "height": 112
    },
    "id": "M8LgHXmPlhjd",
    "outputId": "650ba471-9922-4ab6-b4c7-62545383671a"
   },
   "outputs": [
    {
     "data": {
      "text/html": [
       "<div>\n",
       "<style scoped>\n",
       "    .dataframe tbody tr th:only-of-type {\n",
       "        vertical-align: middle;\n",
       "    }\n",
       "\n",
       "    .dataframe tbody tr th {\n",
       "        vertical-align: top;\n",
       "    }\n",
       "\n",
       "    .dataframe thead th {\n",
       "        text-align: right;\n",
       "    }\n",
       "</style>\n",
       "<table border=\"1\" class=\"dataframe\">\n",
       "  <thead>\n",
       "    <tr style=\"text-align: right;\">\n",
       "      <th></th>\n",
       "      <th>name</th>\n",
       "      <th>toy</th>\n",
       "      <th>born</th>\n",
       "    </tr>\n",
       "  </thead>\n",
       "  <tbody>\n",
       "    <tr>\n",
       "      <th>1</th>\n",
       "      <td>Batman</td>\n",
       "      <td>Batmobile</td>\n",
       "      <td>1940-04-25</td>\n",
       "    </tr>\n",
       "    <tr>\n",
       "      <th>2</th>\n",
       "      <td>Catwoman</td>\n",
       "      <td>Bullwhip</td>\n",
       "      <td>NaT</td>\n",
       "    </tr>\n",
       "  </tbody>\n",
       "</table>\n",
       "</div>"
      ],
      "text/plain": [
       "       name        toy       born\n",
       "1    Batman  Batmobile 1940-04-25\n",
       "2  Catwoman   Bullwhip        NaT"
      ]
     },
     "execution_count": 14,
     "metadata": {},
     "output_type": "execute_result"
    }
   ],
   "source": [
    "# xoá dòng bị na, nhưng chỉ xoá những dòng mà có ít nhất 2 giá trị không bị na\n",
    "df.dropna(thresh=2)"
   ]
  },
  {
   "cell_type": "code",
   "execution_count": 15,
   "metadata": {
    "colab": {
     "base_uri": "https://localhost:8080/",
     "height": 112
    },
    "id": "Aj2TChOwmO7X",
    "outputId": "62ed8348-3fa8-4543-d7a6-3c757764c737"
   },
   "outputs": [
    {
     "data": {
      "text/html": [
       "<div>\n",
       "<style scoped>\n",
       "    .dataframe tbody tr th:only-of-type {\n",
       "        vertical-align: middle;\n",
       "    }\n",
       "\n",
       "    .dataframe tbody tr th {\n",
       "        vertical-align: top;\n",
       "    }\n",
       "\n",
       "    .dataframe thead th {\n",
       "        text-align: right;\n",
       "    }\n",
       "</style>\n",
       "<table border=\"1\" class=\"dataframe\">\n",
       "  <thead>\n",
       "    <tr style=\"text-align: right;\">\n",
       "      <th></th>\n",
       "      <th>name</th>\n",
       "      <th>toy</th>\n",
       "      <th>born</th>\n",
       "    </tr>\n",
       "  </thead>\n",
       "  <tbody>\n",
       "    <tr>\n",
       "      <th>1</th>\n",
       "      <td>Batman</td>\n",
       "      <td>Batmobile</td>\n",
       "      <td>1940-04-25</td>\n",
       "    </tr>\n",
       "    <tr>\n",
       "      <th>2</th>\n",
       "      <td>Catwoman</td>\n",
       "      <td>Bullwhip</td>\n",
       "      <td>NaT</td>\n",
       "    </tr>\n",
       "  </tbody>\n",
       "</table>\n",
       "</div>"
      ],
      "text/plain": [
       "       name        toy       born\n",
       "1    Batman  Batmobile 1940-04-25\n",
       "2  Catwoman   Bullwhip        NaT"
      ]
     },
     "execution_count": 15,
     "metadata": {},
     "output_type": "execute_result"
    }
   ],
   "source": [
    "# xoá dòng bị na, nhưng chỉ xoá ở những cột xác định trước\n",
    "# tuổi, giới tính, quê quán\n",
    "df.dropna(subset=['name', 'toy'])"
   ]
  },
  {
   "cell_type": "code",
   "execution_count": 16,
   "metadata": {
    "id": "d9gle3JRmxzZ"
   },
   "outputs": [],
   "source": [
    "# Tóm lại, bỏ dữ liệu khuyết thiếu\n",
    "\n",
    "# Ưu điểm:\n",
    "  # dễ code\n",
    "  # không làm sai dữ liệu\n",
    "\n",
    "# Khuyết điểm:\n",
    "  # 1. Bỏ đi nhiều quá\n",
    "  # 2. Mất tính đại diện\n",
    "\n",
    "# Khắc phục:\n",
    "  # 1. Xoá, xoá có chọn lọc\n",
    "  # 2. -> điền vào chỗ khuyết\n",
    "\n",
    "# Code: .dropna(...)\n",
    "  # bỏ cột mà dính na: axis=columns\n",
    "  # bỏ dòng mà na hết: how='all'\n",
    "  # giữ lại dòng có ít nhất 2 giá trị không bị na: thresh=2\n",
    "  # có những cột tuyệt đối không được na: -> chỉ định cột: subset=[danh sách cột]\n",
    "  # ... documentation của Pandas: dropna()"
   ]
  },
  {
   "cell_type": "markdown",
   "metadata": {
    "id": "mI1BvYYmoq0G"
   },
   "source": [
    "## Điền vào chỗ khuyết thiếu"
   ]
  },
  {
   "cell_type": "code",
   "execution_count": 17,
   "metadata": {
    "colab": {
     "base_uri": "https://localhost:8080/",
     "height": 175
    },
    "id": "PoNAGT2Jox_P",
    "outputId": "dbe9cf6a-04da-45de-c18f-7fa6ba5533bf"
   },
   "outputs": [
    {
     "data": {
      "text/html": [
       "<div>\n",
       "<style scoped>\n",
       "    .dataframe tbody tr th:only-of-type {\n",
       "        vertical-align: middle;\n",
       "    }\n",
       "\n",
       "    .dataframe tbody tr th {\n",
       "        vertical-align: top;\n",
       "    }\n",
       "\n",
       "    .dataframe thead th {\n",
       "        text-align: right;\n",
       "    }\n",
       "</style>\n",
       "<table border=\"1\" class=\"dataframe\">\n",
       "  <thead>\n",
       "    <tr style=\"text-align: right;\">\n",
       "      <th></th>\n",
       "      <th>A</th>\n",
       "      <th>B</th>\n",
       "      <th>C</th>\n",
       "      <th>D</th>\n",
       "    </tr>\n",
       "  </thead>\n",
       "  <tbody>\n",
       "    <tr>\n",
       "      <th>0</th>\n",
       "      <td>NaN</td>\n",
       "      <td>2.0</td>\n",
       "      <td>NaN</td>\n",
       "      <td>0</td>\n",
       "    </tr>\n",
       "    <tr>\n",
       "      <th>1</th>\n",
       "      <td>3.0</td>\n",
       "      <td>4.0</td>\n",
       "      <td>NaN</td>\n",
       "      <td>1</td>\n",
       "    </tr>\n",
       "    <tr>\n",
       "      <th>2</th>\n",
       "      <td>NaN</td>\n",
       "      <td>NaN</td>\n",
       "      <td>NaN</td>\n",
       "      <td>5</td>\n",
       "    </tr>\n",
       "    <tr>\n",
       "      <th>3</th>\n",
       "      <td>NaN</td>\n",
       "      <td>3.0</td>\n",
       "      <td>NaN</td>\n",
       "      <td>4</td>\n",
       "    </tr>\n",
       "  </tbody>\n",
       "</table>\n",
       "</div>"
      ],
      "text/plain": [
       "     A    B   C  D\n",
       "0  NaN  2.0 NaN  0\n",
       "1  3.0  4.0 NaN  1\n",
       "2  NaN  NaN NaN  5\n",
       "3  NaN  3.0 NaN  4"
      ]
     },
     "execution_count": 17,
     "metadata": {},
     "output_type": "execute_result"
    }
   ],
   "source": [
    "df = pd.DataFrame([[np.nan, 2, np.nan, 0],\n",
    "                   [3, 4, np.nan, 1],\n",
    "                   [np.nan, np.nan, np.nan, 5],\n",
    "                   [np.nan, 3, np.nan, 4]],\n",
    "                  columns=list(\"ABCD\"))\n",
    "df"
   ]
  },
  {
   "cell_type": "code",
   "execution_count": 18,
   "metadata": {
    "colab": {
     "base_uri": "https://localhost:8080/",
     "height": 175
    },
    "id": "vz76WczAosaa",
    "outputId": "56a6cbc3-6800-4a72-ef51-82c84ea7e8a8"
   },
   "outputs": [
    {
     "data": {
      "text/html": [
       "<div>\n",
       "<style scoped>\n",
       "    .dataframe tbody tr th:only-of-type {\n",
       "        vertical-align: middle;\n",
       "    }\n",
       "\n",
       "    .dataframe tbody tr th {\n",
       "        vertical-align: top;\n",
       "    }\n",
       "\n",
       "    .dataframe thead th {\n",
       "        text-align: right;\n",
       "    }\n",
       "</style>\n",
       "<table border=\"1\" class=\"dataframe\">\n",
       "  <thead>\n",
       "    <tr style=\"text-align: right;\">\n",
       "      <th></th>\n",
       "      <th>A</th>\n",
       "      <th>B</th>\n",
       "      <th>C</th>\n",
       "      <th>D</th>\n",
       "    </tr>\n",
       "  </thead>\n",
       "  <tbody>\n",
       "    <tr>\n",
       "      <th>0</th>\n",
       "      <td>0.0</td>\n",
       "      <td>2.0</td>\n",
       "      <td>0.0</td>\n",
       "      <td>0</td>\n",
       "    </tr>\n",
       "    <tr>\n",
       "      <th>1</th>\n",
       "      <td>3.0</td>\n",
       "      <td>4.0</td>\n",
       "      <td>0.0</td>\n",
       "      <td>1</td>\n",
       "    </tr>\n",
       "    <tr>\n",
       "      <th>2</th>\n",
       "      <td>0.0</td>\n",
       "      <td>0.0</td>\n",
       "      <td>0.0</td>\n",
       "      <td>5</td>\n",
       "    </tr>\n",
       "    <tr>\n",
       "      <th>3</th>\n",
       "      <td>0.0</td>\n",
       "      <td>3.0</td>\n",
       "      <td>0.0</td>\n",
       "      <td>4</td>\n",
       "    </tr>\n",
       "  </tbody>\n",
       "</table>\n",
       "</div>"
      ],
      "text/plain": [
       "     A    B    C  D\n",
       "0  0.0  2.0  0.0  0\n",
       "1  3.0  4.0  0.0  1\n",
       "2  0.0  0.0  0.0  5\n",
       "3  0.0  3.0  0.0  4"
      ]
     },
     "execution_count": 18,
     "metadata": {},
     "output_type": "execute_result"
    }
   ],
   "source": [
    "# Cách 1: điền = 0\n",
    "df.fillna(0)"
   ]
  },
  {
   "cell_type": "code",
   "execution_count": 19,
   "metadata": {
    "colab": {
     "base_uri": "https://localhost:8080/",
     "height": 175
    },
    "id": "Y3_PJ-wqpa6H",
    "outputId": "1233e932-81d4-4541-c989-f361f54d8001"
   },
   "outputs": [
    {
     "name": "stderr",
     "output_type": "stream",
     "text": [
      "C:\\Users\\Admin\\AppData\\Local\\Temp\\ipykernel_2128\\595184731.py:2: FutureWarning: DataFrame.fillna with 'method' is deprecated and will raise in a future version. Use obj.ffill() or obj.bfill() instead.\n",
      "  df.fillna(method='bfill')\n"
     ]
    },
    {
     "data": {
      "text/html": [
       "<div>\n",
       "<style scoped>\n",
       "    .dataframe tbody tr th:only-of-type {\n",
       "        vertical-align: middle;\n",
       "    }\n",
       "\n",
       "    .dataframe tbody tr th {\n",
       "        vertical-align: top;\n",
       "    }\n",
       "\n",
       "    .dataframe thead th {\n",
       "        text-align: right;\n",
       "    }\n",
       "</style>\n",
       "<table border=\"1\" class=\"dataframe\">\n",
       "  <thead>\n",
       "    <tr style=\"text-align: right;\">\n",
       "      <th></th>\n",
       "      <th>A</th>\n",
       "      <th>B</th>\n",
       "      <th>C</th>\n",
       "      <th>D</th>\n",
       "    </tr>\n",
       "  </thead>\n",
       "  <tbody>\n",
       "    <tr>\n",
       "      <th>0</th>\n",
       "      <td>3.0</td>\n",
       "      <td>2.0</td>\n",
       "      <td>NaN</td>\n",
       "      <td>0</td>\n",
       "    </tr>\n",
       "    <tr>\n",
       "      <th>1</th>\n",
       "      <td>3.0</td>\n",
       "      <td>4.0</td>\n",
       "      <td>NaN</td>\n",
       "      <td>1</td>\n",
       "    </tr>\n",
       "    <tr>\n",
       "      <th>2</th>\n",
       "      <td>NaN</td>\n",
       "      <td>3.0</td>\n",
       "      <td>NaN</td>\n",
       "      <td>5</td>\n",
       "    </tr>\n",
       "    <tr>\n",
       "      <th>3</th>\n",
       "      <td>NaN</td>\n",
       "      <td>3.0</td>\n",
       "      <td>NaN</td>\n",
       "      <td>4</td>\n",
       "    </tr>\n",
       "  </tbody>\n",
       "</table>\n",
       "</div>"
      ],
      "text/plain": [
       "     A    B   C  D\n",
       "0  3.0  2.0 NaN  0\n",
       "1  3.0  4.0 NaN  1\n",
       "2  NaN  3.0 NaN  5\n",
       "3  NaN  3.0 NaN  4"
      ]
     },
     "execution_count": 19,
     "metadata": {},
     "output_type": "execute_result"
    }
   ],
   "source": [
    "# Cách 2: Điền bằng giá trị đằng trước hoặc đằng sau\n",
    "df.fillna(method='bfill')"
   ]
  },
  {
   "cell_type": "code",
   "execution_count": 20,
   "metadata": {
    "colab": {
     "base_uri": "https://localhost:8080/"
    },
    "id": "Uwlgi0cFqL63",
    "outputId": "bd2cb7d5-17c7-4a24-e55d-b69600da64f8"
   },
   "outputs": [
    {
     "data": {
      "text/plain": [
       "0    3.0\n",
       "1    3.0\n",
       "2    3.0\n",
       "3    3.0\n",
       "Name: A, dtype: float64"
      ]
     },
     "execution_count": 20,
     "metadata": {},
     "output_type": "execute_result"
    }
   ],
   "source": [
    "# Cách 3: Điền bằng giá trị mang tính đại diện của cột dữ liệu\n",
    "# 3.1: điền giá trị trung bình, trung vị, mode\n",
    "df['A'].fillna(df['A'].median())"
   ]
  },
  {
   "cell_type": "code",
   "execution_count": 21,
   "metadata": {
    "colab": {
     "base_uri": "https://localhost:8080/"
    },
    "id": "oFcxC-P6qVGo",
    "outputId": "3159c94b-f7ba-48f0-b5b9-ce580b709c27"
   },
   "outputs": [
    {
     "data": {
      "text/plain": [
       "0    NaN\n",
       "1    3.0\n",
       "2    3.0\n",
       "3    3.0\n",
       "Name: A, dtype: float64"
      ]
     },
     "execution_count": 21,
     "metadata": {},
     "output_type": "execute_result"
    }
   ],
   "source": [
    "# 3.2: dự đoán ô trống: interpolate() -> blackbox: linear, polynomial, ...\n",
    "df['A'].interpolate()"
   ]
  },
  {
   "cell_type": "code",
   "execution_count": 58,
   "metadata": {},
   "outputs": [
    {
     "data": {
      "text/html": [
       "<div>\n",
       "<style scoped>\n",
       "    .dataframe tbody tr th:only-of-type {\n",
       "        vertical-align: middle;\n",
       "    }\n",
       "\n",
       "    .dataframe tbody tr th {\n",
       "        vertical-align: top;\n",
       "    }\n",
       "\n",
       "    .dataframe thead th {\n",
       "        text-align: right;\n",
       "    }\n",
       "</style>\n",
       "<table border=\"1\" class=\"dataframe\">\n",
       "  <thead>\n",
       "    <tr style=\"text-align: right;\">\n",
       "      <th></th>\n",
       "      <th>A</th>\n",
       "      <th>B</th>\n",
       "      <th>C</th>\n",
       "      <th>D</th>\n",
       "    </tr>\n",
       "  </thead>\n",
       "  <tbody>\n",
       "    <tr>\n",
       "      <th>0</th>\n",
       "      <td>3.0</td>\n",
       "      <td>2.0</td>\n",
       "      <td>NaN</td>\n",
       "      <td>0</td>\n",
       "    </tr>\n",
       "    <tr>\n",
       "      <th>1</th>\n",
       "      <td>3.0</td>\n",
       "      <td>4.0</td>\n",
       "      <td>NaN</td>\n",
       "      <td>1</td>\n",
       "    </tr>\n",
       "    <tr>\n",
       "      <th>2</th>\n",
       "      <td>3.0</td>\n",
       "      <td>NaN</td>\n",
       "      <td>NaN</td>\n",
       "      <td>5</td>\n",
       "    </tr>\n",
       "    <tr>\n",
       "      <th>3</th>\n",
       "      <td>3.0</td>\n",
       "      <td>3.0</td>\n",
       "      <td>NaN</td>\n",
       "      <td>4</td>\n",
       "    </tr>\n",
       "  </tbody>\n",
       "</table>\n",
       "</div>"
      ],
      "text/plain": [
       "     A    B   C  D\n",
       "0  3.0  2.0 NaN  0\n",
       "1  3.0  4.0 NaN  1\n",
       "2  3.0  NaN NaN  5\n",
       "3  3.0  3.0 NaN  4"
      ]
     },
     "execution_count": 58,
     "metadata": {},
     "output_type": "execute_result"
    }
   ],
   "source": [
    "df['A'].fillna(df['A'].median(), inplace=True)\n",
    "df"
   ]
  },
  {
   "cell_type": "code",
   "execution_count": 60,
   "metadata": {},
   "outputs": [
    {
     "data": {
      "text/html": [
       "<div>\n",
       "<style scoped>\n",
       "    .dataframe tbody tr th:only-of-type {\n",
       "        vertical-align: middle;\n",
       "    }\n",
       "\n",
       "    .dataframe tbody tr th {\n",
       "        vertical-align: top;\n",
       "    }\n",
       "\n",
       "    .dataframe thead th {\n",
       "        text-align: right;\n",
       "    }\n",
       "</style>\n",
       "<table border=\"1\" class=\"dataframe\">\n",
       "  <thead>\n",
       "    <tr style=\"text-align: right;\">\n",
       "      <th></th>\n",
       "      <th>A</th>\n",
       "      <th>B</th>\n",
       "      <th>C</th>\n",
       "      <th>D</th>\n",
       "    </tr>\n",
       "  </thead>\n",
       "  <tbody>\n",
       "    <tr>\n",
       "      <th>0</th>\n",
       "      <td>3.0</td>\n",
       "      <td>2.0</td>\n",
       "      <td>2.0</td>\n",
       "      <td>0</td>\n",
       "    </tr>\n",
       "    <tr>\n",
       "      <th>1</th>\n",
       "      <td>3.0</td>\n",
       "      <td>4.0</td>\n",
       "      <td>2.0</td>\n",
       "      <td>1</td>\n",
       "    </tr>\n",
       "    <tr>\n",
       "      <th>2</th>\n",
       "      <td>3.0</td>\n",
       "      <td>1.0</td>\n",
       "      <td>2.0</td>\n",
       "      <td>5</td>\n",
       "    </tr>\n",
       "    <tr>\n",
       "      <th>3</th>\n",
       "      <td>3.0</td>\n",
       "      <td>3.0</td>\n",
       "      <td>2.0</td>\n",
       "      <td>4</td>\n",
       "    </tr>\n",
       "  </tbody>\n",
       "</table>\n",
       "</div>"
      ],
      "text/plain": [
       "     A    B    C  D\n",
       "0  3.0  2.0  2.0  0\n",
       "1  3.0  4.0  2.0  1\n",
       "2  3.0  1.0  2.0  5\n",
       "3  3.0  3.0  2.0  4"
      ]
     },
     "execution_count": 60,
     "metadata": {},
     "output_type": "execute_result"
    }
   ],
   "source": [
    "# giá trị Nan ở cột B, C, D thay lần lượt là 1,2,3...\n",
    "values = {\"B\": 1, \"C\": 2, \"D\": 3} \n",
    "df.fillna(value=values)"
   ]
  },
  {
   "cell_type": "code",
   "execution_count": 22,
   "metadata": {
    "id": "Am0RxauBqswh"
   },
   "outputs": [],
   "source": [
    "# Tổng kết: điền vào ô trống\n",
    "\n",
    "# Ưu điểm:\n",
    " # không bị mất dữ liệu\n",
    "\n",
    "# Khuyết điểm: vẫn có khả năng làm sai lệch dữ liệu\n",
    "  # điền = 0\n",
    "  # backward fill, forward fill\n",
    "  # điền bằng một giá trị mang tính đại diện: mean, median, mode\n",
    "\n",
    "# Code: fillna()"
   ]
  },
  {
   "cell_type": "code",
   "execution_count": 23,
   "metadata": {
    "id": "UBs-NNg6rv-B"
   },
   "outputs": [],
   "source": [
    "# dropna() -> bỏ nhiều quá -> dữ liệu bị mất tính đại diện\n",
    "# khi dữ liệu thiếu ít (<5%)\n",
    "\n",
    "# fillna() -> làm sai dữ liệu\n",
    "# khi dữ liệu có chuẩn nhất định\n",
    "# -99\n",
    "\n",
    "# nhóm dữ liệu: thu nhập\n",
    "  # 0-10 triệu\n",
    "  # 10-20 triệu\n",
    "  # 20 triệu đổ lên\n",
    "  # missing\n",
    "  # -> phân tích riêng"
   ]
  },
  {
   "cell_type": "markdown",
   "metadata": {
    "id": "XF-HZU1jtfXR"
   },
   "source": [
    "# Xử lý giá trị ngoại lai"
   ]
  },
  {
   "cell_type": "code",
   "execution_count": 24,
   "metadata": {
    "id": "jfmW9H8yti-u"
   },
   "outputs": [],
   "source": [
    "# 3 cách phát hiện outliers\n",
    "  # 1. xem bằng mắt\n",
    "  # 2. bằng toán học\n",
    "  # outlier: khác hẳn với phần còn lại: quá lớn, quá nhỏ\n",
    "  # b1: tìm ra cái ngưỡng được coi là bình thường\n",
    "    # Với dữ liệu cân (normal distribution, hình chuông) -> mean -> độ lệch chuẩn -> trong 3 độ lệch chuẩn\n",
    "    # Với dữ liệu không cân -> median -> IQR -> trong 1.5*IQR\n",
    "  # b2: tìm ra các giá trị nằm ngoài ngưỡng bình thường -> ngoại lai\n",
    "    # với dữ liệu cân -> nằm ngoài 3 độ lệch chuẩn -> ngoại lai\n",
    "      # nhỏ hơn mean - 3*std\n",
    "      # lớn hơn mean + 3*std\n",
    "    # với dữ liệu lệch (skewed) -> nằm ngoài 1.5 IQR -> ngoại lai\n",
    "      # nhỏ hơn Q1 - 1.5*IQR\n",
    "      # lớn hơn Q3 + 1.5*IQR"
   ]
  },
  {
   "cell_type": "code",
   "execution_count": 25,
   "metadata": {
    "id": "-UtBjSyGvGq5"
   },
   "outputs": [],
   "source": [
    "boston_df = pd.read_csv('boston_house_prices.csv')\n",
    "boston_df.columns = boston_df.iloc[0]\n",
    "boston_df = boston_df[1:].reset_index(drop=True)\n",
    "boston_df = boston_df.apply(pd.to_numeric)"
   ]
  },
  {
   "cell_type": "code",
   "execution_count": 26,
   "metadata": {
    "colab": {
     "base_uri": "https://localhost:8080/",
     "height": 206
    },
    "id": "NYP3XGC5v-DB",
    "outputId": "417f9dcd-7674-4293-fbc2-dac1d092133e"
   },
   "outputs": [
    {
     "data": {
      "text/html": [
       "<div>\n",
       "<style scoped>\n",
       "    .dataframe tbody tr th:only-of-type {\n",
       "        vertical-align: middle;\n",
       "    }\n",
       "\n",
       "    .dataframe tbody tr th {\n",
       "        vertical-align: top;\n",
       "    }\n",
       "\n",
       "    .dataframe thead th {\n",
       "        text-align: right;\n",
       "    }\n",
       "</style>\n",
       "<table border=\"1\" class=\"dataframe\">\n",
       "  <thead>\n",
       "    <tr style=\"text-align: right;\">\n",
       "      <th></th>\n",
       "      <th>CRIM</th>\n",
       "      <th>ZN</th>\n",
       "      <th>INDUS</th>\n",
       "      <th>CHAS</th>\n",
       "      <th>NOX</th>\n",
       "      <th>RM</th>\n",
       "      <th>AGE</th>\n",
       "      <th>DIS</th>\n",
       "      <th>RAD</th>\n",
       "      <th>TAX</th>\n",
       "      <th>PTRATIO</th>\n",
       "      <th>B</th>\n",
       "      <th>LSTAT</th>\n",
       "      <th>MEDV</th>\n",
       "    </tr>\n",
       "  </thead>\n",
       "  <tbody>\n",
       "    <tr>\n",
       "      <th>0</th>\n",
       "      <td>0.00632</td>\n",
       "      <td>18.0</td>\n",
       "      <td>2.31</td>\n",
       "      <td>0</td>\n",
       "      <td>0.538</td>\n",
       "      <td>6.575</td>\n",
       "      <td>65.2</td>\n",
       "      <td>4.0900</td>\n",
       "      <td>1</td>\n",
       "      <td>296</td>\n",
       "      <td>15.3</td>\n",
       "      <td>396.90</td>\n",
       "      <td>4.98</td>\n",
       "      <td>24.0</td>\n",
       "    </tr>\n",
       "    <tr>\n",
       "      <th>1</th>\n",
       "      <td>0.02731</td>\n",
       "      <td>0.0</td>\n",
       "      <td>7.07</td>\n",
       "      <td>0</td>\n",
       "      <td>0.469</td>\n",
       "      <td>6.421</td>\n",
       "      <td>78.9</td>\n",
       "      <td>4.9671</td>\n",
       "      <td>2</td>\n",
       "      <td>242</td>\n",
       "      <td>17.8</td>\n",
       "      <td>396.90</td>\n",
       "      <td>9.14</td>\n",
       "      <td>21.6</td>\n",
       "    </tr>\n",
       "    <tr>\n",
       "      <th>2</th>\n",
       "      <td>0.02729</td>\n",
       "      <td>0.0</td>\n",
       "      <td>7.07</td>\n",
       "      <td>0</td>\n",
       "      <td>0.469</td>\n",
       "      <td>7.185</td>\n",
       "      <td>61.1</td>\n",
       "      <td>4.9671</td>\n",
       "      <td>2</td>\n",
       "      <td>242</td>\n",
       "      <td>17.8</td>\n",
       "      <td>392.83</td>\n",
       "      <td>4.03</td>\n",
       "      <td>34.7</td>\n",
       "    </tr>\n",
       "    <tr>\n",
       "      <th>3</th>\n",
       "      <td>0.03237</td>\n",
       "      <td>0.0</td>\n",
       "      <td>2.18</td>\n",
       "      <td>0</td>\n",
       "      <td>0.458</td>\n",
       "      <td>6.998</td>\n",
       "      <td>45.8</td>\n",
       "      <td>6.0622</td>\n",
       "      <td>3</td>\n",
       "      <td>222</td>\n",
       "      <td>18.7</td>\n",
       "      <td>394.63</td>\n",
       "      <td>2.94</td>\n",
       "      <td>33.4</td>\n",
       "    </tr>\n",
       "    <tr>\n",
       "      <th>4</th>\n",
       "      <td>0.06905</td>\n",
       "      <td>0.0</td>\n",
       "      <td>2.18</td>\n",
       "      <td>0</td>\n",
       "      <td>0.458</td>\n",
       "      <td>7.147</td>\n",
       "      <td>54.2</td>\n",
       "      <td>6.0622</td>\n",
       "      <td>3</td>\n",
       "      <td>222</td>\n",
       "      <td>18.7</td>\n",
       "      <td>396.90</td>\n",
       "      <td>5.33</td>\n",
       "      <td>36.2</td>\n",
       "    </tr>\n",
       "  </tbody>\n",
       "</table>\n",
       "</div>"
      ],
      "text/plain": [
       "0     CRIM    ZN  INDUS  CHAS    NOX     RM   AGE     DIS  RAD  TAX  PTRATIO  \\\n",
       "0  0.00632  18.0   2.31     0  0.538  6.575  65.2  4.0900    1  296     15.3   \n",
       "1  0.02731   0.0   7.07     0  0.469  6.421  78.9  4.9671    2  242     17.8   \n",
       "2  0.02729   0.0   7.07     0  0.469  7.185  61.1  4.9671    2  242     17.8   \n",
       "3  0.03237   0.0   2.18     0  0.458  6.998  45.8  6.0622    3  222     18.7   \n",
       "4  0.06905   0.0   2.18     0  0.458  7.147  54.2  6.0622    3  222     18.7   \n",
       "\n",
       "0       B  LSTAT  MEDV  \n",
       "0  396.90   4.98  24.0  \n",
       "1  396.90   9.14  21.6  \n",
       "2  392.83   4.03  34.7  \n",
       "3  394.63   2.94  33.4  \n",
       "4  396.90   5.33  36.2  "
      ]
     },
     "execution_count": 26,
     "metadata": {},
     "output_type": "execute_result"
    }
   ],
   "source": [
    "boston_df.head()"
   ]
  },
  {
   "cell_type": "code",
   "execution_count": 27,
   "metadata": {
    "colab": {
     "base_uri": "https://localhost:8080/",
     "height": 300
    },
    "id": "Pn3zrEDGwIrf",
    "outputId": "93637b60-e56f-4526-c377-d9fe2a53801c"
   },
   "outputs": [
    {
     "data": {
      "text/html": [
       "<div>\n",
       "<style scoped>\n",
       "    .dataframe tbody tr th:only-of-type {\n",
       "        vertical-align: middle;\n",
       "    }\n",
       "\n",
       "    .dataframe tbody tr th {\n",
       "        vertical-align: top;\n",
       "    }\n",
       "\n",
       "    .dataframe thead th {\n",
       "        text-align: right;\n",
       "    }\n",
       "</style>\n",
       "<table border=\"1\" class=\"dataframe\">\n",
       "  <thead>\n",
       "    <tr style=\"text-align: right;\">\n",
       "      <th></th>\n",
       "      <th>CRIM</th>\n",
       "      <th>ZN</th>\n",
       "      <th>INDUS</th>\n",
       "      <th>CHAS</th>\n",
       "      <th>NOX</th>\n",
       "      <th>RM</th>\n",
       "      <th>AGE</th>\n",
       "      <th>DIS</th>\n",
       "      <th>RAD</th>\n",
       "      <th>TAX</th>\n",
       "      <th>PTRATIO</th>\n",
       "      <th>B</th>\n",
       "      <th>LSTAT</th>\n",
       "      <th>MEDV</th>\n",
       "    </tr>\n",
       "  </thead>\n",
       "  <tbody>\n",
       "    <tr>\n",
       "      <th>count</th>\n",
       "      <td>506.000000</td>\n",
       "      <td>506.000000</td>\n",
       "      <td>506.000000</td>\n",
       "      <td>506.000000</td>\n",
       "      <td>506.000000</td>\n",
       "      <td>506.000000</td>\n",
       "      <td>506.000000</td>\n",
       "      <td>506.000000</td>\n",
       "      <td>506.000000</td>\n",
       "      <td>506.000000</td>\n",
       "      <td>506.000000</td>\n",
       "      <td>506.000000</td>\n",
       "      <td>506.000000</td>\n",
       "      <td>506.000000</td>\n",
       "    </tr>\n",
       "    <tr>\n",
       "      <th>mean</th>\n",
       "      <td>3.613524</td>\n",
       "      <td>11.363636</td>\n",
       "      <td>11.136779</td>\n",
       "      <td>0.069170</td>\n",
       "      <td>0.554695</td>\n",
       "      <td>6.284634</td>\n",
       "      <td>68.574901</td>\n",
       "      <td>3.795043</td>\n",
       "      <td>9.549407</td>\n",
       "      <td>408.237154</td>\n",
       "      <td>18.455534</td>\n",
       "      <td>356.674032</td>\n",
       "      <td>12.653063</td>\n",
       "      <td>22.532806</td>\n",
       "    </tr>\n",
       "    <tr>\n",
       "      <th>std</th>\n",
       "      <td>8.601545</td>\n",
       "      <td>23.322453</td>\n",
       "      <td>6.860353</td>\n",
       "      <td>0.253994</td>\n",
       "      <td>0.115878</td>\n",
       "      <td>0.702617</td>\n",
       "      <td>28.148861</td>\n",
       "      <td>2.105710</td>\n",
       "      <td>8.707259</td>\n",
       "      <td>168.537116</td>\n",
       "      <td>2.164946</td>\n",
       "      <td>91.294864</td>\n",
       "      <td>7.141062</td>\n",
       "      <td>9.197104</td>\n",
       "    </tr>\n",
       "    <tr>\n",
       "      <th>min</th>\n",
       "      <td>0.006320</td>\n",
       "      <td>0.000000</td>\n",
       "      <td>0.460000</td>\n",
       "      <td>0.000000</td>\n",
       "      <td>0.385000</td>\n",
       "      <td>3.561000</td>\n",
       "      <td>2.900000</td>\n",
       "      <td>1.129600</td>\n",
       "      <td>1.000000</td>\n",
       "      <td>187.000000</td>\n",
       "      <td>12.600000</td>\n",
       "      <td>0.320000</td>\n",
       "      <td>1.730000</td>\n",
       "      <td>5.000000</td>\n",
       "    </tr>\n",
       "    <tr>\n",
       "      <th>25%</th>\n",
       "      <td>0.082045</td>\n",
       "      <td>0.000000</td>\n",
       "      <td>5.190000</td>\n",
       "      <td>0.000000</td>\n",
       "      <td>0.449000</td>\n",
       "      <td>5.885500</td>\n",
       "      <td>45.025000</td>\n",
       "      <td>2.100175</td>\n",
       "      <td>4.000000</td>\n",
       "      <td>279.000000</td>\n",
       "      <td>17.400000</td>\n",
       "      <td>375.377500</td>\n",
       "      <td>6.950000</td>\n",
       "      <td>17.025000</td>\n",
       "    </tr>\n",
       "    <tr>\n",
       "      <th>50%</th>\n",
       "      <td>0.256510</td>\n",
       "      <td>0.000000</td>\n",
       "      <td>9.690000</td>\n",
       "      <td>0.000000</td>\n",
       "      <td>0.538000</td>\n",
       "      <td>6.208500</td>\n",
       "      <td>77.500000</td>\n",
       "      <td>3.207450</td>\n",
       "      <td>5.000000</td>\n",
       "      <td>330.000000</td>\n",
       "      <td>19.050000</td>\n",
       "      <td>391.440000</td>\n",
       "      <td>11.360000</td>\n",
       "      <td>21.200000</td>\n",
       "    </tr>\n",
       "    <tr>\n",
       "      <th>75%</th>\n",
       "      <td>3.677083</td>\n",
       "      <td>12.500000</td>\n",
       "      <td>18.100000</td>\n",
       "      <td>0.000000</td>\n",
       "      <td>0.624000</td>\n",
       "      <td>6.623500</td>\n",
       "      <td>94.075000</td>\n",
       "      <td>5.188425</td>\n",
       "      <td>24.000000</td>\n",
       "      <td>666.000000</td>\n",
       "      <td>20.200000</td>\n",
       "      <td>396.225000</td>\n",
       "      <td>16.955000</td>\n",
       "      <td>25.000000</td>\n",
       "    </tr>\n",
       "    <tr>\n",
       "      <th>max</th>\n",
       "      <td>88.976200</td>\n",
       "      <td>100.000000</td>\n",
       "      <td>27.740000</td>\n",
       "      <td>1.000000</td>\n",
       "      <td>0.871000</td>\n",
       "      <td>8.780000</td>\n",
       "      <td>100.000000</td>\n",
       "      <td>12.126500</td>\n",
       "      <td>24.000000</td>\n",
       "      <td>711.000000</td>\n",
       "      <td>22.000000</td>\n",
       "      <td>396.900000</td>\n",
       "      <td>37.970000</td>\n",
       "      <td>50.000000</td>\n",
       "    </tr>\n",
       "  </tbody>\n",
       "</table>\n",
       "</div>"
      ],
      "text/plain": [
       "0            CRIM          ZN       INDUS        CHAS         NOX          RM  \\\n",
       "count  506.000000  506.000000  506.000000  506.000000  506.000000  506.000000   \n",
       "mean     3.613524   11.363636   11.136779    0.069170    0.554695    6.284634   \n",
       "std      8.601545   23.322453    6.860353    0.253994    0.115878    0.702617   \n",
       "min      0.006320    0.000000    0.460000    0.000000    0.385000    3.561000   \n",
       "25%      0.082045    0.000000    5.190000    0.000000    0.449000    5.885500   \n",
       "50%      0.256510    0.000000    9.690000    0.000000    0.538000    6.208500   \n",
       "75%      3.677083   12.500000   18.100000    0.000000    0.624000    6.623500   \n",
       "max     88.976200  100.000000   27.740000    1.000000    0.871000    8.780000   \n",
       "\n",
       "0             AGE         DIS         RAD         TAX     PTRATIO           B  \\\n",
       "count  506.000000  506.000000  506.000000  506.000000  506.000000  506.000000   \n",
       "mean    68.574901    3.795043    9.549407  408.237154   18.455534  356.674032   \n",
       "std     28.148861    2.105710    8.707259  168.537116    2.164946   91.294864   \n",
       "min      2.900000    1.129600    1.000000  187.000000   12.600000    0.320000   \n",
       "25%     45.025000    2.100175    4.000000  279.000000   17.400000  375.377500   \n",
       "50%     77.500000    3.207450    5.000000  330.000000   19.050000  391.440000   \n",
       "75%     94.075000    5.188425   24.000000  666.000000   20.200000  396.225000   \n",
       "max    100.000000   12.126500   24.000000  711.000000   22.000000  396.900000   \n",
       "\n",
       "0           LSTAT        MEDV  \n",
       "count  506.000000  506.000000  \n",
       "mean    12.653063   22.532806  \n",
       "std      7.141062    9.197104  \n",
       "min      1.730000    5.000000  \n",
       "25%      6.950000   17.025000  \n",
       "50%     11.360000   21.200000  \n",
       "75%     16.955000   25.000000  \n",
       "max     37.970000   50.000000  "
      ]
     },
     "execution_count": 27,
     "metadata": {},
     "output_type": "execute_result"
    }
   ],
   "source": [
    "boston_df.describe()"
   ]
  },
  {
   "cell_type": "markdown",
   "metadata": {
    "id": "or4su7Qlwpc9"
   },
   "source": [
    "## Cách 1: Xác định ngoại lại bằng phương pháp trực quan hoá"
   ]
  },
  {
   "cell_type": "code",
   "execution_count": 28,
   "metadata": {
    "colab": {
     "base_uri": "https://localhost:8080/",
     "height": 448
    },
    "id": "JLTRiLbLwtjt",
    "outputId": "9bc42920-2713-4444-bb8b-bd0fc04f3165"
   },
   "outputs": [
    {
     "data": {
      "text/plain": [
       "<Axes: ylabel='DIS'>"
      ]
     },
     "execution_count": 28,
     "metadata": {},
     "output_type": "execute_result"
    },
    {
     "data": {
      "image/png": "[encoded data removed]",
      "text/plain": [
       "<Figure size 640x480 with 1 Axes>"
      ]
     },
     "metadata": {},
     "output_type": "display_data"
    }
   ],
   "source": [
    "import seaborn as sns  # import thư viện seaborn để vẽ biểu đồ\n",
    "sns.boxplot(boston_df['DIS'])  # vẽ box plot cho dữ liệu ở cột CRIM"
   ]
  },
  {
   "cell_type": "code",
   "execution_count": 29,
   "metadata": {
    "id": "iNB7U3PVxhYk"
   },
   "outputs": [],
   "source": [
    "# TIỀN XỬ LÝ DỮ LIỆU\n",
    "# B0: KIỂM TRA XEM CÓ VẤN ĐỀ KHÔNG\n",
    "  # isna() -> true -> xử lý\n",
    "  # boxplot -> xử lý"
   ]
  },
  {
   "cell_type": "markdown",
   "metadata": {
    "id": "Ssq3m0_IyL6D"
   },
   "source": [
    "## Cách 2: Xác định bằng phương pháp Z-Score"
   ]
  },
  {
   "cell_type": "markdown",
   "metadata": {
    "id": "nFk729NPybgi"
   },
   "source": [
    "![image.png](data:image/png;base64,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)"
   ]
  },
  {
   "cell_type": "code",
   "execution_count": 30,
   "metadata": {
    "colab": {
     "base_uri": "https://localhost:8080/",
     "height": 1000
    },
    "id": "l5N3DBLdyRl9",
    "outputId": "6d2a5ad7-ac5f-4fe9-92a3-3a39a3e1b727"
   },
   "outputs": [
    {
     "data": {
      "text/plain": [
       "array([[<Axes: title={'center': 'CRIM'}>, <Axes: title={'center': 'ZN'}>,\n",
       "        <Axes: title={'center': 'INDUS'}>,\n",
       "        <Axes: title={'center': 'CHAS'}>],\n",
       "       [<Axes: title={'center': 'NOX'}>, <Axes: title={'center': 'RM'}>,\n",
       "        <Axes: title={'center': 'AGE'}>, <Axes: title={'center': 'DIS'}>],\n",
       "       [<Axes: title={'center': 'RAD'}>, <Axes: title={'center': 'TAX'}>,\n",
       "        <Axes: title={'center': 'PTRATIO'}>,\n",
       "        <Axes: title={'center': 'B'}>],\n",
       "       [<Axes: title={'center': 'LSTAT'}>,\n",
       "        <Axes: title={'center': 'MEDV'}>, <Axes: >, <Axes: >]],\n",
       "      dtype=object)"
      ]
     },
     "execution_count": 30,
     "metadata": {},
     "output_type": "execute_result"
    },
    {
     "data": {
      "image/png": "[encoded data removed]",
      "text/plain": [
       "<Figure size 2000x1000 with 16 Axes>"
      ]
     },
     "metadata": {},
     "output_type": "display_data"
    }
   ],
   "source": [
    "# dùng histogram: biểu diễn phân bổ dữ liệu \\\n",
    "boston_df.hist(figsize=(20,10))"
   ]
  },
  {
   "cell_type": "code",
   "execution_count": 31,
   "metadata": {
    "colab": {
     "base_uri": "https://localhost:8080/",
     "height": 448
    },
    "id": "MyYdhigNyrYR",
    "outputId": "6c53b222-dd01-49e1-9cfe-1953f90af815"
   },
   "outputs": [
    {
     "data": {
      "text/plain": [
       "<Axes: >"
      ]
     },
     "execution_count": 31,
     "metadata": {},
     "output_type": "execute_result"
    },
    {
     "data": {
      "image/png": "[encoded data removed]",
      "text/plain": [
       "<Figure size 640x480 with 1 Axes>"
      ]
     },
     "metadata": {},
     "output_type": "display_data"
    }
   ],
   "source": [
    "boston_df['RM'].hist()"
   ]
  },
  {
   "cell_type": "code",
   "execution_count": 32,
   "metadata": {
    "id": "np1TxTRwzFLA"
   },
   "outputs": [],
   "source": [
    "# b1: tìm khoảng được coi là bình thường\n",
    "mean = boston_df['RM'].mean()\n",
    "std = boston_df['RM'].std()\n",
    "upper = mean + 3*std\n",
    "lower = mean - 3*std"
   ]
  },
  {
   "cell_type": "code",
   "execution_count": 33,
   "metadata": {
    "colab": {
     "base_uri": "https://localhost:8080/"
    },
    "id": "X31liQoDze6T",
    "outputId": "07f94628-02e6-4f9b-a372-833cf9381c47"
   },
   "outputs": [
    {
     "name": "stdout",
     "output_type": "stream",
     "text": [
      "6.284634387351779\n",
      "0.7026171434153233\n",
      "8.392485817597748\n",
      "4.176782957105809\n"
     ]
    }
   ],
   "source": [
    "print(mean)\n",
    "print(std)\n",
    "print(upper)\n",
    "print(lower)"
   ]
  },
  {
   "cell_type": "code",
   "execution_count": 34,
   "metadata": {
    "colab": {
     "base_uri": "https://localhost:8080/",
     "height": 300
    },
    "id": "3zJXG9ZWzPfA",
    "outputId": "17ac14e9-61eb-4733-a33f-41aebfad0b73"
   },
   "outputs": [
    {
     "data": {
      "text/html": [
       "<div>\n",
       "<style scoped>\n",
       "    .dataframe tbody tr th:only-of-type {\n",
       "        vertical-align: middle;\n",
       "    }\n",
       "\n",
       "    .dataframe tbody tr th {\n",
       "        vertical-align: top;\n",
       "    }\n",
       "\n",
       "    .dataframe thead th {\n",
       "        text-align: right;\n",
       "    }\n",
       "</style>\n",
       "<table border=\"1\" class=\"dataframe\">\n",
       "  <thead>\n",
       "    <tr style=\"text-align: right;\">\n",
       "      <th></th>\n",
       "      <th>RM</th>\n",
       "    </tr>\n",
       "  </thead>\n",
       "  <tbody>\n",
       "    <tr>\n",
       "      <th>225</th>\n",
       "      <td>8.725</td>\n",
       "    </tr>\n",
       "    <tr>\n",
       "      <th>257</th>\n",
       "      <td>8.704</td>\n",
       "    </tr>\n",
       "    <tr>\n",
       "      <th>262</th>\n",
       "      <td>8.398</td>\n",
       "    </tr>\n",
       "    <tr>\n",
       "      <th>364</th>\n",
       "      <td>8.780</td>\n",
       "    </tr>\n",
       "    <tr>\n",
       "      <th>365</th>\n",
       "      <td>3.561</td>\n",
       "    </tr>\n",
       "    <tr>\n",
       "      <th>367</th>\n",
       "      <td>3.863</td>\n",
       "    </tr>\n",
       "    <tr>\n",
       "      <th>374</th>\n",
       "      <td>4.138</td>\n",
       "    </tr>\n",
       "    <tr>\n",
       "      <th>406</th>\n",
       "      <td>4.138</td>\n",
       "    </tr>\n",
       "  </tbody>\n",
       "</table>\n",
       "</div>"
      ],
      "text/plain": [
       "0       RM\n",
       "225  8.725\n",
       "257  8.704\n",
       "262  8.398\n",
       "364  8.780\n",
       "365  3.561\n",
       "367  3.863\n",
       "374  4.138\n",
       "406  4.138"
      ]
     },
     "execution_count": 34,
     "metadata": {},
     "output_type": "execute_result"
    }
   ],
   "source": [
    "# b2: tìm những giá trị nằm ngoài khoảng bình thường\n",
    "boston_df[(boston_df['RM'] < lower) | (boston_df['RM'] > upper)][['RM']]"
   ]
  },
  {
   "cell_type": "code",
   "execution_count": 35,
   "metadata": {
    "colab": {
     "base_uri": "https://localhost:8080/"
    },
    "id": "VYoogGyH1YLe",
    "outputId": "e727868c-c4c5-4fda-e6d6-4139d023faff"
   },
   "outputs": [
    {
     "data": {
      "text/plain": [
       "count    506.000000\n",
       "mean       6.284634\n",
       "std        0.702617\n",
       "min        3.561000\n",
       "25%        5.885500\n",
       "50%        6.208500\n",
       "75%        6.623500\n",
       "max        8.780000\n",
       "Name: RM, dtype: float64"
      ]
     },
     "execution_count": 35,
     "metadata": {},
     "output_type": "execute_result"
    }
   ],
   "source": [
    "boston_df['RM'].describe()"
   ]
  },
  {
   "cell_type": "code",
   "execution_count": 36,
   "metadata": {
    "id": "jC2B3cOc1Z48"
   },
   "outputs": [],
   "source": [
    "# bỏ giá trị ngoại lai\n",
    "# chả làm gì\n",
    "\n",
    "# tiền xử lý dữ liệu\n",
    "# =>\n",
    "# phân tích, dự đoán, mô hình\n",
    "# => tiền xử lý -> bỏ đi"
   ]
  },
  {
   "cell_type": "markdown",
   "metadata": {
    "id": "5FUYR7BL2Pom"
   },
   "source": [
    "## Xác định giá trị ngoại lai bằng IQR"
   ]
  },
  {
   "cell_type": "code",
   "execution_count": 37,
   "metadata": {
    "id": "a9EgSgdk2Rqe"
   },
   "outputs": [],
   "source": [
    "# CRIM"
   ]
  },
  {
   "cell_type": "code",
   "execution_count": 38,
   "metadata": {
    "id": "T9pk94u72d9S"
   },
   "outputs": [],
   "source": [
    "# bước 1: tìm khoảng bình thường\n",
    "Q3 = boston_df['CRIM'].quantile(0.75)\n",
    "Q1 = boston_df['CRIM'].quantile(0.25)\n",
    "IQR = Q3 - Q1\n",
    "upper = Q3 + 1.5*IQR\n",
    "lower = Q1 - 1.5*IQR"
   ]
  },
  {
   "cell_type": "code",
   "execution_count": 39,
   "metadata": {
    "colab": {
     "base_uri": "https://localhost:8080/"
    },
    "id": "MzMAdRHf3Cwo",
    "outputId": "c6fd111b-12a7-440f-c097-b261849e5e4d"
   },
   "outputs": [
    {
     "name": "stdout",
     "output_type": "stream",
     "text": [
      "3.5950375\n",
      "9.06963875\n",
      "-5.31051125\n"
     ]
    }
   ],
   "source": [
    "print(IQR)\n",
    "print(upper)\n",
    "print(lower)"
   ]
  },
  {
   "cell_type": "code",
   "execution_count": 40,
   "metadata": {
    "colab": {
     "base_uri": "https://localhost:8080/",
     "height": 424
    },
    "id": "jvnI_pqu2km2",
    "outputId": "0753f422-9e75-4511-c242-2c4c90519b0f"
   },
   "outputs": [
    {
     "data": {
      "text/html": [
       "<div>\n",
       "<style scoped>\n",
       "    .dataframe tbody tr th:only-of-type {\n",
       "        vertical-align: middle;\n",
       "    }\n",
       "\n",
       "    .dataframe tbody tr th {\n",
       "        vertical-align: top;\n",
       "    }\n",
       "\n",
       "    .dataframe thead th {\n",
       "        text-align: right;\n",
       "    }\n",
       "</style>\n",
       "<table border=\"1\" class=\"dataframe\">\n",
       "  <thead>\n",
       "    <tr style=\"text-align: right;\">\n",
       "      <th></th>\n",
       "      <th>CRIM</th>\n",
       "    </tr>\n",
       "  </thead>\n",
       "  <tbody>\n",
       "    <tr>\n",
       "      <th>367</th>\n",
       "      <td>13.5222</td>\n",
       "    </tr>\n",
       "    <tr>\n",
       "      <th>371</th>\n",
       "      <td>9.2323</td>\n",
       "    </tr>\n",
       "    <tr>\n",
       "      <th>373</th>\n",
       "      <td>11.1081</td>\n",
       "    </tr>\n",
       "    <tr>\n",
       "      <th>374</th>\n",
       "      <td>18.4982</td>\n",
       "    </tr>\n",
       "    <tr>\n",
       "      <th>375</th>\n",
       "      <td>19.6091</td>\n",
       "    </tr>\n",
       "    <tr>\n",
       "      <th>...</th>\n",
       "      <td>...</td>\n",
       "    </tr>\n",
       "    <tr>\n",
       "      <th>468</th>\n",
       "      <td>15.5757</td>\n",
       "    </tr>\n",
       "    <tr>\n",
       "      <th>469</th>\n",
       "      <td>13.0751</td>\n",
       "    </tr>\n",
       "    <tr>\n",
       "      <th>477</th>\n",
       "      <td>15.0234</td>\n",
       "    </tr>\n",
       "    <tr>\n",
       "      <th>478</th>\n",
       "      <td>10.2330</td>\n",
       "    </tr>\n",
       "    <tr>\n",
       "      <th>479</th>\n",
       "      <td>14.3337</td>\n",
       "    </tr>\n",
       "  </tbody>\n",
       "</table>\n",
       "<p>66 rows × 1 columns</p>\n",
       "</div>"
      ],
      "text/plain": [
       "0       CRIM\n",
       "367  13.5222\n",
       "371   9.2323\n",
       "373  11.1081\n",
       "374  18.4982\n",
       "375  19.6091\n",
       "..       ...\n",
       "468  15.5757\n",
       "469  13.0751\n",
       "477  15.0234\n",
       "478  10.2330\n",
       "479  14.3337\n",
       "\n",
       "[66 rows x 1 columns]"
      ]
     },
     "execution_count": 40,
     "metadata": {},
     "output_type": "execute_result"
    }
   ],
   "source": [
    "# bước 2: tìm giá trị nằm ngoài khoảng bình thường -> ngoại lai\n",
    "# CRIM\n",
    "boston_df[(boston_df['CRIM'] < lower) | (boston_df['CRIM'] > upper)][['CRIM']]"
   ]
  },
  {
   "cell_type": "code",
   "execution_count": 41,
   "metadata": {
    "id": "ROfLFVm230tZ"
   },
   "outputs": [],
   "source": [
    "# bỏ đi -> mất dữ liệu ở những địa điểm có tỷ lệ tội phạm cao ở thành phố boston -> .drop\n",
    "# tách dữ liệu\n",
    "  # df1: nơi không bị outlier ở crime -> tỷ lệ tội phạm nằm trong ngưỡng bình thường  -> lọc df[điều kiện]\n",
    "  # df2: nơi có outlier ở crime -> tỷ lệ tội phạm cao hẳn -> lọc df[điều kiện]"
   ]
  },
  {
   "cell_type": "code",
   "execution_count": 42,
   "metadata": {
    "id": "_XBlzSPH4jUa"
   },
   "outputs": [],
   "source": [
    "# tìm giá trị ngoại lai -> từng cột\n",
    "# nhìn từng cột -> phân tích ngoại lai ...\n",
    "\n",
    "# không nên áp cho toàn bộ bảng\n",
    "\n",
    "# chọn cột mình quan tâm -> nhỏ hơn 15 cột"
   ]
  },
  {
   "cell_type": "code",
   "execution_count": 43,
   "metadata": {
    "id": "g4sC-D0m51N0"
   },
   "outputs": [],
   "source": [
    "# Ngoại lai (Outliers)\n",
    "\n",
    "# Xác định có outlier không -> Vẽ xem có không? không\n",
    "# Có -> Tìm ra giá trị nào, ở vị trí nào, trông làm sao\n",
    "  # bước 1: tìm ra cái khoảng bình thường\n",
    "    # trung bình (normal distribution) -> độ lệch chuẩn (zscore) -> (mean - 3*std, mean + 3*std)\n",
    "    # trung vị (không normal) -> iqr -> (q1-1.5*iqr, q3+1.5*iqr)\n",
    "  # bước 2: tìm giá trị nằm ngoài khoảng bình thường\n",
    "    # hoặc nhỏ hơn mean-3*std, hoặc lớn hơn mean + 3*std\n",
    "    # hoặc nhỏ hơn q1 - 1.5*iqr, hoặc lơn hơn q3 + 1.5*iqr\n",
    "\n",
    "# Xử lý\n",
    "  # bỏ đi\n",
    "  # để yên\n",
    "  # tách thành 2 phần rồi phân tích riêng\n",
    "\n",
    "# Lưu ý: tìm outlier ở từng cột\n",
    "  # vì sao không nên áp vào toàn bộ bảng\n",
    "    # 1. mỗi cột có tỷ lệ phân bổ giá trị khác nhau\n",
    "    # 2. khoảng dữ liệu ở các cột khác nhau: thu nhập: 1 triệu - 100 triệu; tuổi: 18 - 60 tuổi (chục)\n",
    "    # -> mất thông tin\n",
    "  # lưu ý 2: chọn ra cột muốnphana tích dựa trên yêu cầu bài toán trước khi đi vào tiền xử lý..."
   ]
  },
  {
   "cell_type": "markdown",
   "metadata": {
    "id": "CI4bbTkbHjIq"
   },
   "source": [
    "# Chuẩn hoá dữ liệu"
   ]
  },
  {
   "cell_type": "markdown",
   "metadata": {
    "id": "JDlbZR5FH93n"
   },
   "source": [
    "Dự đoán: Phân nhóm, phân cụm khách hàng -> sử dụng khoảng cách giữa cách điểm dữ liệu để phân cụm\n",
    "\n",
    "Dự đoán cái gì đó -> chuẩn hoá\n",
    "\n",
    "Phân tích (Descriptive Statistics): không chuẩn hoá"
   ]
  },
  {
   "cell_type": "code",
   "execution_count": 44,
   "metadata": {
    "id": "O9hGHO4pImaP"
   },
   "outputs": [],
   "source": [
    "from sklearn.preprocessing import StandardScaler\n",
    "from sklearn.preprocessing import MinMaxScaler\n",
    "from sklearn.preprocessing import RobustScaler"
   ]
  },
  {
   "cell_type": "code",
   "execution_count": 45,
   "metadata": {
    "colab": {
     "base_uri": "https://localhost:8080/",
     "height": 448
    },
    "id": "wnuyrdufI4Rw",
    "outputId": "8e15bc27-feba-4aa3-bf46-29567818e464"
   },
   "outputs": [
    {
     "data": {
      "text/plain": [
       "<Axes: >"
      ]
     },
     "execution_count": 45,
     "metadata": {},
     "output_type": "execute_result"
    },
    {
     "data": {
      "image/png": "[encoded data removed]",
      "text/plain": [
       "<Figure size 640x480 with 1 Axes>"
      ]
     },
     "metadata": {},
     "output_type": "display_data"
    }
   ],
   "source": [
    "boston_df.boxplot()"
   ]
  },
  {
   "cell_type": "code",
   "execution_count": 46,
   "metadata": {
    "id": "7XEghhs3JSkl"
   },
   "outputs": [],
   "source": [
    "# khai báo phương pháp chuẩn hoá: StandardScaler()\n",
    "# áp phương pháp đấy vào tập dữ liệu: .fit_transform(boston_df)"
   ]
  },
  {
   "cell_type": "code",
   "execution_count": 47,
   "metadata": {
    "colab": {
     "base_uri": "https://localhost:8080/"
    },
    "id": "pZAztU0kKZR_",
    "outputId": "2df51bf9-936f-44da-b127-9a601221fcf4"
   },
   "outputs": [
    {
     "name": "stdout",
     "output_type": "stream",
     "text": [
      "<class 'pandas.core.frame.DataFrame'>\n",
      "RangeIndex: 506 entries, 0 to 505\n",
      "Data columns (total 14 columns):\n",
      " #   Column   Non-Null Count  Dtype  \n",
      "---  ------   --------------  -----  \n",
      " 0   CRIM     506 non-null    float64\n",
      " 1   ZN       506 non-null    float64\n",
      " 2   INDUS    506 non-null    float64\n",
      " 3   CHAS     506 non-null    int64  \n",
      " 4   NOX      506 non-null    float64\n",
      " 5   RM       506 non-null    float64\n",
      " 6   AGE      506 non-null    float64\n",
      " 7   DIS      506 non-null    float64\n",
      " 8   RAD      506 non-null    int64  \n",
      " 9   TAX      506 non-null    int64  \n",
      " 10  PTRATIO  506 non-null    float64\n",
      " 11  B        506 non-null    float64\n",
      " 12  LSTAT    506 non-null    float64\n",
      " 13  MEDV     506 non-null    float64\n",
      "dtypes: float64(11), int64(3)\n",
      "memory usage: 55.5 KB\n"
     ]
    }
   ],
   "source": [
    "boston_df.info()"
   ]
  },
  {
   "cell_type": "markdown",
   "metadata": {
    "id": "TKApvJuZHl-F"
   },
   "source": [
    "## Standard Scaling (Z-score Scaling)"
   ]
  },
  {
   "cell_type": "code",
   "execution_count": 48,
   "metadata": {
    "id": "jIdD6ZbzIctG"
   },
   "outputs": [],
   "source": [
    "# khai báo phương pháp\n",
    "s_scaler = StandardScaler()\n",
    "\n",
    "# áp phương pháp vào tập dữ liệu\n",
    "df_s = s_scaler.fit_transform(boston_df)"
   ]
  },
  {
   "cell_type": "code",
   "execution_count": 49,
   "metadata": {
    "colab": {
     "base_uri": "https://localhost:8080/",
     "height": 424
    },
    "id": "wC7udnPFJ1gF",
    "outputId": "8a26ce33-2f48-4d0f-a09e-0ef1d57fd2d9"
   },
   "outputs": [
    {
     "data": {
      "text/html": [
       "<div>\n",
       "<style scoped>\n",
       "    .dataframe tbody tr th:only-of-type {\n",
       "        vertical-align: middle;\n",
       "    }\n",
       "\n",
       "    .dataframe tbody tr th {\n",
       "        vertical-align: top;\n",
       "    }\n",
       "\n",
       "    .dataframe thead th {\n",
       "        text-align: right;\n",
       "    }\n",
       "</style>\n",
       "<table border=\"1\" class=\"dataframe\">\n",
       "  <thead>\n",
       "    <tr style=\"text-align: right;\">\n",
       "      <th></th>\n",
       "      <th>CRIM</th>\n",
       "      <th>ZN</th>\n",
       "      <th>INDUS</th>\n",
       "      <th>CHAS</th>\n",
       "      <th>NOX</th>\n",
       "      <th>RM</th>\n",
       "      <th>AGE</th>\n",
       "      <th>DIS</th>\n",
       "      <th>RAD</th>\n",
       "      <th>TAX</th>\n",
       "      <th>PTRATIO</th>\n",
       "      <th>B</th>\n",
       "      <th>LSTAT</th>\n",
       "      <th>MEDV</th>\n",
       "    </tr>\n",
       "  </thead>\n",
       "  <tbody>\n",
       "    <tr>\n",
       "      <th>0</th>\n",
       "      <td>-0.419782</td>\n",
       "      <td>0.284830</td>\n",
       "      <td>-1.287909</td>\n",
       "      <td>-0.272599</td>\n",
       "      <td>-0.144217</td>\n",
       "      <td>0.413672</td>\n",
       "      <td>-0.120013</td>\n",
       "      <td>0.140214</td>\n",
       "      <td>-0.982843</td>\n",
       "      <td>-0.666608</td>\n",
       "      <td>-1.459000</td>\n",
       "      <td>0.441052</td>\n",
       "      <td>-1.075562</td>\n",
       "      <td>0.159686</td>\n",
       "    </tr>\n",
       "    <tr>\n",
       "      <th>1</th>\n",
       "      <td>-0.417339</td>\n",
       "      <td>-0.487722</td>\n",
       "      <td>-0.593381</td>\n",
       "      <td>-0.272599</td>\n",
       "      <td>-0.740262</td>\n",
       "      <td>0.194274</td>\n",
       "      <td>0.367166</td>\n",
       "      <td>0.557160</td>\n",
       "      <td>-0.867883</td>\n",
       "      <td>-0.987329</td>\n",
       "      <td>-0.303094</td>\n",
       "      <td>0.441052</td>\n",
       "      <td>-0.492439</td>\n",
       "      <td>-0.101524</td>\n",
       "    </tr>\n",
       "    <tr>\n",
       "      <th>2</th>\n",
       "      <td>-0.417342</td>\n",
       "      <td>-0.487722</td>\n",
       "      <td>-0.593381</td>\n",
       "      <td>-0.272599</td>\n",
       "      <td>-0.740262</td>\n",
       "      <td>1.282714</td>\n",
       "      <td>-0.265812</td>\n",
       "      <td>0.557160</td>\n",
       "      <td>-0.867883</td>\n",
       "      <td>-0.987329</td>\n",
       "      <td>-0.303094</td>\n",
       "      <td>0.396427</td>\n",
       "      <td>-1.208727</td>\n",
       "      <td>1.324247</td>\n",
       "    </tr>\n",
       "    <tr>\n",
       "      <th>3</th>\n",
       "      <td>-0.416750</td>\n",
       "      <td>-0.487722</td>\n",
       "      <td>-1.306878</td>\n",
       "      <td>-0.272599</td>\n",
       "      <td>-0.835284</td>\n",
       "      <td>1.016303</td>\n",
       "      <td>-0.809889</td>\n",
       "      <td>1.077737</td>\n",
       "      <td>-0.752922</td>\n",
       "      <td>-1.106115</td>\n",
       "      <td>0.113032</td>\n",
       "      <td>0.416163</td>\n",
       "      <td>-1.361517</td>\n",
       "      <td>1.182758</td>\n",
       "    </tr>\n",
       "    <tr>\n",
       "      <th>4</th>\n",
       "      <td>-0.412482</td>\n",
       "      <td>-0.487722</td>\n",
       "      <td>-1.306878</td>\n",
       "      <td>-0.272599</td>\n",
       "      <td>-0.835284</td>\n",
       "      <td>1.228577</td>\n",
       "      <td>-0.511180</td>\n",
       "      <td>1.077737</td>\n",
       "      <td>-0.752922</td>\n",
       "      <td>-1.106115</td>\n",
       "      <td>0.113032</td>\n",
       "      <td>0.441052</td>\n",
       "      <td>-1.026501</td>\n",
       "      <td>1.487503</td>\n",
       "    </tr>\n",
       "    <tr>\n",
       "      <th>...</th>\n",
       "      <td>...</td>\n",
       "      <td>...</td>\n",
       "      <td>...</td>\n",
       "      <td>...</td>\n",
       "      <td>...</td>\n",
       "      <td>...</td>\n",
       "      <td>...</td>\n",
       "      <td>...</td>\n",
       "      <td>...</td>\n",
       "      <td>...</td>\n",
       "      <td>...</td>\n",
       "      <td>...</td>\n",
       "      <td>...</td>\n",
       "      <td>...</td>\n",
       "    </tr>\n",
       "    <tr>\n",
       "      <th>501</th>\n",
       "      <td>-0.413229</td>\n",
       "      <td>-0.487722</td>\n",
       "      <td>0.115738</td>\n",
       "      <td>-0.272599</td>\n",
       "      <td>0.158124</td>\n",
       "      <td>0.439316</td>\n",
       "      <td>0.018673</td>\n",
       "      <td>-0.625796</td>\n",
       "      <td>-0.982843</td>\n",
       "      <td>-0.803212</td>\n",
       "      <td>1.176466</td>\n",
       "      <td>0.387217</td>\n",
       "      <td>-0.418147</td>\n",
       "      <td>-0.014454</td>\n",
       "    </tr>\n",
       "    <tr>\n",
       "      <th>502</th>\n",
       "      <td>-0.415249</td>\n",
       "      <td>-0.487722</td>\n",
       "      <td>0.115738</td>\n",
       "      <td>-0.272599</td>\n",
       "      <td>0.158124</td>\n",
       "      <td>-0.234548</td>\n",
       "      <td>0.288933</td>\n",
       "      <td>-0.716639</td>\n",
       "      <td>-0.982843</td>\n",
       "      <td>-0.803212</td>\n",
       "      <td>1.176466</td>\n",
       "      <td>0.441052</td>\n",
       "      <td>-0.500850</td>\n",
       "      <td>-0.210362</td>\n",
       "    </tr>\n",
       "    <tr>\n",
       "      <th>503</th>\n",
       "      <td>-0.413447</td>\n",
       "      <td>-0.487722</td>\n",
       "      <td>0.115738</td>\n",
       "      <td>-0.272599</td>\n",
       "      <td>0.158124</td>\n",
       "      <td>0.984960</td>\n",
       "      <td>0.797449</td>\n",
       "      <td>-0.773684</td>\n",
       "      <td>-0.982843</td>\n",
       "      <td>-0.803212</td>\n",
       "      <td>1.176466</td>\n",
       "      <td>0.441052</td>\n",
       "      <td>-0.983048</td>\n",
       "      <td>0.148802</td>\n",
       "    </tr>\n",
       "    <tr>\n",
       "      <th>504</th>\n",
       "      <td>-0.407764</td>\n",
       "      <td>-0.487722</td>\n",
       "      <td>0.115738</td>\n",
       "      <td>-0.272599</td>\n",
       "      <td>0.158124</td>\n",
       "      <td>0.725672</td>\n",
       "      <td>0.736996</td>\n",
       "      <td>-0.668437</td>\n",
       "      <td>-0.982843</td>\n",
       "      <td>-0.803212</td>\n",
       "      <td>1.176466</td>\n",
       "      <td>0.403225</td>\n",
       "      <td>-0.865302</td>\n",
       "      <td>-0.057989</td>\n",
       "    </tr>\n",
       "    <tr>\n",
       "      <th>505</th>\n",
       "      <td>-0.415000</td>\n",
       "      <td>-0.487722</td>\n",
       "      <td>0.115738</td>\n",
       "      <td>-0.272599</td>\n",
       "      <td>0.158124</td>\n",
       "      <td>-0.362767</td>\n",
       "      <td>0.434732</td>\n",
       "      <td>-0.613246</td>\n",
       "      <td>-0.982843</td>\n",
       "      <td>-0.803212</td>\n",
       "      <td>1.176466</td>\n",
       "      <td>0.441052</td>\n",
       "      <td>-0.669058</td>\n",
       "      <td>-1.157248</td>\n",
       "    </tr>\n",
       "  </tbody>\n",
       "</table>\n",
       "<p>506 rows × 14 columns</p>\n",
       "</div>"
      ],
      "text/plain": [
       "         CRIM        ZN     INDUS      CHAS       NOX        RM       AGE  \\\n",
       "0   -0.419782  0.284830 -1.287909 -0.272599 -0.144217  0.413672 -0.120013   \n",
       "1   -0.417339 -0.487722 -0.593381 -0.272599 -0.740262  0.194274  0.367166   \n",
       "2   -0.417342 -0.487722 -0.593381 -0.272599 -0.740262  1.282714 -0.265812   \n",
       "3   -0.416750 -0.487722 -1.306878 -0.272599 -0.835284  1.016303 -0.809889   \n",
       "4   -0.412482 -0.487722 -1.306878 -0.272599 -0.835284  1.228577 -0.511180   \n",
       "..        ...       ...       ...       ...       ...       ...       ...   \n",
       "501 -0.413229 -0.487722  0.115738 -0.272599  0.158124  0.439316  0.018673   \n",
       "502 -0.415249 -0.487722  0.115738 -0.272599  0.158124 -0.234548  0.288933   \n",
       "503 -0.413447 -0.487722  0.115738 -0.272599  0.158124  0.984960  0.797449   \n",
       "504 -0.407764 -0.487722  0.115738 -0.272599  0.158124  0.725672  0.736996   \n",
       "505 -0.415000 -0.487722  0.115738 -0.272599  0.158124 -0.362767  0.434732   \n",
       "\n",
       "          DIS       RAD       TAX   PTRATIO         B     LSTAT      MEDV  \n",
       "0    0.140214 -0.982843 -0.666608 -1.459000  0.441052 -1.075562  0.159686  \n",
       "1    0.557160 -0.867883 -0.987329 -0.303094  0.441052 -0.492439 -0.101524  \n",
       "2    0.557160 -0.867883 -0.987329 -0.303094  0.396427 -1.208727  1.324247  \n",
       "3    1.077737 -0.752922 -1.106115  0.113032  0.416163 -1.361517  1.182758  \n",
       "4    1.077737 -0.752922 -1.106115  0.113032  0.441052 -1.026501  1.487503  \n",
       "..        ...       ...       ...       ...       ...       ...       ...  \n",
       "501 -0.625796 -0.982843 -0.803212  1.176466  0.387217 -0.418147 -0.014454  \n",
       "502 -0.716639 -0.982843 -0.803212  1.176466  0.441052 -0.500850 -0.210362  \n",
       "503 -0.773684 -0.982843 -0.803212  1.176466  0.441052 -0.983048  0.148802  \n",
       "504 -0.668437 -0.982843 -0.803212  1.176466  0.403225 -0.865302 -0.057989  \n",
       "505 -0.613246 -0.982843 -0.803212  1.176466  0.441052 -0.669058 -1.157248  \n",
       "\n",
       "[506 rows x 14 columns]"
      ]
     },
     "execution_count": 49,
     "metadata": {},
     "output_type": "execute_result"
    }
   ],
   "source": [
    "# đưa lại về dạng bảng\n",
    "# chỉ định tên cột\n",
    "colnames = list(boston_df.columns)\n",
    "df_s = pd.DataFrame(df_s, columns=colnames)\n",
    "df_s"
   ]
  },
  {
   "cell_type": "code",
   "execution_count": 50,
   "metadata": {
    "colab": {
     "base_uri": "https://localhost:8080/",
     "height": 448
    },
    "id": "OA2PwNmLLcgQ",
    "outputId": "7a858a23-23c3-48de-b746-f007a994affb"
   },
   "outputs": [
    {
     "data": {
      "text/plain": [
       "<Axes: >"
      ]
     },
     "execution_count": 50,
     "metadata": {},
     "output_type": "execute_result"
    },
    {
     "data": {
      "image/png": "[encoded data removed]",
      "text/plain": [
       "<Figure size 640x480 with 1 Axes>"
      ]
     },
     "metadata": {},
     "output_type": "display_data"
    }
   ],
   "source": [
    "boston_df.boxplot()"
   ]
  },
  {
   "cell_type": "code",
   "execution_count": 51,
   "metadata": {
    "colab": {
     "base_uri": "https://localhost:8080/",
     "height": 448
    },
    "id": "TjdaRsnsK5B0",
    "outputId": "c6c73c06-0a3c-436b-eaca-c7245e0fd733"
   },
   "outputs": [
    {
     "data": {
      "text/plain": [
       "<Axes: >"
      ]
     },
     "execution_count": 51,
     "metadata": {},
     "output_type": "execute_result"
    },
    {
     "data": {
      "image/png": "[encoded data removed]",
      "text/plain": [
       "<Figure size 640x480 with 1 Axes>"
      ]
     },
     "metadata": {},
     "output_type": "display_data"
    }
   ],
   "source": [
    "df_s.boxplot()"
   ]
  },
  {
   "cell_type": "markdown",
   "metadata": {
    "id": "NvmxHZaFHpda"
   },
   "source": [
    "## Min Max Scaling"
   ]
  },
  {
   "cell_type": "code",
   "execution_count": 52,
   "metadata": {
    "colab": {
     "base_uri": "https://localhost:8080/",
     "height": 424
    },
    "id": "oGXxnt_bNJlf",
    "outputId": "92f0ed63-8fa9-4d7b-fca5-e12bf641a910"
   },
   "outputs": [
    {
     "data": {
      "text/html": [
       "<div>\n",
       "<style scoped>\n",
       "    .dataframe tbody tr th:only-of-type {\n",
       "        vertical-align: middle;\n",
       "    }\n",
       "\n",
       "    .dataframe tbody tr th {\n",
       "        vertical-align: top;\n",
       "    }\n",
       "\n",
       "    .dataframe thead th {\n",
       "        text-align: right;\n",
       "    }\n",
       "</style>\n",
       "<table border=\"1\" class=\"dataframe\">\n",
       "  <thead>\n",
       "    <tr style=\"text-align: right;\">\n",
       "      <th></th>\n",
       "      <th>CRIM</th>\n",
       "      <th>ZN</th>\n",
       "      <th>INDUS</th>\n",
       "      <th>CHAS</th>\n",
       "      <th>NOX</th>\n",
       "      <th>RM</th>\n",
       "      <th>AGE</th>\n",
       "      <th>DIS</th>\n",
       "      <th>RAD</th>\n",
       "      <th>TAX</th>\n",
       "      <th>PTRATIO</th>\n",
       "      <th>B</th>\n",
       "      <th>LSTAT</th>\n",
       "      <th>MEDV</th>\n",
       "    </tr>\n",
       "  </thead>\n",
       "  <tbody>\n",
       "    <tr>\n",
       "      <th>0</th>\n",
       "      <td>0.000000</td>\n",
       "      <td>0.18</td>\n",
       "      <td>0.067815</td>\n",
       "      <td>0.0</td>\n",
       "      <td>0.314815</td>\n",
       "      <td>0.577505</td>\n",
       "      <td>0.641607</td>\n",
       "      <td>0.269203</td>\n",
       "      <td>0.000000</td>\n",
       "      <td>0.208015</td>\n",
       "      <td>0.287234</td>\n",
       "      <td>1.000000</td>\n",
       "      <td>0.089680</td>\n",
       "      <td>0.422222</td>\n",
       "    </tr>\n",
       "    <tr>\n",
       "      <th>1</th>\n",
       "      <td>0.000236</td>\n",
       "      <td>0.00</td>\n",
       "      <td>0.242302</td>\n",
       "      <td>0.0</td>\n",
       "      <td>0.172840</td>\n",
       "      <td>0.547998</td>\n",
       "      <td>0.782698</td>\n",
       "      <td>0.348962</td>\n",
       "      <td>0.043478</td>\n",
       "      <td>0.104962</td>\n",
       "      <td>0.553191</td>\n",
       "      <td>1.000000</td>\n",
       "      <td>0.204470</td>\n",
       "      <td>0.368889</td>\n",
       "    </tr>\n",
       "    <tr>\n",
       "      <th>2</th>\n",
       "      <td>0.000236</td>\n",
       "      <td>0.00</td>\n",
       "      <td>0.242302</td>\n",
       "      <td>0.0</td>\n",
       "      <td>0.172840</td>\n",
       "      <td>0.694386</td>\n",
       "      <td>0.599382</td>\n",
       "      <td>0.348962</td>\n",
       "      <td>0.043478</td>\n",
       "      <td>0.104962</td>\n",
       "      <td>0.553191</td>\n",
       "      <td>0.989737</td>\n",
       "      <td>0.063466</td>\n",
       "      <td>0.660000</td>\n",
       "    </tr>\n",
       "    <tr>\n",
       "      <th>3</th>\n",
       "      <td>0.000293</td>\n",
       "      <td>0.00</td>\n",
       "      <td>0.063050</td>\n",
       "      <td>0.0</td>\n",
       "      <td>0.150206</td>\n",
       "      <td>0.658555</td>\n",
       "      <td>0.441813</td>\n",
       "      <td>0.448545</td>\n",
       "      <td>0.086957</td>\n",
       "      <td>0.066794</td>\n",
       "      <td>0.648936</td>\n",
       "      <td>0.994276</td>\n",
       "      <td>0.033389</td>\n",
       "      <td>0.631111</td>\n",
       "    </tr>\n",
       "    <tr>\n",
       "      <th>4</th>\n",
       "      <td>0.000705</td>\n",
       "      <td>0.00</td>\n",
       "      <td>0.063050</td>\n",
       "      <td>0.0</td>\n",
       "      <td>0.150206</td>\n",
       "      <td>0.687105</td>\n",
       "      <td>0.528321</td>\n",
       "      <td>0.448545</td>\n",
       "      <td>0.086957</td>\n",
       "      <td>0.066794</td>\n",
       "      <td>0.648936</td>\n",
       "      <td>1.000000</td>\n",
       "      <td>0.099338</td>\n",
       "      <td>0.693333</td>\n",
       "    </tr>\n",
       "    <tr>\n",
       "      <th>...</th>\n",
       "      <td>...</td>\n",
       "      <td>...</td>\n",
       "      <td>...</td>\n",
       "      <td>...</td>\n",
       "      <td>...</td>\n",
       "      <td>...</td>\n",
       "      <td>...</td>\n",
       "      <td>...</td>\n",
       "      <td>...</td>\n",
       "      <td>...</td>\n",
       "      <td>...</td>\n",
       "      <td>...</td>\n",
       "      <td>...</td>\n",
       "      <td>...</td>\n",
       "    </tr>\n",
       "    <tr>\n",
       "      <th>501</th>\n",
       "      <td>0.000633</td>\n",
       "      <td>0.00</td>\n",
       "      <td>0.420455</td>\n",
       "      <td>0.0</td>\n",
       "      <td>0.386831</td>\n",
       "      <td>0.580954</td>\n",
       "      <td>0.681771</td>\n",
       "      <td>0.122671</td>\n",
       "      <td>0.000000</td>\n",
       "      <td>0.164122</td>\n",
       "      <td>0.893617</td>\n",
       "      <td>0.987619</td>\n",
       "      <td>0.219095</td>\n",
       "      <td>0.386667</td>\n",
       "    </tr>\n",
       "    <tr>\n",
       "      <th>502</th>\n",
       "      <td>0.000438</td>\n",
       "      <td>0.00</td>\n",
       "      <td>0.420455</td>\n",
       "      <td>0.0</td>\n",
       "      <td>0.386831</td>\n",
       "      <td>0.490324</td>\n",
       "      <td>0.760041</td>\n",
       "      <td>0.105293</td>\n",
       "      <td>0.000000</td>\n",
       "      <td>0.164122</td>\n",
       "      <td>0.893617</td>\n",
       "      <td>1.000000</td>\n",
       "      <td>0.202815</td>\n",
       "      <td>0.346667</td>\n",
       "    </tr>\n",
       "    <tr>\n",
       "      <th>503</th>\n",
       "      <td>0.000612</td>\n",
       "      <td>0.00</td>\n",
       "      <td>0.420455</td>\n",
       "      <td>0.0</td>\n",
       "      <td>0.386831</td>\n",
       "      <td>0.654340</td>\n",
       "      <td>0.907312</td>\n",
       "      <td>0.094381</td>\n",
       "      <td>0.000000</td>\n",
       "      <td>0.164122</td>\n",
       "      <td>0.893617</td>\n",
       "      <td>1.000000</td>\n",
       "      <td>0.107892</td>\n",
       "      <td>0.420000</td>\n",
       "    </tr>\n",
       "    <tr>\n",
       "      <th>504</th>\n",
       "      <td>0.001161</td>\n",
       "      <td>0.00</td>\n",
       "      <td>0.420455</td>\n",
       "      <td>0.0</td>\n",
       "      <td>0.386831</td>\n",
       "      <td>0.619467</td>\n",
       "      <td>0.889804</td>\n",
       "      <td>0.114514</td>\n",
       "      <td>0.000000</td>\n",
       "      <td>0.164122</td>\n",
       "      <td>0.893617</td>\n",
       "      <td>0.991301</td>\n",
       "      <td>0.131071</td>\n",
       "      <td>0.377778</td>\n",
       "    </tr>\n",
       "    <tr>\n",
       "      <th>505</th>\n",
       "      <td>0.000462</td>\n",
       "      <td>0.00</td>\n",
       "      <td>0.420455</td>\n",
       "      <td>0.0</td>\n",
       "      <td>0.386831</td>\n",
       "      <td>0.473079</td>\n",
       "      <td>0.802266</td>\n",
       "      <td>0.125072</td>\n",
       "      <td>0.000000</td>\n",
       "      <td>0.164122</td>\n",
       "      <td>0.893617</td>\n",
       "      <td>1.000000</td>\n",
       "      <td>0.169702</td>\n",
       "      <td>0.153333</td>\n",
       "    </tr>\n",
       "  </tbody>\n",
       "</table>\n",
       "<p>506 rows × 14 columns</p>\n",
       "</div>"
      ],
      "text/plain": [
       "         CRIM    ZN     INDUS  CHAS       NOX        RM       AGE       DIS  \\\n",
       "0    0.000000  0.18  0.067815   0.0  0.314815  0.577505  0.641607  0.269203   \n",
       "1    0.000236  0.00  0.242302   0.0  0.172840  0.547998  0.782698  0.348962   \n",
       "2    0.000236  0.00  0.242302   0.0  0.172840  0.694386  0.599382  0.348962   \n",
       "3    0.000293  0.00  0.063050   0.0  0.150206  0.658555  0.441813  0.448545   \n",
       "4    0.000705  0.00  0.063050   0.0  0.150206  0.687105  0.528321  0.448545   \n",
       "..        ...   ...       ...   ...       ...       ...       ...       ...   \n",
       "501  0.000633  0.00  0.420455   0.0  0.386831  0.580954  0.681771  0.122671   \n",
       "502  0.000438  0.00  0.420455   0.0  0.386831  0.490324  0.760041  0.105293   \n",
       "503  0.000612  0.00  0.420455   0.0  0.386831  0.654340  0.907312  0.094381   \n",
       "504  0.001161  0.00  0.420455   0.0  0.386831  0.619467  0.889804  0.114514   \n",
       "505  0.000462  0.00  0.420455   0.0  0.386831  0.473079  0.802266  0.125072   \n",
       "\n",
       "          RAD       TAX   PTRATIO         B     LSTAT      MEDV  \n",
       "0    0.000000  0.208015  0.287234  1.000000  0.089680  0.422222  \n",
       "1    0.043478  0.104962  0.553191  1.000000  0.204470  0.368889  \n",
       "2    0.043478  0.104962  0.553191  0.989737  0.063466  0.660000  \n",
       "3    0.086957  0.066794  0.648936  0.994276  0.033389  0.631111  \n",
       "4    0.086957  0.066794  0.648936  1.000000  0.099338  0.693333  \n",
       "..        ...       ...       ...       ...       ...       ...  \n",
       "501  0.000000  0.164122  0.893617  0.987619  0.219095  0.386667  \n",
       "502  0.000000  0.164122  0.893617  1.000000  0.202815  0.346667  \n",
       "503  0.000000  0.164122  0.893617  1.000000  0.107892  0.420000  \n",
       "504  0.000000  0.164122  0.893617  0.991301  0.131071  0.377778  \n",
       "505  0.000000  0.164122  0.893617  1.000000  0.169702  0.153333  \n",
       "\n",
       "[506 rows x 14 columns]"
      ]
     },
     "execution_count": 52,
     "metadata": {},
     "output_type": "execute_result"
    }
   ],
   "source": [
    "# khai báo phương pháp\n",
    "minmax_scaler = MinMaxScaler()\n",
    "\n",
    "# áp phong pháp vão tâp dû liêu\n",
    "df_m = minmax_scaler.fit_transform(boston_df)\n",
    "\n",
    "# đưa lại về dạng bảng\n",
    "df_m = pd.DataFrame(df_m, columns=colnames)\n",
    "df_m"
   ]
  },
  {
   "cell_type": "code",
   "execution_count": 53,
   "metadata": {
    "colab": {
     "base_uri": "https://localhost:8080/",
     "height": 448
    },
    "id": "5A-J5s-lNNZP",
    "outputId": "5544e0f4-ca73-495a-b83a-eaa4327abfbc"
   },
   "outputs": [
    {
     "data": {
      "text/plain": [
       "<Axes: >"
      ]
     },
     "execution_count": 53,
     "metadata": {},
     "output_type": "execute_result"
    },
    {
     "data": {
      "image/png": "[encoded data removed]",
      "text/plain": [
       "<Figure size 640x480 with 1 Axes>"
      ]
     },
     "metadata": {},
     "output_type": "display_data"
    }
   ],
   "source": [
    "df_m.boxplot()"
   ]
  },
  {
   "cell_type": "markdown",
   "metadata": {
    "id": "wpJEUrbKHrQv"
   },
   "source": [
    "## Robust Scaling"
   ]
  },
  {
   "cell_type": "code",
   "execution_count": 54,
   "metadata": {
    "colab": {
     "base_uri": "https://localhost:8080/",
     "height": 424
    },
    "id": "O6_7NLezHlZl",
    "outputId": "db913a6a-07a5-4387-ab35-9907aec9c7dc"
   },
   "outputs": [
    {
     "data": {
      "text/html": [
       "<div>\n",
       "<style scoped>\n",
       "    .dataframe tbody tr th:only-of-type {\n",
       "        vertical-align: middle;\n",
       "    }\n",
       "\n",
       "    .dataframe tbody tr th {\n",
       "        vertical-align: top;\n",
       "    }\n",
       "\n",
       "    .dataframe thead th {\n",
       "        text-align: right;\n",
       "    }\n",
       "</style>\n",
       "<table border=\"1\" class=\"dataframe\">\n",
       "  <thead>\n",
       "    <tr style=\"text-align: right;\">\n",
       "      <th></th>\n",
       "      <th>CRIM</th>\n",
       "      <th>ZN</th>\n",
       "      <th>INDUS</th>\n",
       "      <th>CHAS</th>\n",
       "      <th>NOX</th>\n",
       "      <th>RM</th>\n",
       "      <th>AGE</th>\n",
       "      <th>DIS</th>\n",
       "      <th>RAD</th>\n",
       "      <th>TAX</th>\n",
       "      <th>PTRATIO</th>\n",
       "      <th>B</th>\n",
       "      <th>LSTAT</th>\n",
       "      <th>MEDV</th>\n",
       "    </tr>\n",
       "  </thead>\n",
       "  <tbody>\n",
       "    <tr>\n",
       "      <th>0</th>\n",
       "      <td>-0.069593</td>\n",
       "      <td>1.44</td>\n",
       "      <td>-0.571650</td>\n",
       "      <td>0.0</td>\n",
       "      <td>0.000000</td>\n",
       "      <td>0.496612</td>\n",
       "      <td>-0.250765</td>\n",
       "      <td>0.285777</td>\n",
       "      <td>-0.20</td>\n",
       "      <td>-0.087855</td>\n",
       "      <td>-1.339286</td>\n",
       "      <td>0.261902</td>\n",
       "      <td>-0.637681</td>\n",
       "      <td>0.351097</td>\n",
       "    </tr>\n",
       "    <tr>\n",
       "      <th>1</th>\n",
       "      <td>-0.063755</td>\n",
       "      <td>0.00</td>\n",
       "      <td>-0.202943</td>\n",
       "      <td>0.0</td>\n",
       "      <td>-0.394286</td>\n",
       "      <td>0.287940</td>\n",
       "      <td>0.028542</td>\n",
       "      <td>0.569789</td>\n",
       "      <td>-0.15</td>\n",
       "      <td>-0.227390</td>\n",
       "      <td>-0.446429</td>\n",
       "      <td>0.261902</td>\n",
       "      <td>-0.221889</td>\n",
       "      <td>0.050157</td>\n",
       "    </tr>\n",
       "    <tr>\n",
       "      <th>2</th>\n",
       "      <td>-0.063760</td>\n",
       "      <td>0.00</td>\n",
       "      <td>-0.202943</td>\n",
       "      <td>0.0</td>\n",
       "      <td>-0.394286</td>\n",
       "      <td>1.323171</td>\n",
       "      <td>-0.334353</td>\n",
       "      <td>0.569789</td>\n",
       "      <td>-0.15</td>\n",
       "      <td>-0.227390</td>\n",
       "      <td>-0.446429</td>\n",
       "      <td>0.066675</td>\n",
       "      <td>-0.732634</td>\n",
       "      <td>1.692790</td>\n",
       "    </tr>\n",
       "    <tr>\n",
       "      <th>3</th>\n",
       "      <td>-0.062347</td>\n",
       "      <td>0.00</td>\n",
       "      <td>-0.581720</td>\n",
       "      <td>0.0</td>\n",
       "      <td>-0.457143</td>\n",
       "      <td>1.069783</td>\n",
       "      <td>-0.646279</td>\n",
       "      <td>0.924391</td>\n",
       "      <td>-0.10</td>\n",
       "      <td>-0.279070</td>\n",
       "      <td>-0.125000</td>\n",
       "      <td>0.153016</td>\n",
       "      <td>-0.841579</td>\n",
       "      <td>1.529781</td>\n",
       "    </tr>\n",
       "    <tr>\n",
       "      <th>4</th>\n",
       "      <td>-0.052144</td>\n",
       "      <td>0.00</td>\n",
       "      <td>-0.581720</td>\n",
       "      <td>0.0</td>\n",
       "      <td>-0.457143</td>\n",
       "      <td>1.271680</td>\n",
       "      <td>-0.475025</td>\n",
       "      <td>0.924391</td>\n",
       "      <td>-0.10</td>\n",
       "      <td>-0.279070</td>\n",
       "      <td>-0.125000</td>\n",
       "      <td>0.261902</td>\n",
       "      <td>-0.602699</td>\n",
       "      <td>1.880878</td>\n",
       "    </tr>\n",
       "    <tr>\n",
       "      <th>...</th>\n",
       "      <td>...</td>\n",
       "      <td>...</td>\n",
       "      <td>...</td>\n",
       "      <td>...</td>\n",
       "      <td>...</td>\n",
       "      <td>...</td>\n",
       "      <td>...</td>\n",
       "      <td>...</td>\n",
       "      <td>...</td>\n",
       "      <td>...</td>\n",
       "      <td>...</td>\n",
       "      <td>...</td>\n",
       "      <td>...</td>\n",
       "      <td>...</td>\n",
       "    </tr>\n",
       "    <tr>\n",
       "      <th>501</th>\n",
       "      <td>-0.053930</td>\n",
       "      <td>0.00</td>\n",
       "      <td>0.173509</td>\n",
       "      <td>0.0</td>\n",
       "      <td>0.200000</td>\n",
       "      <td>0.521003</td>\n",
       "      <td>-0.171254</td>\n",
       "      <td>-0.236007</td>\n",
       "      <td>-0.20</td>\n",
       "      <td>-0.147287</td>\n",
       "      <td>0.696429</td>\n",
       "      <td>0.026382</td>\n",
       "      <td>-0.168916</td>\n",
       "      <td>0.150470</td>\n",
       "    </tr>\n",
       "    <tr>\n",
       "      <th>502</th>\n",
       "      <td>-0.058759</td>\n",
       "      <td>0.00</td>\n",
       "      <td>0.173509</td>\n",
       "      <td>0.0</td>\n",
       "      <td>0.200000</td>\n",
       "      <td>-0.119919</td>\n",
       "      <td>-0.016310</td>\n",
       "      <td>-0.297887</td>\n",
       "      <td>-0.20</td>\n",
       "      <td>-0.147287</td>\n",
       "      <td>0.696429</td>\n",
       "      <td>0.261902</td>\n",
       "      <td>-0.227886</td>\n",
       "      <td>-0.075235</td>\n",
       "    </tr>\n",
       "    <tr>\n",
       "      <th>503</th>\n",
       "      <td>-0.054450</td>\n",
       "      <td>0.00</td>\n",
       "      <td>0.173509</td>\n",
       "      <td>0.0</td>\n",
       "      <td>0.200000</td>\n",
       "      <td>1.039973</td>\n",
       "      <td>0.275229</td>\n",
       "      <td>-0.336744</td>\n",
       "      <td>-0.20</td>\n",
       "      <td>-0.147287</td>\n",
       "      <td>0.696429</td>\n",
       "      <td>0.261902</td>\n",
       "      <td>-0.571714</td>\n",
       "      <td>0.338558</td>\n",
       "    </tr>\n",
       "    <tr>\n",
       "      <th>504</th>\n",
       "      <td>-0.040867</td>\n",
       "      <td>0.00</td>\n",
       "      <td>0.173509</td>\n",
       "      <td>0.0</td>\n",
       "      <td>0.200000</td>\n",
       "      <td>0.793360</td>\n",
       "      <td>0.240571</td>\n",
       "      <td>-0.265053</td>\n",
       "      <td>-0.20</td>\n",
       "      <td>-0.147287</td>\n",
       "      <td>0.696429</td>\n",
       "      <td>0.096414</td>\n",
       "      <td>-0.487756</td>\n",
       "      <td>0.100313</td>\n",
       "    </tr>\n",
       "    <tr>\n",
       "      <th>505</th>\n",
       "      <td>-0.058164</td>\n",
       "      <td>0.00</td>\n",
       "      <td>0.173509</td>\n",
       "      <td>0.0</td>\n",
       "      <td>0.200000</td>\n",
       "      <td>-0.241870</td>\n",
       "      <td>0.067278</td>\n",
       "      <td>-0.227459</td>\n",
       "      <td>-0.20</td>\n",
       "      <td>-0.147287</td>\n",
       "      <td>0.696429</td>\n",
       "      <td>0.261902</td>\n",
       "      <td>-0.347826</td>\n",
       "      <td>-1.166144</td>\n",
       "    </tr>\n",
       "  </tbody>\n",
       "</table>\n",
       "<p>506 rows × 14 columns</p>\n",
       "</div>"
      ],
      "text/plain": [
       "         CRIM    ZN     INDUS  CHAS       NOX        RM       AGE       DIS  \\\n",
       "0   -0.069593  1.44 -0.571650   0.0  0.000000  0.496612 -0.250765  0.285777   \n",
       "1   -0.063755  0.00 -0.202943   0.0 -0.394286  0.287940  0.028542  0.569789   \n",
       "2   -0.063760  0.00 -0.202943   0.0 -0.394286  1.323171 -0.334353  0.569789   \n",
       "3   -0.062347  0.00 -0.581720   0.0 -0.457143  1.069783 -0.646279  0.924391   \n",
       "4   -0.052144  0.00 -0.581720   0.0 -0.457143  1.271680 -0.475025  0.924391   \n",
       "..        ...   ...       ...   ...       ...       ...       ...       ...   \n",
       "501 -0.053930  0.00  0.173509   0.0  0.200000  0.521003 -0.171254 -0.236007   \n",
       "502 -0.058759  0.00  0.173509   0.0  0.200000 -0.119919 -0.016310 -0.297887   \n",
       "503 -0.054450  0.00  0.173509   0.0  0.200000  1.039973  0.275229 -0.336744   \n",
       "504 -0.040867  0.00  0.173509   0.0  0.200000  0.793360  0.240571 -0.265053   \n",
       "505 -0.058164  0.00  0.173509   0.0  0.200000 -0.241870  0.067278 -0.227459   \n",
       "\n",
       "      RAD       TAX   PTRATIO         B     LSTAT      MEDV  \n",
       "0   -0.20 -0.087855 -1.339286  0.261902 -0.637681  0.351097  \n",
       "1   -0.15 -0.227390 -0.446429  0.261902 -0.221889  0.050157  \n",
       "2   -0.15 -0.227390 -0.446429  0.066675 -0.732634  1.692790  \n",
       "3   -0.10 -0.279070 -0.125000  0.153016 -0.841579  1.529781  \n",
       "4   -0.10 -0.279070 -0.125000  0.261902 -0.602699  1.880878  \n",
       "..    ...       ...       ...       ...       ...       ...  \n",
       "501 -0.20 -0.147287  0.696429  0.026382 -0.168916  0.150470  \n",
       "502 -0.20 -0.147287  0.696429  0.261902 -0.227886 -0.075235  \n",
       "503 -0.20 -0.147287  0.696429  0.261902 -0.571714  0.338558  \n",
       "504 -0.20 -0.147287  0.696429  0.096414 -0.487756  0.100313  \n",
       "505 -0.20 -0.147287  0.696429  0.261902 -0.347826 -1.166144  \n",
       "\n",
       "[506 rows x 14 columns]"
      ]
     },
     "execution_count": 54,
     "metadata": {},
     "output_type": "execute_result"
    }
   ],
   "source": [
    "# khai báo phương pháp\n",
    "robust_scaler = RobustScaler()\n",
    "\n",
    "# áp phương pháp vào tập DL\n",
    "df_r = robust_scaler.fit_transform(boston_df)\n",
    "\n",
    "# đưa lại về dạng bảng\n",
    "df_r = pd.DataFrame(df_r, columns=colnames)\n",
    "df_r"
   ]
  },
  {
   "cell_type": "code",
   "execution_count": 55,
   "metadata": {
    "colab": {
     "base_uri": "https://localhost:8080/",
     "height": 448
    },
    "id": "wpkDipcsPopU",
    "outputId": "71631ac7-686d-4ef0-8450-933e83c10dc3"
   },
   "outputs": [
    {
     "data": {
      "text/plain": [
       "<Axes: >"
      ]
     },
     "execution_count": 55,
     "metadata": {},
     "output_type": "execute_result"
    },
    {
     "data": {
      "image/png": "[encoded data removed]",
      "text/plain": [
       "<Figure size 640x480 with 1 Axes>"
      ]
     },
     "metadata": {},
     "output_type": "display_data"
    }
   ],
   "source": [
    "df_r.boxplot()"
   ]
  },
  {
   "cell_type": "code",
   "execution_count": 56,
   "metadata": {
    "id": "8UavVe0JPp8I"
   },
   "outputs": [],
   "source": [
    "# Thao tác dữ liệu\n",
    "\n",
    "# LÀM SẠCH DỮ LIỆU\n",
    "\n",
    "# CÁC PHƯƠNG PHÁP CHUẨN HOÁ DỮ LIỆU\n",
    "\n",
    "# BÀI TẬP VỀ NHÀ: THỨ 3 -> DEADLINE: THỨ 3 TUẦN SAU - BÀI TẬP CỦA TIỀN XỬ LÝ DỮ LIỆU 1.\n",
    "\n",
    "# dinhthuytien2112@gmail.com"
   ]
  }
 ],
 "metadata": {
  "colab": {
   "provenance": []
  },
  "kernelspec": {
   "display_name": "Python 3 (ipykernel)",
   "language": "python",
   "name": "python3"
  },
  "language_info": {
   "codemirror_mode": {
    "name": "ipython",
    "version": 3
   },
   "file_extension": ".py",
   "mimetype": "text/x-python",
   "name": "python",
   "nbconvert_exporter": "python",
   "pygments_lexer": "ipython3",
   "version": "3.11.4"
  }
 },
 "nbformat": 4,
 "nbformat_minor": 4
}
