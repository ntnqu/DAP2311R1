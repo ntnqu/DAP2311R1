{
 "cells": [
  {
   "cell_type": "markdown",
   "id": "d3a210a9-e265-498a-a4f5-b05db5fe13cd",
   "metadata": {},
   "source": [
    "## Trực quan hóa cơ bản dữ liệu GDP list\n",
    "#### Mô tả\n",
    "Bộ dữ liệu GDP list.csv thống kê giá trị GDP của 125 quốc gia trên 6 châu lục. \n",
    "\n",
    "Yêu cầu:\n",
    "So sánh GDP các nước ở South America.\n",
    "\n",
    "\n",
    "Đánh giá tỉ lệ đóng góp GDP của Việt Nam trên tổng số GDP của 5 nước Đông Nam Á là Vietnam,  Indonesia, Cambodia, Thailand và Malaysia."
   ]
  },
  {
   "cell_type": "code",
   "execution_count": null,
   "id": "c8102ec1-c7b8-4d8e-8319-b9948d4e999b",
   "metadata": {},
   "outputs": [],
   "source": [
    "# Nhập thư viện"
   ]
  }
 ],
 "metadata": {
  "kernelspec": {
   "display_name": "Python 3 (ipykernel)",
   "language": "python",
   "name": "python3"
  },
  "language_info": {
   "codemirror_mode": {
    "name": "ipython",
    "version": 3
   },
   "file_extension": ".py",
   "mimetype": "text/x-python",
   "name": "python",
   "nbconvert_exporter": "python",
   "pygments_lexer": "ipython3",
   "version": "3.11.4"
  }
 },
 "nbformat": 4,
 "nbformat_minor": 5
}
